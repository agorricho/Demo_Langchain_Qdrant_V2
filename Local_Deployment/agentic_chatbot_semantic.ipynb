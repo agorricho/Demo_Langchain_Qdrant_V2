{
 "cells": [
  {
   "cell_type": "markdown",
   "id": "7fa9a4d5",
   "metadata": {},
   "source": [
    "### Import dependencies"
   ]
  },
  {
   "cell_type": "code",
   "execution_count": 1,
   "id": "1791d462",
   "metadata": {},
   "outputs": [],
   "source": [
    "import os\n",
    "from dotenv import load_dotenv\n",
    "\n",
    "from openai import OpenAI\n",
    "\n",
    "from langchain.agents import AgentExecutor\n",
    "from langchain_openai import ChatOpenAI\n",
    "from langchain_core.prompts import ChatPromptTemplate, MessagesPlaceholder\n",
    "from langchain.agents import create_tool_calling_agent\n",
    "from langchain_core.prompts import PromptTemplate\n",
    "from langchain_community.vectorstores import SupabaseVectorStore\n",
    "from langchain_openai import OpenAIEmbeddings\n",
    "from langchain import hub\n",
    "from langchain_core.tools import tool\n",
    "\n",
    "from qdrant_client import QdrantClient\n",
    "from qdrant_client.http.models import Filter, SparseVector\n",
    "from fastembed import TextEmbedding, SparseTextEmbedding\n",
    "from langchain.vectorstores import Qdrant"
   ]
  },
  {
   "cell_type": "markdown",
   "id": "caebe923",
   "metadata": {},
   "source": [
    "from llama_index.core.evaluation import SemanticSimilarityEvaluator\n",
    "\n",
    "evaluator = SemanticSimilarityEvaluator()"
   ]
  },
  {
   "cell_type": "markdown",
   "id": "c88f8d92",
   "metadata": {},
   "source": []
  },
  {
   "cell_type": "code",
   "execution_count": null,
   "id": "93d2abce",
   "metadata": {},
   "outputs": [],
   "source": []
  },
  {
   "cell_type": "code",
   "execution_count": 1,
   "id": "e0013fbc",
   "metadata": {},
   "outputs": [],
   "source": [
    "# attach to the same event-loop\n",
    "import nest_asyncio\n",
    "\n",
    "nest_asyncio.apply()"
   ]
  },
  {
   "cell_type": "code",
   "execution_count": 2,
   "id": "bb7c67b6",
   "metadata": {},
   "outputs": [],
   "source": [
    "from llama_index.core import VectorStoreIndex, SimpleDirectoryReader, Response\n",
    "from llama_index.llms.openai import OpenAI\n",
    "from llama_index.core.evaluation import (\n",
    "    FaithfulnessEvaluator,\n",
    "    RelevancyEvaluator,\n",
    "    CorrectnessEvaluator,\n",
    ")\n",
    "from llama_index.core.node_parser import SentenceSplitter\n",
    "import pandas as pd\n",
    "\n",
    "pd.set_option(\"display.max_colwidth\", 0)"
   ]
  },
  {
   "cell_type": "code",
   "execution_count": 3,
   "id": "ec8b9710",
   "metadata": {},
   "outputs": [],
   "source": [
    "documents = SimpleDirectoryReader(\"Data\").load_data()"
   ]
  },
  {
   "cell_type": "code",
   "execution_count": null,
   "id": "e9dad2fa",
   "metadata": {},
   "outputs": [],
   "source": [
    "# create vector index\n",
    "llm = OpenAI(temperature=0.3, model=\"gpt-3.5-turbo\")\n",
    "splitter = SentenceSplitter(chunk_size=512)\n",
    "vector_index = VectorStoreIndex.from_documents(\n",
    "    documents, transformations=[splitter]\n",
    ")"
   ]
  },
  {
   "cell_type": "markdown",
   "id": "362eabf2",
   "metadata": {},
   "source": [
    "### Load environment variables"
   ]
  },
  {
   "cell_type": "code",
   "execution_count": 2,
   "metadata": {},
   "outputs": [],
   "source": [
    "# Load environment variables\n",
    "load_dotenv()\n",
    "QDRANT_URL = os.getenv(\"QDRANT_URL\")\n",
    "QDRANT_API_KEY = os.getenv(\"QDRANT_API_KEY\")\n",
    "COLLECTION_NAME = os.getenv(\"QDRANT_COLLECTION_NAME\")"
   ]
  },
  {
   "cell_type": "code",
   "execution_count": 3,
   "id": "70f04f03",
   "metadata": {},
   "outputs": [
    {
     "data": {
      "application/vnd.jupyter.widget-view+json": {
       "model_id": "f39b33fd2342444fb0b6e25829e70af5",
       "version_major": 2,
       "version_minor": 0
      },
      "text/plain": [
       "Fetching 5 files:   0%|          | 0/5 [00:00<?, ?it/s]"
      ]
     },
     "metadata": {},
     "output_type": "display_data"
    },
    {
     "data": {
      "application/vnd.jupyter.widget-view+json": {
       "model_id": "3b170d224e534c69a15552028ff1f8c9",
       "version_major": 2,
       "version_minor": 0
      },
      "text/plain": [
       "special_tokens_map.json:   0%|          | 0.00/695 [00:00<?, ?B/s]"
      ]
     },
     "metadata": {},
     "output_type": "display_data"
    },
    {
     "data": {
      "application/vnd.jupyter.widget-view+json": {
       "model_id": "d7131077415e402685aab7057d96866b",
       "version_major": 2,
       "version_minor": 0
      },
      "text/plain": [
       "tokenizer_config.json: 0.00B [00:00, ?B/s]"
      ]
     },
     "metadata": {},
     "output_type": "display_data"
    },
    {
     "data": {
      "application/vnd.jupyter.widget-view+json": {
       "model_id": "919b32dbb5324ac6b9119e09986c4581",
       "version_major": 2,
       "version_minor": 0
      },
      "text/plain": [
       "config.json:   0%|          | 0.00/650 [00:00<?, ?B/s]"
      ]
     },
     "metadata": {},
     "output_type": "display_data"
    },
    {
     "data": {
      "application/vnd.jupyter.widget-view+json": {
       "model_id": "15d6527d93bb4a70a9f15d805d3070b0",
       "version_major": 2,
       "version_minor": 0
      },
      "text/plain": [
       "tokenizer.json: 0.00B [00:00, ?B/s]"
      ]
     },
     "metadata": {},
     "output_type": "display_data"
    },
    {
     "data": {
      "application/vnd.jupyter.widget-view+json": {
       "model_id": "05fe96b990c9448497f767f75b19f109",
       "version_major": 2,
       "version_minor": 0
      },
      "text/plain": [
       "model.onnx:   0%|          | 0.00/90.4M [00:00<?, ?B/s]"
      ]
     },
     "metadata": {},
     "output_type": "display_data"
    },
    {
     "data": {
      "application/vnd.jupyter.widget-view+json": {
       "model_id": "5af0fef8196142d4a457f176adf37c93",
       "version_major": 2,
       "version_minor": 0
      },
      "text/plain": [
       "Fetching 6 files:   0%|          | 0/6 [00:00<?, ?it/s]"
      ]
     },
     "metadata": {},
     "output_type": "display_data"
    },
    {
     "data": {
      "application/vnd.jupyter.widget-view+json": {
       "model_id": "7dad4eeb5ce1442da99cb320ced3d70e",
       "version_major": 2,
       "version_minor": 0
      },
      "text/plain": [
       "tokenizer_config.json: 0.00B [00:00, ?B/s]"
      ]
     },
     "metadata": {},
     "output_type": "display_data"
    },
    {
     "data": {
      "application/vnd.jupyter.widget-view+json": {
       "model_id": "f96fd145d3ce4589b1f8c433ad509fdd",
       "version_major": 2,
       "version_minor": 0
      },
      "text/plain": [
       "stopwords.txt:   0%|          | 0.00/936 [00:00<?, ?B/s]"
      ]
     },
     "metadata": {},
     "output_type": "display_data"
    },
    {
     "data": {
      "application/vnd.jupyter.widget-view+json": {
       "model_id": "fae7debd94da4b2b8c1b3c8321607ad2",
       "version_major": 2,
       "version_minor": 0
      },
      "text/plain": [
       "special_tokens_map.json:   0%|          | 0.00/695 [00:00<?, ?B/s]"
      ]
     },
     "metadata": {},
     "output_type": "display_data"
    },
    {
     "data": {
      "application/vnd.jupyter.widget-view+json": {
       "model_id": "3838757ac84e4db2b16db9a2875850ed",
       "version_major": 2,
       "version_minor": 0
      },
      "text/plain": [
       "tokenizer.json: 0.00B [00:00, ?B/s]"
      ]
     },
     "metadata": {},
     "output_type": "display_data"
    },
    {
     "data": {
      "application/vnd.jupyter.widget-view+json": {
       "model_id": "8b328d5a91d245d5a9163c8b1d8318cf",
       "version_major": 2,
       "version_minor": 0
      },
      "text/plain": [
       "config.json:   0%|          | 0.00/707 [00:00<?, ?B/s]"
      ]
     },
     "metadata": {},
     "output_type": "display_data"
    },
    {
     "data": {
      "application/vnd.jupyter.widget-view+json": {
       "model_id": "a5787206efab4c99865cd9559d3d97a6",
       "version_major": 2,
       "version_minor": 0
      },
      "text/plain": [
       "model.onnx:   0%|          | 0.00/91.0M [00:00<?, ?B/s]"
      ]
     },
     "metadata": {},
     "output_type": "display_data"
    }
   ],
   "source": [
    "# Initialize dense and sparse embedding models\n",
    "dense_model = TextEmbedding(model_name=\"sentence-transformers/all-MiniLM-L6-v2\")\n",
    "sparse_model = SparseTextEmbedding(model_name=\"Qdrant/bm42-all-minilm-l6-v2-attentions\")"
   ]
  },
  {
   "cell_type": "code",
   "execution_count": 4,
   "id": "a7c8f2cf",
   "metadata": {},
   "outputs": [
    {
     "name": "stderr",
     "output_type": "stream",
     "text": [
      "/tmp/ipykernel_5920/2748386960.py:2: UserWarning: Api key is used with an insecure connection.\n",
      "  qdrant_client = QdrantClient(\n"
     ]
    }
   ],
   "source": [
    "# Initialize Qdrant client\n",
    "qdrant_client = QdrantClient(\n",
    "    url=QDRANT_URL,\n",
    "    api_key=QDRANT_API_KEY,\n",
    ")\n"
   ]
  },
  {
   "cell_type": "code",
   "execution_count": 5,
   "id": "7eb62cbf",
   "metadata": {},
   "outputs": [],
   "source": [
    "# Initialize LLM\n",
    "llm = ChatOpenAI(temperature=0)\n"
   ]
  },
  {
   "cell_type": "code",
   "execution_count": 6,
   "id": "5dea6559",
   "metadata": {},
   "outputs": [
    {
     "name": "stderr",
     "output_type": "stream",
     "text": [
      "/home/agorricho/anaconda3/lib/python3.12/site-packages/langsmith/client.py:272: LangSmithMissingAPIKeyWarning: API key must be provided when using hosted LangSmith API\n",
      "  warnings.warn(\n"
     ]
    }
   ],
   "source": [
    "# fetch the prompt from the prompt hub\n",
    "prompt = hub.pull(\"hwchase17/openai-functions-agent\")"
   ]
  },
  {
   "cell_type": "code",
   "execution_count": 7,
   "id": "b2681946",
   "metadata": {},
   "outputs": [],
   "source": [
    "from qdrant_client import QdrantClient, models\n",
    "from langchain.agents import tool\n",
    "\n",
    "@tool(response_format=\"content_and_artifact\")\n",
    "def retrieve(query: str):\n",
    "    \"\"\"Perform hybrid (dense + sparse) search using Qdrant Query API.\"\"\"\n",
    "\n",
    "    # Generate dense and sparse embeddings\n",
    "    dense_emb = list(dense_model.embed([query]))[0]\n",
    "    sparse_emb = list(sparse_model.embed([query]))[0]\n",
    "    sparse_vector = models.SparseVector(\n",
    "        indices=sparse_emb.indices.tolist(),\n",
    "        values=sparse_emb.values.tolist()\n",
    "    )\n",
    "\n",
    "    \n",
    "    # Fusion query\n",
    "    context = qdrant_client.query_points(\n",
    "        collection_name=COLLECTION_NAME,\n",
    "        prefetch=[\n",
    "            models.Prefetch(\n",
    "                query=sparse_vector,\n",
    "                using=\"sparse\",\n",
    "                limit=20,\n",
    "            ),\n",
    "            models.Prefetch(\n",
    "                query=dense_emb,\n",
    "                using=\"dense\",\n",
    "                limit=20,\n",
    "            ),\n",
    "        ],\n",
    "        query=models.FusionQuery(fusion=models.Fusion.RRF),\n",
    "        with_payload=True,\n",
    "        # with_vector=False,\n",
    "        limit=5\n",
    "    )\n",
    "\n",
    "    # Format result\n",
    "    serialized = \"\\n\\n\".join(\n",
    "        (f\"ID: {pt.id}\\\n",
    "        \\nScore: {pt.score}\\\n",
    "        \\nText: {pt.payload['text']}\\\n",
    "        \\nSource: {pt.payload['file_name']}\\\n",
    "        \\nPage: {pt.payload['page_number']}\")\n",
    "        for pt in context.points\n",
    "    )\n",
    "\n",
    "    return serialized, context\n"
   ]
  },
  {
   "cell_type": "code",
   "execution_count": 8,
   "id": "f5b391d2",
   "metadata": {},
   "outputs": [],
   "source": [
    "query='what are the services offered'"
   ]
  },
  {
   "cell_type": "code",
   "execution_count": 9,
   "id": "0c320a0b",
   "metadata": {},
   "outputs": [
    {
     "name": "stderr",
     "output_type": "stream",
     "text": [
      "/tmp/ipykernel_5920/1996469919.py:1: LangChainDeprecationWarning: The method `BaseTool.__call__` was deprecated in langchain-core 0.1.47 and will be removed in 1.0. Use :meth:`~invoke` instead.\n",
      "  serialized = retrieve(query)\n"
     ]
    }
   ],
   "source": [
    "serialized = retrieve(query)"
   ]
  },
  {
   "cell_type": "code",
   "execution_count": 10,
   "id": "590c5be3",
   "metadata": {},
   "outputs": [
    {
     "name": "stdout",
     "output_type": "stream",
     "text": [
      "ID: 12        \n",
      "Score: 0.64285713        \n",
      "Text: In a Full-Service relationship with a dedicated ﬁnancial professional, you have access to a full suite of TIS brokerage and TAS \n",
      "investment advisory products and services. Minimum asset balance requirements apply. You have a direct relationship with\n",
      "your ﬁnancial professional for investment strategies, recommendations, and guidance speciﬁc to your needs and goals. Full- \n",
      "Service brokerage accounts are eligible to invest in equities, ﬁxed income, ETFs, mutual funds, annuities, structured products,\n",
      "alternative investments, and other securities on our Platform which TIS makes available to such accounts. \n",
      "In a Full-Service relationship with the Client Advisory Center (“CAC”), you have access to a more limited menu of TIS brokerage\n",
      "products and services from which a CAC ﬁnancial professional can make recommendations, including mutual funds, annuities,\n",
      "brokered CDs, Treasuries, structured products, and certain advisory programs oﬀered through TAS. Individualized service is \n",
      "provided by a centralized team of telephone-based ﬁnancial professionals. \n",
      "Recommendations do not include all possible investments and the availability of products and services will vary over time. TIS\n",
      "reserves the right, in its sole discretion, to determine at any time and from time to time, and with or without advance notice,\n",
      "which products and services we make available to our Full-Service brokerage accounts. We also reserve the right to reject \n",
      "transactions in our sole discretion. \n",
      "Full-Service brokerage services are more expensive than Self-Directed brokerage services and charge higher commission rates\n",
      "on securities transactions.        \n",
      "Source: tis-investing-guide.pdf        \n",
      "Page: 3\n",
      "\n",
      "ID: 117        \n",
      "Score: 0.5        \n",
      "Text: We and our Advisors have direct conflicts of interest in making \n",
      "recommendations to you in the case of Retirement Account Transactions because, if you do not engage in a Retirement \n",
      "Account Transaction and purchase our IRA retirement products and services, the Firm and your Advisor will not be \n",
      "compensated. For additional information relating to the Firm’s and our Advisors’ conflicts of interest associated with \n",
      "investment services and the investment products we offer, and other conflicts of interest, please consult our Form CRS which \n",
      "we have concurrently or previously provided to you, and this TIS Investing Guide. These documents may also be obtained \n",
      "online at (https://www.truist.com/wealth/tas-disclosure) (https://www.truist.com/wealth/tis-disclosure) or by speaking with \n",
      "your Truist Advisor. \n",
      "PLEASE NOTE, however, that our fiduciary duties and fiduciary status arising under the Retirement Account Advice Exemption\n",
      "are limited to retirement investment advice we provide to you in connection with Retirement Account Transactions and that \n",
      "this retirement investment advice fiduciary status and associated fiduciary duties do not extend to any other aspects of our\n",
      "other investment relationships with you. Instead, with regard to non- retirement account brokerage transactions, non-\n",
      "retirement investment advisory relationship and other investment relationships which are not subject to the requirements of\n",
      "the Retirement Account Advice Exemption, our investment and other duties to you are determined by the terms of our\n",
      "account agreements with you, our disclosure materials, applicable laws and regulations and other factors.        \n",
      "Source: tis-investing-guide.pdf        \n",
      "Page: 22\n",
      "\n",
      "ID: 127        \n",
      "Score: 0.3611111        \n",
      "Text: Only in-network providers can be used; out-of-network services aren’t available \n",
      "except in emergencies.\n",
      "\t For either plan, check Aetna’s website to see if your provider is in network.\n",
      "•\t Kaiser Permanente – Kaiser Permanente has a network of providers and health care \n",
      "facilities in parts of California, Colorado, the Mid‑Atlantic (Maryland, Virginia, and \n",
      "Washington, D.C.), and Pacific Northwest (Oregon and Washington). Their health care \n",
      "facilities offer many services under one roof, often including a pharmacy. You must \n",
      "choose your doctor on Healthy.KaiserPermanente.org, but you can switch to another \n",
      "network provider at any time. Your doctor and specialist will coordinate your care. \n",
      "You must use a Kaiser Permanente provider for your care to be covered (except in an \n",
      "emergency). You’ll have the option of the Kaiser EPO or Kaiser $2,500 HDHP Plan. \n",
      "Aetna narrow network, ACO, and Kaiser plans are only available in certain areas, so \n",
      "refer to your enrollment options in Workday to see if you live within their service areas.        \n",
      "Source: benefits-guide-2025.pdf        \n",
      "Page: 6\n",
      "\n",
      "ID: 1        \n",
      "Score: 0.33333334        \n",
      "Text: (“TIS”) oﬀers and conﬂicts of interest that arise through delivery of \n",
      "brokerage services to you, along with how TIS aﬃliates, including Truist Advisory Services, Inc. and Truist Bank, can interact with \n",
      "you and TIS to provide additional non-brokerage services to your account. Our goal is to help you understand the products and \n",
      "services we oﬀer, fees involved, applicable compensation, and relevant conﬂicts of interest, so that you can make informed \n",
      "investment decisions. \n",
      "Deﬁned Terms \n",
      "The information contained in this document is current as of the date above and is subject to change at our discretion. You \n",
      "should review this document carefully, retain it with your records, and refer to it when you receive recommendations from us. \n",
      "For purposes of this guide, the terms “TIS,” “we,” “us” and “our” refer to Truist Investment Services, Inc., a wholly owned \n",
      "subsidiary of Truist Financial Corporation (“TFC”). TIS is a broker-dealer registered with the U.S. Securities and Exchange \n",
      "Commission (“SEC”), a Member of the Financial Industry Regulatory Authority (“FINRA”) and the Securities Investor Protection\n",
      "Corporation (“SIPC”), and a licensed insurance agency. \n",
      "The terms “you” and “your” refer to the owner of a brokerage account (“account” or “Brokerage Account”) held with TIS. For \n",
      "joint accounts, these terms refer to all owners, collectively and individually.        \n",
      "Source: tis-investing-guide.pdf        \n",
      "Page: 1\n",
      "\n",
      "ID: 7        \n",
      "Score: 0.33333334        \n",
      "Text: offers clients several ways to avoid annual fees. For example, the IRA annual maintenance fee will be waived for \n",
      "households valued at $500,000 (or more) in brokerage assets. Please contact your financial professional for additional information. \n",
      "** Truist Investment Services, Inc. offers clients several ways to avoid annual fees. For example, the Annual Custody fee and the Truist Trade Annual \n",
      "Subscription Fee will be waived for households valued at $250,000 (or more) in applicable investment (non-deposit) assets. Please contact your financial \n",
      "professional for additional information. \n",
      "*** Excludes mutual fund exchanges and Systematic Withdrawal Plans. Fee is waived if documents are e-delivered. \n",
      "All recommendations regarding purchases or sales in your brokerage account will be made by your TIS ﬁnancial professional in \n",
      "a broker-dealer capacity only. Since brokerage and investment advisory products, services and fees diﬀer, it’s important you \n",
      "understand the diﬀerences so you can choose the account and services that are right for your needs. For more details regarding \n",
      "TAS and the investment advisory programs it oﬀers, please refer to Form CRS, Brochures, and other disclosures found at \n",
      "https://www.truist.com/wealth/tas-disclosure.        \n",
      "Source: tis-investing-guide.pdf        \n",
      "Page: 2\n"
     ]
    }
   ],
   "source": [
    "print(serialized)"
   ]
  },
  {
   "cell_type": "code",
   "execution_count": 11,
   "id": "d34a15a1",
   "metadata": {},
   "outputs": [
    {
     "data": {
      "text/plain": [
       "384"
      ]
     },
     "execution_count": 11,
     "metadata": {},
     "output_type": "execute_result"
    }
   ],
   "source": [
    "dense_emb = list(dense_model.embed([query]))[0]\n",
    "len(dense_emb)"
   ]
  },
  {
   "cell_type": "code",
   "execution_count": 12,
   "id": "8a0378d5",
   "metadata": {},
   "outputs": [
    {
     "data": {
      "text/plain": [
       "array([-0.05865774, -0.02567403,  0.02276097, -0.03343063, -0.05385467,\n",
       "        0.06762547,  0.00263454, -0.01720169,  0.0195535 , -0.01091614])"
      ]
     },
     "execution_count": 12,
     "metadata": {},
     "output_type": "execute_result"
    }
   ],
   "source": [
    "dense_emb[:10]"
   ]
  },
  {
   "cell_type": "code",
   "execution_count": 13,
   "id": "d20ae58d",
   "metadata": {},
   "outputs": [],
   "source": [
    "sparse_embedding = list(sparse_model.embed([query]))[0]"
   ]
  },
  {
   "cell_type": "code",
   "execution_count": 14,
   "id": "fd11b7a3",
   "metadata": {},
   "outputs": [
    {
     "data": {
      "text/plain": [
       "SparseEmbedding(values=array([0.34146956, 0.26927151]), indices=array([1342301861, 1401524087]))"
      ]
     },
     "execution_count": 14,
     "metadata": {},
     "output_type": "execute_result"
    }
   ],
   "source": [
    "sparse_embedding"
   ]
  },
  {
   "cell_type": "code",
   "execution_count": 15,
   "id": "c6115281",
   "metadata": {},
   "outputs": [],
   "source": [
    "# Create sparse vector\n",
    "sparse_vector = SparseVector(\n",
    "    indices=sparse_embedding.indices.tolist(),\n",
    "    values=sparse_embedding.values.tolist()\n",
    "    )"
   ]
  },
  {
   "cell_type": "code",
   "execution_count": 16,
   "id": "50041521",
   "metadata": {},
   "outputs": [
    {
     "data": {
      "text/plain": [
       "SparseVector(indices=[1342301861, 1401524087], values=[0.34146955540420515, 0.2692715119050256])"
      ]
     },
     "execution_count": 16,
     "metadata": {},
     "output_type": "execute_result"
    }
   ],
   "source": [
    "sparse_vector"
   ]
  },
  {
   "cell_type": "code",
   "execution_count": 17,
   "id": "b3830116",
   "metadata": {},
   "outputs": [],
   "source": [
    "# Fusion query\n",
    "response = qdrant_client.query_points(\n",
    "    collection_name=COLLECTION_NAME,\n",
    "    prefetch=[\n",
    "        models.Prefetch(\n",
    "            query=sparse_vector,\n",
    "            using=\"sparse\",\n",
    "            limit=20,\n",
    "        ),\n",
    "        models.Prefetch(\n",
    "            query=dense_emb,\n",
    "            using=\"dense\",\n",
    "            limit=20,\n",
    "        ),\n",
    "    ],\n",
    "    query=models.FusionQuery(fusion=models.Fusion.RRF),\n",
    "    with_payload=True,\n",
    "    # with_vector=False,\n",
    "    limit=5\n",
    ")"
   ]
  },
  {
   "cell_type": "code",
   "execution_count": 18,
   "id": "d9dd1da9",
   "metadata": {},
   "outputs": [
    {
     "data": {
      "text/plain": [
       "QueryResponse(points=[ScoredPoint(id=12, version=0, score=0.64285713, payload={'text': 'In a Full-Service relationship with a dedicated ﬁnancial professional, you have access to a full suite of TIS brokerage and TAS \\ninvestment advisory products and services. Minimum asset balance requirements apply. You have a direct relationship with\\nyour ﬁnancial professional for investment strategies, recommendations, and guidance speciﬁc to your needs and goals. Full- \\nService brokerage accounts are eligible to invest in equities, ﬁxed income, ETFs, mutual funds, annuities, structured products,\\nalternative investments, and other securities on our Platform which TIS makes available to such accounts. \\nIn a Full-Service relationship with the Client Advisory Center (“CAC”), you have access to a more limited menu of TIS brokerage\\nproducts and services from which a CAC ﬁnancial professional can make recommendations, including mutual funds, annuities,\\nbrokered CDs, Treasuries, structured products, and certain advisory programs oﬀered through TAS. Individualized service is \\nprovided by a centralized team of telephone-based ﬁnancial professionals. \\nRecommendations do not include all possible investments and the availability of products and services will vary over time. TIS\\nreserves the right, in its sole discretion, to determine at any time and from time to time, and with or without advance notice,\\nwhich products and services we make available to our Full-Service brokerage accounts. We also reserve the right to reject \\ntransactions in our sole discretion. \\nFull-Service brokerage services are more expensive than Self-Directed brokerage services and charge higher commission rates\\non securities transactions.', 'file_path': './Data/tis-investing-guide.pdf', 'file_name': 'tis-investing-guide.pdf', 'file_size': 1041415, 'file_type': 'application/pdf', 'page_number': 3, 'format': 'PDF 1.6', 'title': 'Truist Investment Services, Inc. Investing Guide June 9, 2025', 'author': 'Truist', 'subject': 'Truist Investment Services, Inc. Investing Guide June 9, 2025', 'keywords': 'ADA', 'creator': 'Acrobat PDFMaker 24 for Word', 'producer': 'Adobe PDF Library 24.5.96', 'creationDate': \"D:20250403162636-04'00'\", 'modDate': \"D:20250430131511-04'00'\", 'trapped': '', 'encryption': None}, vector=None, shard_key=None, order_value=None), ScoredPoint(id=117, version=0, score=0.5, payload={'text': 'We and our Advisors have direct conflicts of interest in making \\nrecommendations to you in the case of Retirement Account Transactions because, if you do not engage in a Retirement \\nAccount Transaction and purchase our IRA retirement products and services, the Firm and your Advisor will not be \\ncompensated. For additional information relating to the Firm’s and our Advisors’ conflicts of interest associated with \\ninvestment services and the investment products we offer, and other conflicts of interest, please consult our Form CRS which \\nwe have concurrently or previously provided to you, and this TIS Investing Guide. These documents may also be obtained \\nonline at (https://www.truist.com/wealth/tas-disclosure) (https://www.truist.com/wealth/tis-disclosure) or by speaking with \\nyour Truist Advisor. \\nPLEASE NOTE, however, that our fiduciary duties and fiduciary status arising under the Retirement Account Advice Exemption\\nare limited to retirement investment advice we provide to you in connection with Retirement Account Transactions and that \\nthis retirement investment advice fiduciary status and associated fiduciary duties do not extend to any other aspects of our\\nother investment relationships with you. Instead, with regard to non- retirement account brokerage transactions, non-\\nretirement investment advisory relationship and other investment relationships which are not subject to the requirements of\\nthe Retirement Account Advice Exemption, our investment and other duties to you are determined by the terms of our\\naccount agreements with you, our disclosure materials, applicable laws and regulations and other factors.', 'file_path': './Data/tis-investing-guide.pdf', 'file_name': 'tis-investing-guide.pdf', 'file_size': 1041415, 'file_type': 'application/pdf', 'page_number': 22, 'format': 'PDF 1.6', 'title': 'Truist Investment Services, Inc. Investing Guide June 9, 2025', 'author': 'Truist', 'subject': 'Truist Investment Services, Inc. Investing Guide June 9, 2025', 'keywords': 'ADA', 'creator': 'Acrobat PDFMaker 24 for Word', 'producer': 'Adobe PDF Library 24.5.96', 'creationDate': \"D:20250403162636-04'00'\", 'modDate': \"D:20250430131511-04'00'\", 'trapped': '', 'encryption': None}, vector=None, shard_key=None, order_value=None), ScoredPoint(id=127, version=0, score=0.3611111, payload={'text': 'Only in-network providers can be used; out-of-network services aren’t available \\nexcept in emergencies.\\n\\t For either plan, check Aetna’s website to see if your provider is in network.\\n•\\t Kaiser Permanente – Kaiser Permanente has a network of providers and health care \\nfacilities in parts of California, Colorado, the Mid‑Atlantic (Maryland, Virginia, and \\nWashington, D.C.), and Pacific Northwest (Oregon and Washington). Their health care \\nfacilities offer many services under one roof, often including a pharmacy. You must \\nchoose your doctor on Healthy.KaiserPermanente.org, but you can switch to another \\nnetwork provider at any time. Your doctor and specialist will coordinate your care. \\nYou must use a Kaiser Permanente provider for your care to be covered (except in an \\nemergency). You’ll have the option of the Kaiser EPO or Kaiser $2,500 HDHP Plan. \\nAetna narrow network, ACO, and Kaiser plans are only available in certain areas, so \\nrefer to your enrollment options in Workday to see if you live within their service areas.', 'file_path': './Data/benefits-guide-2025.pdf', 'file_name': 'benefits-guide-2025.pdf', 'file_size': 17943458, 'file_type': 'application/pdf', 'page_number': 6, 'format': 'PDF 1.7', 'title': '2025 Benefits Guide - Truist', 'author': '', 'subject': '', 'keywords': '', 'creator': 'Adobe InDesign 19.5 (Macintosh)', 'producer': 'Adobe PDF Library 17.0', 'creationDate': \"D:20241017110454-04'00'\", 'modDate': \"D:20250221091522-05'00'\", 'trapped': '', 'encryption': None}, vector=None, shard_key=None, order_value=None), ScoredPoint(id=7, version=0, score=0.33333334, payload={'text': 'offers clients several ways to avoid annual fees. For example, the IRA annual maintenance fee will be waived for \\nhouseholds valued at $500,000 (or more) in brokerage assets. Please contact your financial professional for additional information. \\n** Truist Investment Services, Inc. offers clients several ways to avoid annual fees. For example, the Annual Custody fee and the Truist Trade Annual \\nSubscription Fee will be waived for households valued at $250,000 (or more) in applicable investment (non-deposit) assets. Please contact your financial \\nprofessional for additional information. \\n*** Excludes mutual fund exchanges and Systematic Withdrawal Plans. Fee is waived if documents are e-delivered. \\nAll recommendations regarding purchases or sales in your brokerage account will be made by your TIS ﬁnancial professional in \\na broker-dealer capacity only. Since brokerage and investment advisory products, services and fees diﬀer, it’s important you \\nunderstand the diﬀerences so you can choose the account and services that are right for your needs. For more details regarding \\nTAS and the investment advisory programs it oﬀers, please refer to Form CRS, Brochures, and other disclosures found at \\nhttps://www.truist.com/wealth/tas-disclosure.', 'file_path': './Data/tis-investing-guide.pdf', 'file_name': 'tis-investing-guide.pdf', 'file_size': 1041415, 'file_type': 'application/pdf', 'page_number': 2, 'format': 'PDF 1.6', 'title': 'Truist Investment Services, Inc. Investing Guide June 9, 2025', 'author': 'Truist', 'subject': 'Truist Investment Services, Inc. Investing Guide June 9, 2025', 'keywords': 'ADA', 'creator': 'Acrobat PDFMaker 24 for Word', 'producer': 'Adobe PDF Library 24.5.96', 'creationDate': \"D:20250403162636-04'00'\", 'modDate': \"D:20250430131511-04'00'\", 'trapped': '', 'encryption': None}, vector=None, shard_key=None, order_value=None), ScoredPoint(id=1, version=0, score=0.33333334, payload={'text': '(“TIS”) oﬀers and conﬂicts of interest that arise through delivery of \\nbrokerage services to you, along with how TIS aﬃliates, including Truist Advisory Services, Inc. and Truist Bank, can interact with \\nyou and TIS to provide additional non-brokerage services to your account. Our goal is to help you understand the products and \\nservices we oﬀer, fees involved, applicable compensation, and relevant conﬂicts of interest, so that you can make informed \\ninvestment decisions. \\nDeﬁned Terms \\nThe information contained in this document is current as of the date above and is subject to change at our discretion. You \\nshould review this document carefully, retain it with your records, and refer to it when you receive recommendations from us. \\nFor purposes of this guide, the terms “TIS,” “we,” “us” and “our” refer to Truist Investment Services, Inc., a wholly owned \\nsubsidiary of Truist Financial Corporation (“TFC”). TIS is a broker-dealer registered with the U.S. Securities and Exchange \\nCommission (“SEC”), a Member of the Financial Industry Regulatory Authority (“FINRA”) and the Securities Investor Protection\\nCorporation (“SIPC”), and a licensed insurance agency. \\nThe terms “you” and “your” refer to the owner of a brokerage account (“account” or “Brokerage Account”) held with TIS. For \\njoint accounts, these terms refer to all owners, collectively and individually.', 'file_path': './Data/tis-investing-guide.pdf', 'file_name': 'tis-investing-guide.pdf', 'file_size': 1041415, 'file_type': 'application/pdf', 'page_number': 1, 'format': 'PDF 1.6', 'title': 'Truist Investment Services, Inc. Investing Guide June 9, 2025', 'author': 'Truist', 'subject': 'Truist Investment Services, Inc. Investing Guide June 9, 2025', 'keywords': 'ADA', 'creator': 'Acrobat PDFMaker 24 for Word', 'producer': 'Adobe PDF Library 24.5.96', 'creationDate': \"D:20250403162636-04'00'\", 'modDate': \"D:20250430131511-04'00'\", 'trapped': '', 'encryption': None}, vector=None, shard_key=None, order_value=None)])"
      ]
     },
     "execution_count": 18,
     "metadata": {},
     "output_type": "execute_result"
    }
   ],
   "source": [
    "response"
   ]
  },
  {
   "cell_type": "code",
   "execution_count": 19,
   "id": "d41225a5",
   "metadata": {},
   "outputs": [
    {
     "data": {
      "text/plain": [
       "5"
      ]
     },
     "execution_count": 19,
     "metadata": {},
     "output_type": "execute_result"
    }
   ],
   "source": [
    "len(response.points)"
   ]
  },
  {
   "cell_type": "code",
   "execution_count": 20,
   "id": "4fd9b1eb",
   "metadata": {},
   "outputs": [
    {
     "data": {
      "text/plain": [
       "0.33333334"
      ]
     },
     "execution_count": 20,
     "metadata": {},
     "output_type": "execute_result"
    }
   ],
   "source": [
    "response.points[4].score"
   ]
  },
  {
   "cell_type": "code",
   "execution_count": 21,
   "id": "b9d5974c",
   "metadata": {},
   "outputs": [
    {
     "name": "stdout",
     "output_type": "stream",
     "text": [
      "ID: 12     \n",
      "Score: 0.64285713     \n",
      "Text: In a Full-Service relationship with a dedicated ﬁnancial professional, you have access to a full suite of TIS brokerage and TAS \n",
      "investment advisory products and services. Minimum asset balance requirements apply. You have a direct relationship with\n",
      "your ﬁnancial professional for investment strategies, recommendations, and guidance speciﬁc to your needs and goals. Full- \n",
      "Service brokerage accounts are eligible to invest in equities, ﬁxed income, ETFs, mutual funds, annuities, structured products,\n",
      "alternative investments, and other securities on our Platform which TIS makes available to such accounts. \n",
      "In a Full-Service relationship with the Client Advisory Center (“CAC”), you have access to a more limited menu of TIS brokerage\n",
      "products and services from which a CAC ﬁnancial professional can make recommendations, including mutual funds, annuities,\n",
      "brokered CDs, Treasuries, structured products, and certain advisory programs oﬀered through TAS. Individualized service is \n",
      "provided by a centralized team of telephone-based ﬁnancial professionals. \n",
      "Recommendations do not include all possible investments and the availability of products and services will vary over time. TIS\n",
      "reserves the right, in its sole discretion, to determine at any time and from time to time, and with or without advance notice,\n",
      "which products and services we make available to our Full-Service brokerage accounts. We also reserve the right to reject \n",
      "transactions in our sole discretion. \n",
      "Full-Service brokerage services are more expensive than Self-Directed brokerage services and charge higher commission rates\n",
      "on securities transactions.     \n",
      "Source: tis-investing-guide.pdf\n",
      "\n",
      "ID: 117     \n",
      "Score: 0.5     \n",
      "Text: We and our Advisors have direct conflicts of interest in making \n",
      "recommendations to you in the case of Retirement Account Transactions because, if you do not engage in a Retirement \n",
      "Account Transaction and purchase our IRA retirement products and services, the Firm and your Advisor will not be \n",
      "compensated. For additional information relating to the Firm’s and our Advisors’ conflicts of interest associated with \n",
      "investment services and the investment products we offer, and other conflicts of interest, please consult our Form CRS which \n",
      "we have concurrently or previously provided to you, and this TIS Investing Guide. These documents may also be obtained \n",
      "online at (https://www.truist.com/wealth/tas-disclosure) (https://www.truist.com/wealth/tis-disclosure) or by speaking with \n",
      "your Truist Advisor. \n",
      "PLEASE NOTE, however, that our fiduciary duties and fiduciary status arising under the Retirement Account Advice Exemption\n",
      "are limited to retirement investment advice we provide to you in connection with Retirement Account Transactions and that \n",
      "this retirement investment advice fiduciary status and associated fiduciary duties do not extend to any other aspects of our\n",
      "other investment relationships with you. Instead, with regard to non- retirement account brokerage transactions, non-\n",
      "retirement investment advisory relationship and other investment relationships which are not subject to the requirements of\n",
      "the Retirement Account Advice Exemption, our investment and other duties to you are determined by the terms of our\n",
      "account agreements with you, our disclosure materials, applicable laws and regulations and other factors.     \n",
      "Source: tis-investing-guide.pdf\n",
      "\n",
      "ID: 127     \n",
      "Score: 0.3611111     \n",
      "Text: Only in-network providers can be used; out-of-network services aren’t available \n",
      "except in emergencies.\n",
      "\t For either plan, check Aetna’s website to see if your provider is in network.\n",
      "•\t Kaiser Permanente – Kaiser Permanente has a network of providers and health care \n",
      "facilities in parts of California, Colorado, the Mid‑Atlantic (Maryland, Virginia, and \n",
      "Washington, D.C.), and Pacific Northwest (Oregon and Washington). Their health care \n",
      "facilities offer many services under one roof, often including a pharmacy. You must \n",
      "choose your doctor on Healthy.KaiserPermanente.org, but you can switch to another \n",
      "network provider at any time. Your doctor and specialist will coordinate your care. \n",
      "You must use a Kaiser Permanente provider for your care to be covered (except in an \n",
      "emergency). You’ll have the option of the Kaiser EPO or Kaiser $2,500 HDHP Plan. \n",
      "Aetna narrow network, ACO, and Kaiser plans are only available in certain areas, so \n",
      "refer to your enrollment options in Workday to see if you live within their service areas.     \n",
      "Source: benefits-guide-2025.pdf\n",
      "\n",
      "ID: 7     \n",
      "Score: 0.33333334     \n",
      "Text: offers clients several ways to avoid annual fees. For example, the IRA annual maintenance fee will be waived for \n",
      "households valued at $500,000 (or more) in brokerage assets. Please contact your financial professional for additional information. \n",
      "** Truist Investment Services, Inc. offers clients several ways to avoid annual fees. For example, the Annual Custody fee and the Truist Trade Annual \n",
      "Subscription Fee will be waived for households valued at $250,000 (or more) in applicable investment (non-deposit) assets. Please contact your financial \n",
      "professional for additional information. \n",
      "*** Excludes mutual fund exchanges and Systematic Withdrawal Plans. Fee is waived if documents are e-delivered. \n",
      "All recommendations regarding purchases or sales in your brokerage account will be made by your TIS ﬁnancial professional in \n",
      "a broker-dealer capacity only. Since brokerage and investment advisory products, services and fees diﬀer, it’s important you \n",
      "understand the diﬀerences so you can choose the account and services that are right for your needs. For more details regarding \n",
      "TAS and the investment advisory programs it oﬀers, please refer to Form CRS, Brochures, and other disclosures found at \n",
      "https://www.truist.com/wealth/tas-disclosure.     \n",
      "Source: tis-investing-guide.pdf\n",
      "\n",
      "ID: 1     \n",
      "Score: 0.33333334     \n",
      "Text: (“TIS”) oﬀers and conﬂicts of interest that arise through delivery of \n",
      "brokerage services to you, along with how TIS aﬃliates, including Truist Advisory Services, Inc. and Truist Bank, can interact with \n",
      "you and TIS to provide additional non-brokerage services to your account. Our goal is to help you understand the products and \n",
      "services we oﬀer, fees involved, applicable compensation, and relevant conﬂicts of interest, so that you can make informed \n",
      "investment decisions. \n",
      "Deﬁned Terms \n",
      "The information contained in this document is current as of the date above and is subject to change at our discretion. You \n",
      "should review this document carefully, retain it with your records, and refer to it when you receive recommendations from us. \n",
      "For purposes of this guide, the terms “TIS,” “we,” “us” and “our” refer to Truist Investment Services, Inc., a wholly owned \n",
      "subsidiary of Truist Financial Corporation (“TFC”). TIS is a broker-dealer registered with the U.S. Securities and Exchange \n",
      "Commission (“SEC”), a Member of the Financial Industry Regulatory Authority (“FINRA”) and the Securities Investor Protection\n",
      "Corporation (“SIPC”), and a licensed insurance agency. \n",
      "The terms “you” and “your” refer to the owner of a brokerage account (“account” or “Brokerage Account”) held with TIS. For \n",
      "joint accounts, these terms refer to all owners, collectively and individually.     \n",
      "Source: tis-investing-guide.pdf\n"
     ]
    }
   ],
   "source": [
    "# Format result\n",
    "serialized_1 = \"\\n\\n\".join(\n",
    "    (f\"ID: {pt.id}\\\n",
    "     \\nScore: {pt.score}\\\n",
    "     \\nText: {pt.payload['text']}\\\n",
    "     \\nSource: {pt.payload['file_name']\\\n",
    "     }\")\n",
    "    for pt in response.points\n",
    ")\n",
    "\n",
    "print(serialized_1)"
   ]
  },
  {
   "cell_type": "code",
   "execution_count": 22,
   "id": "63659cd8",
   "metadata": {},
   "outputs": [
    {
     "name": "stdout",
     "output_type": "stream",
     "text": [
      "Source: tis-investing-guide.pdf     \n",
      "Content: In a Full-Service relationship with a dedicated ﬁnancial professional, you have access to a full suite of TIS brokerage and TAS \n",
      "investment advisory products and services. Minimum asset balance requirements apply. You have a direct relationship with\n",
      "your ﬁnancial professional for investment strategies, recommendations, and guidance speciﬁc to your needs and goals. Full- \n",
      "Service brokerage accounts are eligible to invest in equities, ﬁxed income, ETFs, mutual funds, annuities, structured products,\n",
      "alternative investments, and other securities on our Platform which TIS makes available to such accounts. \n",
      "In a Full-Service relationship with the Client Advisory Center (“CAC”), you have access to a more limited menu of TIS brokerage\n",
      "products and services from which a CAC ﬁnancial professional can make recommendations, including mutual funds, annuities,\n",
      "brokered CDs, Treasuries, structured products, and certain advisory programs oﬀered through TAS. Individualized service is \n",
      "provided by a centralized team of telephone-based ﬁnancial professionals. \n",
      "Recommendations do not include all possible investments and the availability of products and services will vary over time. TIS\n",
      "reserves the right, in its sole discretion, to determine at any time and from time to time, and with or without advance notice,\n",
      "which products and services we make available to our Full-Service brokerage accounts. We also reserve the right to reject \n",
      "transactions in our sole discretion. \n",
      "Full-Service brokerage services are more expensive than Self-Directed brokerage services and charge higher commission rates\n",
      "on securities transactions.\n",
      "\n",
      "Source: tis-investing-guide.pdf     \n",
      "Content: We and our Advisors have direct conflicts of interest in making \n",
      "recommendations to you in the case of Retirement Account Transactions because, if you do not engage in a Retirement \n",
      "Account Transaction and purchase our IRA retirement products and services, the Firm and your Advisor will not be \n",
      "compensated. For additional information relating to the Firm’s and our Advisors’ conflicts of interest associated with \n",
      "investment services and the investment products we offer, and other conflicts of interest, please consult our Form CRS which \n",
      "we have concurrently or previously provided to you, and this TIS Investing Guide. These documents may also be obtained \n",
      "online at (https://www.truist.com/wealth/tas-disclosure) (https://www.truist.com/wealth/tis-disclosure) or by speaking with \n",
      "your Truist Advisor. \n",
      "PLEASE NOTE, however, that our fiduciary duties and fiduciary status arising under the Retirement Account Advice Exemption\n",
      "are limited to retirement investment advice we provide to you in connection with Retirement Account Transactions and that \n",
      "this retirement investment advice fiduciary status and associated fiduciary duties do not extend to any other aspects of our\n",
      "other investment relationships with you. Instead, with regard to non- retirement account brokerage transactions, non-\n",
      "retirement investment advisory relationship and other investment relationships which are not subject to the requirements of\n",
      "the Retirement Account Advice Exemption, our investment and other duties to you are determined by the terms of our\n",
      "account agreements with you, our disclosure materials, applicable laws and regulations and other factors.\n",
      "\n",
      "Source: benefits-guide-2025.pdf     \n",
      "Content: Only in-network providers can be used; out-of-network services aren’t available \n",
      "except in emergencies.\n",
      "\t For either plan, check Aetna’s website to see if your provider is in network.\n",
      "•\t Kaiser Permanente – Kaiser Permanente has a network of providers and health care \n",
      "facilities in parts of California, Colorado, the Mid‑Atlantic (Maryland, Virginia, and \n",
      "Washington, D.C.), and Pacific Northwest (Oregon and Washington). Their health care \n",
      "facilities offer many services under one roof, often including a pharmacy. You must \n",
      "choose your doctor on Healthy.KaiserPermanente.org, but you can switch to another \n",
      "network provider at any time. Your doctor and specialist will coordinate your care. \n",
      "You must use a Kaiser Permanente provider for your care to be covered (except in an \n",
      "emergency). You’ll have the option of the Kaiser EPO or Kaiser $2,500 HDHP Plan. \n",
      "Aetna narrow network, ACO, and Kaiser plans are only available in certain areas, so \n",
      "refer to your enrollment options in Workday to see if you live within their service areas.\n",
      "\n",
      "Source: tis-investing-guide.pdf     \n",
      "Content: offers clients several ways to avoid annual fees. For example, the IRA annual maintenance fee will be waived for \n",
      "households valued at $500,000 (or more) in brokerage assets. Please contact your financial professional for additional information. \n",
      "** Truist Investment Services, Inc. offers clients several ways to avoid annual fees. For example, the Annual Custody fee and the Truist Trade Annual \n",
      "Subscription Fee will be waived for households valued at $250,000 (or more) in applicable investment (non-deposit) assets. Please contact your financial \n",
      "professional for additional information. \n",
      "*** Excludes mutual fund exchanges and Systematic Withdrawal Plans. Fee is waived if documents are e-delivered. \n",
      "All recommendations regarding purchases or sales in your brokerage account will be made by your TIS ﬁnancial professional in \n",
      "a broker-dealer capacity only. Since brokerage and investment advisory products, services and fees diﬀer, it’s important you \n",
      "understand the diﬀerences so you can choose the account and services that are right for your needs. For more details regarding \n",
      "TAS and the investment advisory programs it oﬀers, please refer to Form CRS, Brochures, and other disclosures found at \n",
      "https://www.truist.com/wealth/tas-disclosure.\n",
      "\n",
      "Source: tis-investing-guide.pdf     \n",
      "Content: (“TIS”) oﬀers and conﬂicts of interest that arise through delivery of \n",
      "brokerage services to you, along with how TIS aﬃliates, including Truist Advisory Services, Inc. and Truist Bank, can interact with \n",
      "you and TIS to provide additional non-brokerage services to your account. Our goal is to help you understand the products and \n",
      "services we oﬀer, fees involved, applicable compensation, and relevant conﬂicts of interest, so that you can make informed \n",
      "investment decisions. \n",
      "Deﬁned Terms \n",
      "The information contained in this document is current as of the date above and is subject to change at our discretion. You \n",
      "should review this document carefully, retain it with your records, and refer to it when you receive recommendations from us. \n",
      "For purposes of this guide, the terms “TIS,” “we,” “us” and “our” refer to Truist Investment Services, Inc., a wholly owned \n",
      "subsidiary of Truist Financial Corporation (“TFC”). TIS is a broker-dealer registered with the U.S. Securities and Exchange \n",
      "Commission (“SEC”), a Member of the Financial Industry Regulatory Authority (“FINRA”) and the Securities Investor Protection\n",
      "Corporation (“SIPC”), and a licensed insurance agency. \n",
      "The terms “you” and “your” refer to the owner of a brokerage account (“account” or “Brokerage Account”) held with TIS. For \n",
      "joint accounts, these terms refer to all owners, collectively and individually.\n"
     ]
    }
   ],
   "source": [
    "serialized_2 = \"\\n\\n\".join(\n",
    "    (f\"Source: {pt.payload['file_name']}\\\n",
    "     \\n\" f\"Content: {pt.payload['text']}\")\n",
    "    for pt in response.points\n",
    "    )\n",
    "\n",
    "print(serialized_2)"
   ]
  },
  {
   "cell_type": "code",
   "execution_count": 23,
   "id": "36a81606",
   "metadata": {},
   "outputs": [],
   "source": [
    "# combine the tools and provide to the llm\n",
    "tools = [retrieve]\n",
    "agent = create_tool_calling_agent(llm, tools, prompt)\n",
    "\n",
    "# create the agent executor\n",
    "agent_executor = AgentExecutor(agent=agent, tools=tools, verbose=True)"
   ]
  },
  {
   "cell_type": "code",
   "execution_count": 24,
   "id": "0b88f78c",
   "metadata": {},
   "outputs": [
    {
     "name": "stdout",
     "output_type": "stream",
     "text": [
      "\n",
      "\n",
      "\u001b[1m> Entering new AgentExecutor chain...\u001b[0m\n"
     ]
    },
    {
     "ename": "AuthenticationError",
     "evalue": "Error code: 401 - {'error': {'message': 'Incorrect API key provided: sk-proj-********************************************0ThB. You can find your API key at https://platform.openai.com/account/api-keys.', 'type': 'invalid_request_error', 'param': None, 'code': 'invalid_api_key'}}",
     "output_type": "error",
     "traceback": [
      "\u001b[0;31m---------------------------------------------------------------------------\u001b[0m",
      "\u001b[0;31mAuthenticationError\u001b[0m                       Traceback (most recent call last)",
      "Cell \u001b[0;32mIn[24], line 2\u001b[0m\n\u001b[1;32m      1\u001b[0m \u001b[38;5;66;03m# invoke the agent\u001b[39;00m\n\u001b[0;32m----> 2\u001b[0m response \u001b[38;5;241m=\u001b[39m agent_executor\u001b[38;5;241m.\u001b[39minvoke({\u001b[38;5;124m\"\u001b[39m\u001b[38;5;124minput\u001b[39m\u001b[38;5;124m\"\u001b[39m: \u001b[38;5;124m\"\u001b[39m\u001b[38;5;124mwhich are the services offered by the company?\u001b[39m\u001b[38;5;124m\"\u001b[39m})\n",
      "File \u001b[0;32m~/anaconda3/lib/python3.12/site-packages/langchain/chains/base.py:167\u001b[0m, in \u001b[0;36mChain.invoke\u001b[0;34m(self, input, config, **kwargs)\u001b[0m\n\u001b[1;32m    165\u001b[0m \u001b[38;5;28;01mexcept\u001b[39;00m \u001b[38;5;167;01mBaseException\u001b[39;00m \u001b[38;5;28;01mas\u001b[39;00m e:\n\u001b[1;32m    166\u001b[0m     run_manager\u001b[38;5;241m.\u001b[39mon_chain_error(e)\n\u001b[0;32m--> 167\u001b[0m     \u001b[38;5;28;01mraise\u001b[39;00m e\n\u001b[1;32m    168\u001b[0m run_manager\u001b[38;5;241m.\u001b[39mon_chain_end(outputs)\n\u001b[1;32m    170\u001b[0m \u001b[38;5;28;01mif\u001b[39;00m include_run_info:\n",
      "File \u001b[0;32m~/anaconda3/lib/python3.12/site-packages/langchain/chains/base.py:157\u001b[0m, in \u001b[0;36mChain.invoke\u001b[0;34m(self, input, config, **kwargs)\u001b[0m\n\u001b[1;32m    154\u001b[0m \u001b[38;5;28;01mtry\u001b[39;00m:\n\u001b[1;32m    155\u001b[0m     \u001b[38;5;28mself\u001b[39m\u001b[38;5;241m.\u001b[39m_validate_inputs(inputs)\n\u001b[1;32m    156\u001b[0m     outputs \u001b[38;5;241m=\u001b[39m (\n\u001b[0;32m--> 157\u001b[0m         \u001b[38;5;28mself\u001b[39m\u001b[38;5;241m.\u001b[39m_call(inputs, run_manager\u001b[38;5;241m=\u001b[39mrun_manager)\n\u001b[1;32m    158\u001b[0m         \u001b[38;5;28;01mif\u001b[39;00m new_arg_supported\n\u001b[1;32m    159\u001b[0m         \u001b[38;5;28;01melse\u001b[39;00m \u001b[38;5;28mself\u001b[39m\u001b[38;5;241m.\u001b[39m_call(inputs)\n\u001b[1;32m    160\u001b[0m     )\n\u001b[1;32m    162\u001b[0m     final_outputs: \u001b[38;5;28mdict\u001b[39m[\u001b[38;5;28mstr\u001b[39m, Any] \u001b[38;5;241m=\u001b[39m \u001b[38;5;28mself\u001b[39m\u001b[38;5;241m.\u001b[39mprep_outputs(\n\u001b[1;32m    163\u001b[0m         inputs, outputs, return_only_outputs\n\u001b[1;32m    164\u001b[0m     )\n\u001b[1;32m    165\u001b[0m \u001b[38;5;28;01mexcept\u001b[39;00m \u001b[38;5;167;01mBaseException\u001b[39;00m \u001b[38;5;28;01mas\u001b[39;00m e:\n",
      "File \u001b[0;32m~/anaconda3/lib/python3.12/site-packages/langchain/agents/agent.py:1620\u001b[0m, in \u001b[0;36mAgentExecutor._call\u001b[0;34m(self, inputs, run_manager)\u001b[0m\n\u001b[1;32m   1618\u001b[0m \u001b[38;5;66;03m# We now enter the agent loop (until it returns something).\u001b[39;00m\n\u001b[1;32m   1619\u001b[0m \u001b[38;5;28;01mwhile\u001b[39;00m \u001b[38;5;28mself\u001b[39m\u001b[38;5;241m.\u001b[39m_should_continue(iterations, time_elapsed):\n\u001b[0;32m-> 1620\u001b[0m     next_step_output \u001b[38;5;241m=\u001b[39m \u001b[38;5;28mself\u001b[39m\u001b[38;5;241m.\u001b[39m_take_next_step(\n\u001b[1;32m   1621\u001b[0m         name_to_tool_map,\n\u001b[1;32m   1622\u001b[0m         color_mapping,\n\u001b[1;32m   1623\u001b[0m         inputs,\n\u001b[1;32m   1624\u001b[0m         intermediate_steps,\n\u001b[1;32m   1625\u001b[0m         run_manager\u001b[38;5;241m=\u001b[39mrun_manager,\n\u001b[1;32m   1626\u001b[0m     )\n\u001b[1;32m   1627\u001b[0m     \u001b[38;5;28;01mif\u001b[39;00m \u001b[38;5;28misinstance\u001b[39m(next_step_output, AgentFinish):\n\u001b[1;32m   1628\u001b[0m         \u001b[38;5;28;01mreturn\u001b[39;00m \u001b[38;5;28mself\u001b[39m\u001b[38;5;241m.\u001b[39m_return(\n\u001b[1;32m   1629\u001b[0m             next_step_output, intermediate_steps, run_manager\u001b[38;5;241m=\u001b[39mrun_manager\n\u001b[1;32m   1630\u001b[0m         )\n",
      "File \u001b[0;32m~/anaconda3/lib/python3.12/site-packages/langchain/agents/agent.py:1328\u001b[0m, in \u001b[0;36mAgentExecutor._take_next_step\u001b[0;34m(self, name_to_tool_map, color_mapping, inputs, intermediate_steps, run_manager)\u001b[0m\n\u001b[1;32m   1317\u001b[0m \u001b[38;5;28;01mdef\u001b[39;00m \u001b[38;5;21m_take_next_step\u001b[39m(\n\u001b[1;32m   1318\u001b[0m     \u001b[38;5;28mself\u001b[39m,\n\u001b[1;32m   1319\u001b[0m     name_to_tool_map: \u001b[38;5;28mdict\u001b[39m[\u001b[38;5;28mstr\u001b[39m, BaseTool],\n\u001b[0;32m   (...)\u001b[0m\n\u001b[1;32m   1323\u001b[0m     run_manager: Optional[CallbackManagerForChainRun] \u001b[38;5;241m=\u001b[39m \u001b[38;5;28;01mNone\u001b[39;00m,\n\u001b[1;32m   1324\u001b[0m ) \u001b[38;5;241m-\u001b[39m\u001b[38;5;241m>\u001b[39m Union[AgentFinish, \u001b[38;5;28mlist\u001b[39m[\u001b[38;5;28mtuple\u001b[39m[AgentAction, \u001b[38;5;28mstr\u001b[39m]]]:\n\u001b[1;32m   1325\u001b[0m     \u001b[38;5;28;01mreturn\u001b[39;00m \u001b[38;5;28mself\u001b[39m\u001b[38;5;241m.\u001b[39m_consume_next_step(\n\u001b[1;32m   1326\u001b[0m         [\n\u001b[1;32m   1327\u001b[0m             a\n\u001b[0;32m-> 1328\u001b[0m             \u001b[38;5;28;01mfor\u001b[39;00m a \u001b[38;5;129;01min\u001b[39;00m \u001b[38;5;28mself\u001b[39m\u001b[38;5;241m.\u001b[39m_iter_next_step(\n\u001b[1;32m   1329\u001b[0m                 name_to_tool_map,\n\u001b[1;32m   1330\u001b[0m                 color_mapping,\n\u001b[1;32m   1331\u001b[0m                 inputs,\n\u001b[1;32m   1332\u001b[0m                 intermediate_steps,\n\u001b[1;32m   1333\u001b[0m                 run_manager,\n\u001b[1;32m   1334\u001b[0m             )\n\u001b[1;32m   1335\u001b[0m         ]\n\u001b[1;32m   1336\u001b[0m     )\n",
      "File \u001b[0;32m~/anaconda3/lib/python3.12/site-packages/langchain/agents/agent.py:1354\u001b[0m, in \u001b[0;36mAgentExecutor._iter_next_step\u001b[0;34m(self, name_to_tool_map, color_mapping, inputs, intermediate_steps, run_manager)\u001b[0m\n\u001b[1;32m   1351\u001b[0m     intermediate_steps \u001b[38;5;241m=\u001b[39m \u001b[38;5;28mself\u001b[39m\u001b[38;5;241m.\u001b[39m_prepare_intermediate_steps(intermediate_steps)\n\u001b[1;32m   1353\u001b[0m     \u001b[38;5;66;03m# Call the LLM to see what to do.\u001b[39;00m\n\u001b[0;32m-> 1354\u001b[0m     output \u001b[38;5;241m=\u001b[39m \u001b[38;5;28mself\u001b[39m\u001b[38;5;241m.\u001b[39m_action_agent\u001b[38;5;241m.\u001b[39mplan(\n\u001b[1;32m   1355\u001b[0m         intermediate_steps,\n\u001b[1;32m   1356\u001b[0m         callbacks\u001b[38;5;241m=\u001b[39mrun_manager\u001b[38;5;241m.\u001b[39mget_child() \u001b[38;5;28;01mif\u001b[39;00m run_manager \u001b[38;5;28;01melse\u001b[39;00m \u001b[38;5;28;01mNone\u001b[39;00m,\n\u001b[1;32m   1357\u001b[0m         \u001b[38;5;241m*\u001b[39m\u001b[38;5;241m*\u001b[39minputs,\n\u001b[1;32m   1358\u001b[0m     )\n\u001b[1;32m   1359\u001b[0m \u001b[38;5;28;01mexcept\u001b[39;00m OutputParserException \u001b[38;5;28;01mas\u001b[39;00m e:\n\u001b[1;32m   1360\u001b[0m     \u001b[38;5;28;01mif\u001b[39;00m \u001b[38;5;28misinstance\u001b[39m(\u001b[38;5;28mself\u001b[39m\u001b[38;5;241m.\u001b[39mhandle_parsing_errors, \u001b[38;5;28mbool\u001b[39m):\n",
      "File \u001b[0;32m~/anaconda3/lib/python3.12/site-packages/langchain/agents/agent.py:577\u001b[0m, in \u001b[0;36mRunnableMultiActionAgent.plan\u001b[0;34m(self, intermediate_steps, callbacks, **kwargs)\u001b[0m\n\u001b[1;32m    569\u001b[0m final_output: Any \u001b[38;5;241m=\u001b[39m \u001b[38;5;28;01mNone\u001b[39;00m\n\u001b[1;32m    570\u001b[0m \u001b[38;5;28;01mif\u001b[39;00m \u001b[38;5;28mself\u001b[39m\u001b[38;5;241m.\u001b[39mstream_runnable:\n\u001b[1;32m    571\u001b[0m     \u001b[38;5;66;03m# Use streaming to make sure that the underlying LLM is invoked in a\u001b[39;00m\n\u001b[1;32m    572\u001b[0m     \u001b[38;5;66;03m# streaming\u001b[39;00m\n\u001b[0;32m   (...)\u001b[0m\n\u001b[1;32m    575\u001b[0m     \u001b[38;5;66;03m# Because the response from the plan is not a generator, we need to\u001b[39;00m\n\u001b[1;32m    576\u001b[0m     \u001b[38;5;66;03m# accumulate the output into final output and return that.\u001b[39;00m\n\u001b[0;32m--> 577\u001b[0m     \u001b[38;5;28;01mfor\u001b[39;00m chunk \u001b[38;5;129;01min\u001b[39;00m \u001b[38;5;28mself\u001b[39m\u001b[38;5;241m.\u001b[39mrunnable\u001b[38;5;241m.\u001b[39mstream(inputs, config\u001b[38;5;241m=\u001b[39m{\u001b[38;5;124m\"\u001b[39m\u001b[38;5;124mcallbacks\u001b[39m\u001b[38;5;124m\"\u001b[39m: callbacks}):\n\u001b[1;32m    578\u001b[0m         \u001b[38;5;28;01mif\u001b[39;00m final_output \u001b[38;5;129;01mis\u001b[39;00m \u001b[38;5;28;01mNone\u001b[39;00m:\n\u001b[1;32m    579\u001b[0m             final_output \u001b[38;5;241m=\u001b[39m chunk\n",
      "File \u001b[0;32m~/anaconda3/lib/python3.12/site-packages/langchain_core/runnables/base.py:3438\u001b[0m, in \u001b[0;36mRunnableSequence.stream\u001b[0;34m(self, input, config, **kwargs)\u001b[0m\n\u001b[1;32m   3431\u001b[0m \u001b[38;5;129m@override\u001b[39m\n\u001b[1;32m   3432\u001b[0m \u001b[38;5;28;01mdef\u001b[39;00m \u001b[38;5;21mstream\u001b[39m(\n\u001b[1;32m   3433\u001b[0m     \u001b[38;5;28mself\u001b[39m,\n\u001b[0;32m   (...)\u001b[0m\n\u001b[1;32m   3436\u001b[0m     \u001b[38;5;241m*\u001b[39m\u001b[38;5;241m*\u001b[39mkwargs: Optional[Any],\n\u001b[1;32m   3437\u001b[0m ) \u001b[38;5;241m-\u001b[39m\u001b[38;5;241m>\u001b[39m Iterator[Output]:\n\u001b[0;32m-> 3438\u001b[0m     \u001b[38;5;28;01myield from\u001b[39;00m \u001b[38;5;28mself\u001b[39m\u001b[38;5;241m.\u001b[39mtransform(\u001b[38;5;28miter\u001b[39m([\u001b[38;5;28minput\u001b[39m]), config, \u001b[38;5;241m*\u001b[39m\u001b[38;5;241m*\u001b[39mkwargs)\n",
      "File \u001b[0;32m~/anaconda3/lib/python3.12/site-packages/langchain_core/runnables/base.py:3424\u001b[0m, in \u001b[0;36mRunnableSequence.transform\u001b[0;34m(self, input, config, **kwargs)\u001b[0m\n\u001b[1;32m   3417\u001b[0m \u001b[38;5;129m@override\u001b[39m\n\u001b[1;32m   3418\u001b[0m \u001b[38;5;28;01mdef\u001b[39;00m \u001b[38;5;21mtransform\u001b[39m(\n\u001b[1;32m   3419\u001b[0m     \u001b[38;5;28mself\u001b[39m,\n\u001b[0;32m   (...)\u001b[0m\n\u001b[1;32m   3422\u001b[0m     \u001b[38;5;241m*\u001b[39m\u001b[38;5;241m*\u001b[39mkwargs: Optional[Any],\n\u001b[1;32m   3423\u001b[0m ) \u001b[38;5;241m-\u001b[39m\u001b[38;5;241m>\u001b[39m Iterator[Output]:\n\u001b[0;32m-> 3424\u001b[0m     \u001b[38;5;28;01myield from\u001b[39;00m \u001b[38;5;28mself\u001b[39m\u001b[38;5;241m.\u001b[39m_transform_stream_with_config(\n\u001b[1;32m   3425\u001b[0m         \u001b[38;5;28minput\u001b[39m,\n\u001b[1;32m   3426\u001b[0m         \u001b[38;5;28mself\u001b[39m\u001b[38;5;241m.\u001b[39m_transform,\n\u001b[1;32m   3427\u001b[0m         patch_config(config, run_name\u001b[38;5;241m=\u001b[39m(config \u001b[38;5;129;01mor\u001b[39;00m {})\u001b[38;5;241m.\u001b[39mget(\u001b[38;5;124m\"\u001b[39m\u001b[38;5;124mrun_name\u001b[39m\u001b[38;5;124m\"\u001b[39m) \u001b[38;5;129;01mor\u001b[39;00m \u001b[38;5;28mself\u001b[39m\u001b[38;5;241m.\u001b[39mname),\n\u001b[1;32m   3428\u001b[0m         \u001b[38;5;241m*\u001b[39m\u001b[38;5;241m*\u001b[39mkwargs,\n\u001b[1;32m   3429\u001b[0m     )\n",
      "File \u001b[0;32m~/anaconda3/lib/python3.12/site-packages/langchain_core/runnables/base.py:2215\u001b[0m, in \u001b[0;36mRunnable._transform_stream_with_config\u001b[0;34m(self, inputs, transformer, config, run_type, **kwargs)\u001b[0m\n\u001b[1;32m   2213\u001b[0m \u001b[38;5;28;01mtry\u001b[39;00m:\n\u001b[1;32m   2214\u001b[0m     \u001b[38;5;28;01mwhile\u001b[39;00m \u001b[38;5;28;01mTrue\u001b[39;00m:\n\u001b[0;32m-> 2215\u001b[0m         chunk: Output \u001b[38;5;241m=\u001b[39m context\u001b[38;5;241m.\u001b[39mrun(\u001b[38;5;28mnext\u001b[39m, iterator)\n\u001b[1;32m   2216\u001b[0m         \u001b[38;5;28;01myield\u001b[39;00m chunk\n\u001b[1;32m   2217\u001b[0m         \u001b[38;5;28;01mif\u001b[39;00m final_output_supported:\n",
      "File \u001b[0;32m~/anaconda3/lib/python3.12/site-packages/langchain_core/runnables/base.py:3386\u001b[0m, in \u001b[0;36mRunnableSequence._transform\u001b[0;34m(self, inputs, run_manager, config, **kwargs)\u001b[0m\n\u001b[1;32m   3383\u001b[0m     \u001b[38;5;28;01melse\u001b[39;00m:\n\u001b[1;32m   3384\u001b[0m         final_pipeline \u001b[38;5;241m=\u001b[39m step\u001b[38;5;241m.\u001b[39mtransform(final_pipeline, config)\n\u001b[0;32m-> 3386\u001b[0m \u001b[38;5;28;01myield from\u001b[39;00m final_pipeline\n",
      "File \u001b[0;32m~/anaconda3/lib/python3.12/site-packages/langchain_core/runnables/base.py:1429\u001b[0m, in \u001b[0;36mRunnable.transform\u001b[0;34m(self, input, config, **kwargs)\u001b[0m\n\u001b[1;32m   1426\u001b[0m final: Input\n\u001b[1;32m   1427\u001b[0m got_first_val \u001b[38;5;241m=\u001b[39m \u001b[38;5;28;01mFalse\u001b[39;00m\n\u001b[0;32m-> 1429\u001b[0m \u001b[38;5;28;01mfor\u001b[39;00m ichunk \u001b[38;5;129;01min\u001b[39;00m \u001b[38;5;28minput\u001b[39m:\n\u001b[1;32m   1430\u001b[0m     \u001b[38;5;66;03m# The default implementation of transform is to buffer input and\u001b[39;00m\n\u001b[1;32m   1431\u001b[0m     \u001b[38;5;66;03m# then call stream.\u001b[39;00m\n\u001b[1;32m   1432\u001b[0m     \u001b[38;5;66;03m# It'll attempt to gather all input into a single chunk using\u001b[39;00m\n\u001b[1;32m   1433\u001b[0m     \u001b[38;5;66;03m# the `+` operator.\u001b[39;00m\n\u001b[1;32m   1434\u001b[0m     \u001b[38;5;66;03m# If the input is not addable, then we'll assume that we can\u001b[39;00m\n\u001b[1;32m   1435\u001b[0m     \u001b[38;5;66;03m# only operate on the last chunk,\u001b[39;00m\n\u001b[1;32m   1436\u001b[0m     \u001b[38;5;66;03m# and we'll iterate until we get to the last chunk.\u001b[39;00m\n\u001b[1;32m   1437\u001b[0m     \u001b[38;5;28;01mif\u001b[39;00m \u001b[38;5;129;01mnot\u001b[39;00m got_first_val:\n\u001b[1;32m   1438\u001b[0m         final \u001b[38;5;241m=\u001b[39m ichunk\n",
      "File \u001b[0;32m~/anaconda3/lib/python3.12/site-packages/langchain_core/runnables/base.py:5647\u001b[0m, in \u001b[0;36mRunnableBindingBase.transform\u001b[0;34m(self, input, config, **kwargs)\u001b[0m\n\u001b[1;32m   5640\u001b[0m \u001b[38;5;129m@override\u001b[39m\n\u001b[1;32m   5641\u001b[0m \u001b[38;5;28;01mdef\u001b[39;00m \u001b[38;5;21mtransform\u001b[39m(\n\u001b[1;32m   5642\u001b[0m     \u001b[38;5;28mself\u001b[39m,\n\u001b[0;32m   (...)\u001b[0m\n\u001b[1;32m   5645\u001b[0m     \u001b[38;5;241m*\u001b[39m\u001b[38;5;241m*\u001b[39mkwargs: Any,\n\u001b[1;32m   5646\u001b[0m ) \u001b[38;5;241m-\u001b[39m\u001b[38;5;241m>\u001b[39m Iterator[Output]:\n\u001b[0;32m-> 5647\u001b[0m     \u001b[38;5;28;01myield from\u001b[39;00m \u001b[38;5;28mself\u001b[39m\u001b[38;5;241m.\u001b[39mbound\u001b[38;5;241m.\u001b[39mtransform(\n\u001b[1;32m   5648\u001b[0m         \u001b[38;5;28minput\u001b[39m,\n\u001b[1;32m   5649\u001b[0m         \u001b[38;5;28mself\u001b[39m\u001b[38;5;241m.\u001b[39m_merge_configs(config),\n\u001b[1;32m   5650\u001b[0m         \u001b[38;5;241m*\u001b[39m\u001b[38;5;241m*\u001b[39m{\u001b[38;5;241m*\u001b[39m\u001b[38;5;241m*\u001b[39m\u001b[38;5;28mself\u001b[39m\u001b[38;5;241m.\u001b[39mkwargs, \u001b[38;5;241m*\u001b[39m\u001b[38;5;241m*\u001b[39mkwargs},\n\u001b[1;32m   5651\u001b[0m     )\n",
      "File \u001b[0;32m~/anaconda3/lib/python3.12/site-packages/langchain_core/runnables/base.py:1447\u001b[0m, in \u001b[0;36mRunnable.transform\u001b[0;34m(self, input, config, **kwargs)\u001b[0m\n\u001b[1;32m   1444\u001b[0m             final \u001b[38;5;241m=\u001b[39m ichunk\n\u001b[1;32m   1446\u001b[0m \u001b[38;5;28;01mif\u001b[39;00m got_first_val:\n\u001b[0;32m-> 1447\u001b[0m     \u001b[38;5;28;01myield from\u001b[39;00m \u001b[38;5;28mself\u001b[39m\u001b[38;5;241m.\u001b[39mstream(final, config, \u001b[38;5;241m*\u001b[39m\u001b[38;5;241m*\u001b[39mkwargs)\n",
      "File \u001b[0;32m~/anaconda3/lib/python3.12/site-packages/langchain_core/language_models/chat_models.py:499\u001b[0m, in \u001b[0;36mBaseChatModel.stream\u001b[0;34m(self, input, config, stop, **kwargs)\u001b[0m\n\u001b[1;32m    497\u001b[0m input_messages \u001b[38;5;241m=\u001b[39m _normalize_messages(messages)\n\u001b[1;32m    498\u001b[0m run_id \u001b[38;5;241m=\u001b[39m \u001b[38;5;124m\"\u001b[39m\u001b[38;5;124m-\u001b[39m\u001b[38;5;124m\"\u001b[39m\u001b[38;5;241m.\u001b[39mjoin((_LC_ID_PREFIX, \u001b[38;5;28mstr\u001b[39m(run_manager\u001b[38;5;241m.\u001b[39mrun_id)))\n\u001b[0;32m--> 499\u001b[0m \u001b[38;5;28;01mfor\u001b[39;00m chunk \u001b[38;5;129;01min\u001b[39;00m \u001b[38;5;28mself\u001b[39m\u001b[38;5;241m.\u001b[39m_stream(input_messages, stop\u001b[38;5;241m=\u001b[39mstop, \u001b[38;5;241m*\u001b[39m\u001b[38;5;241m*\u001b[39mkwargs):\n\u001b[1;32m    500\u001b[0m     \u001b[38;5;28;01mif\u001b[39;00m chunk\u001b[38;5;241m.\u001b[39mmessage\u001b[38;5;241m.\u001b[39mid \u001b[38;5;129;01mis\u001b[39;00m \u001b[38;5;28;01mNone\u001b[39;00m:\n\u001b[1;32m    501\u001b[0m         chunk\u001b[38;5;241m.\u001b[39mmessage\u001b[38;5;241m.\u001b[39mid \u001b[38;5;241m=\u001b[39m run_id\n",
      "File \u001b[0;32m~/anaconda3/lib/python3.12/site-packages/langchain_openai/chat_models/base.py:987\u001b[0m, in \u001b[0;36mBaseChatOpenAI._stream\u001b[0;34m(self, messages, stop, run_manager, stream_usage, **kwargs)\u001b[0m\n\u001b[1;32m    985\u001b[0m         base_generation_info \u001b[38;5;241m=\u001b[39m {\u001b[38;5;124m\"\u001b[39m\u001b[38;5;124mheaders\u001b[39m\u001b[38;5;124m\"\u001b[39m: \u001b[38;5;28mdict\u001b[39m(raw_response\u001b[38;5;241m.\u001b[39mheaders)}\n\u001b[1;32m    986\u001b[0m     \u001b[38;5;28;01melse\u001b[39;00m:\n\u001b[0;32m--> 987\u001b[0m         response \u001b[38;5;241m=\u001b[39m \u001b[38;5;28mself\u001b[39m\u001b[38;5;241m.\u001b[39mclient\u001b[38;5;241m.\u001b[39mcreate(\u001b[38;5;241m*\u001b[39m\u001b[38;5;241m*\u001b[39mpayload)\n\u001b[1;32m    988\u001b[0m     context_manager \u001b[38;5;241m=\u001b[39m response\n\u001b[1;32m    989\u001b[0m \u001b[38;5;28;01mtry\u001b[39;00m:\n",
      "File \u001b[0;32m~/anaconda3/lib/python3.12/site-packages/openai/_utils/_utils.py:287\u001b[0m, in \u001b[0;36mrequired_args.<locals>.inner.<locals>.wrapper\u001b[0;34m(*args, **kwargs)\u001b[0m\n\u001b[1;32m    285\u001b[0m             msg \u001b[38;5;241m=\u001b[39m \u001b[38;5;124mf\u001b[39m\u001b[38;5;124m\"\u001b[39m\u001b[38;5;124mMissing required argument: \u001b[39m\u001b[38;5;132;01m{\u001b[39;00mquote(missing[\u001b[38;5;241m0\u001b[39m])\u001b[38;5;132;01m}\u001b[39;00m\u001b[38;5;124m\"\u001b[39m\n\u001b[1;32m    286\u001b[0m     \u001b[38;5;28;01mraise\u001b[39;00m \u001b[38;5;167;01mTypeError\u001b[39;00m(msg)\n\u001b[0;32m--> 287\u001b[0m \u001b[38;5;28;01mreturn\u001b[39;00m func(\u001b[38;5;241m*\u001b[39margs, \u001b[38;5;241m*\u001b[39m\u001b[38;5;241m*\u001b[39mkwargs)\n",
      "File \u001b[0;32m~/anaconda3/lib/python3.12/site-packages/openai/resources/chat/completions/completions.py:925\u001b[0m, in \u001b[0;36mCompletions.create\u001b[0;34m(self, messages, model, audio, frequency_penalty, function_call, functions, logit_bias, logprobs, max_completion_tokens, max_tokens, metadata, modalities, n, parallel_tool_calls, prediction, presence_penalty, reasoning_effort, response_format, seed, service_tier, stop, store, stream, stream_options, temperature, tool_choice, tools, top_logprobs, top_p, user, web_search_options, extra_headers, extra_query, extra_body, timeout)\u001b[0m\n\u001b[1;32m    882\u001b[0m \u001b[38;5;129m@required_args\u001b[39m([\u001b[38;5;124m\"\u001b[39m\u001b[38;5;124mmessages\u001b[39m\u001b[38;5;124m\"\u001b[39m, \u001b[38;5;124m\"\u001b[39m\u001b[38;5;124mmodel\u001b[39m\u001b[38;5;124m\"\u001b[39m], [\u001b[38;5;124m\"\u001b[39m\u001b[38;5;124mmessages\u001b[39m\u001b[38;5;124m\"\u001b[39m, \u001b[38;5;124m\"\u001b[39m\u001b[38;5;124mmodel\u001b[39m\u001b[38;5;124m\"\u001b[39m, \u001b[38;5;124m\"\u001b[39m\u001b[38;5;124mstream\u001b[39m\u001b[38;5;124m\"\u001b[39m])\n\u001b[1;32m    883\u001b[0m \u001b[38;5;28;01mdef\u001b[39;00m \u001b[38;5;21mcreate\u001b[39m(\n\u001b[1;32m    884\u001b[0m     \u001b[38;5;28mself\u001b[39m,\n\u001b[0;32m   (...)\u001b[0m\n\u001b[1;32m    922\u001b[0m     timeout: \u001b[38;5;28mfloat\u001b[39m \u001b[38;5;241m|\u001b[39m httpx\u001b[38;5;241m.\u001b[39mTimeout \u001b[38;5;241m|\u001b[39m \u001b[38;5;28;01mNone\u001b[39;00m \u001b[38;5;241m|\u001b[39m NotGiven \u001b[38;5;241m=\u001b[39m NOT_GIVEN,\n\u001b[1;32m    923\u001b[0m ) \u001b[38;5;241m-\u001b[39m\u001b[38;5;241m>\u001b[39m ChatCompletion \u001b[38;5;241m|\u001b[39m Stream[ChatCompletionChunk]:\n\u001b[1;32m    924\u001b[0m     validate_response_format(response_format)\n\u001b[0;32m--> 925\u001b[0m     \u001b[38;5;28;01mreturn\u001b[39;00m \u001b[38;5;28mself\u001b[39m\u001b[38;5;241m.\u001b[39m_post(\n\u001b[1;32m    926\u001b[0m         \u001b[38;5;124m\"\u001b[39m\u001b[38;5;124m/chat/completions\u001b[39m\u001b[38;5;124m\"\u001b[39m,\n\u001b[1;32m    927\u001b[0m         body\u001b[38;5;241m=\u001b[39mmaybe_transform(\n\u001b[1;32m    928\u001b[0m             {\n\u001b[1;32m    929\u001b[0m                 \u001b[38;5;124m\"\u001b[39m\u001b[38;5;124mmessages\u001b[39m\u001b[38;5;124m\"\u001b[39m: messages,\n\u001b[1;32m    930\u001b[0m                 \u001b[38;5;124m\"\u001b[39m\u001b[38;5;124mmodel\u001b[39m\u001b[38;5;124m\"\u001b[39m: model,\n\u001b[1;32m    931\u001b[0m                 \u001b[38;5;124m\"\u001b[39m\u001b[38;5;124maudio\u001b[39m\u001b[38;5;124m\"\u001b[39m: audio,\n\u001b[1;32m    932\u001b[0m                 \u001b[38;5;124m\"\u001b[39m\u001b[38;5;124mfrequency_penalty\u001b[39m\u001b[38;5;124m\"\u001b[39m: frequency_penalty,\n\u001b[1;32m    933\u001b[0m                 \u001b[38;5;124m\"\u001b[39m\u001b[38;5;124mfunction_call\u001b[39m\u001b[38;5;124m\"\u001b[39m: function_call,\n\u001b[1;32m    934\u001b[0m                 \u001b[38;5;124m\"\u001b[39m\u001b[38;5;124mfunctions\u001b[39m\u001b[38;5;124m\"\u001b[39m: functions,\n\u001b[1;32m    935\u001b[0m                 \u001b[38;5;124m\"\u001b[39m\u001b[38;5;124mlogit_bias\u001b[39m\u001b[38;5;124m\"\u001b[39m: logit_bias,\n\u001b[1;32m    936\u001b[0m                 \u001b[38;5;124m\"\u001b[39m\u001b[38;5;124mlogprobs\u001b[39m\u001b[38;5;124m\"\u001b[39m: logprobs,\n\u001b[1;32m    937\u001b[0m                 \u001b[38;5;124m\"\u001b[39m\u001b[38;5;124mmax_completion_tokens\u001b[39m\u001b[38;5;124m\"\u001b[39m: max_completion_tokens,\n\u001b[1;32m    938\u001b[0m                 \u001b[38;5;124m\"\u001b[39m\u001b[38;5;124mmax_tokens\u001b[39m\u001b[38;5;124m\"\u001b[39m: max_tokens,\n\u001b[1;32m    939\u001b[0m                 \u001b[38;5;124m\"\u001b[39m\u001b[38;5;124mmetadata\u001b[39m\u001b[38;5;124m\"\u001b[39m: metadata,\n\u001b[1;32m    940\u001b[0m                 \u001b[38;5;124m\"\u001b[39m\u001b[38;5;124mmodalities\u001b[39m\u001b[38;5;124m\"\u001b[39m: modalities,\n\u001b[1;32m    941\u001b[0m                 \u001b[38;5;124m\"\u001b[39m\u001b[38;5;124mn\u001b[39m\u001b[38;5;124m\"\u001b[39m: n,\n\u001b[1;32m    942\u001b[0m                 \u001b[38;5;124m\"\u001b[39m\u001b[38;5;124mparallel_tool_calls\u001b[39m\u001b[38;5;124m\"\u001b[39m: parallel_tool_calls,\n\u001b[1;32m    943\u001b[0m                 \u001b[38;5;124m\"\u001b[39m\u001b[38;5;124mprediction\u001b[39m\u001b[38;5;124m\"\u001b[39m: prediction,\n\u001b[1;32m    944\u001b[0m                 \u001b[38;5;124m\"\u001b[39m\u001b[38;5;124mpresence_penalty\u001b[39m\u001b[38;5;124m\"\u001b[39m: presence_penalty,\n\u001b[1;32m    945\u001b[0m                 \u001b[38;5;124m\"\u001b[39m\u001b[38;5;124mreasoning_effort\u001b[39m\u001b[38;5;124m\"\u001b[39m: reasoning_effort,\n\u001b[1;32m    946\u001b[0m                 \u001b[38;5;124m\"\u001b[39m\u001b[38;5;124mresponse_format\u001b[39m\u001b[38;5;124m\"\u001b[39m: response_format,\n\u001b[1;32m    947\u001b[0m                 \u001b[38;5;124m\"\u001b[39m\u001b[38;5;124mseed\u001b[39m\u001b[38;5;124m\"\u001b[39m: seed,\n\u001b[1;32m    948\u001b[0m                 \u001b[38;5;124m\"\u001b[39m\u001b[38;5;124mservice_tier\u001b[39m\u001b[38;5;124m\"\u001b[39m: service_tier,\n\u001b[1;32m    949\u001b[0m                 \u001b[38;5;124m\"\u001b[39m\u001b[38;5;124mstop\u001b[39m\u001b[38;5;124m\"\u001b[39m: stop,\n\u001b[1;32m    950\u001b[0m                 \u001b[38;5;124m\"\u001b[39m\u001b[38;5;124mstore\u001b[39m\u001b[38;5;124m\"\u001b[39m: store,\n\u001b[1;32m    951\u001b[0m                 \u001b[38;5;124m\"\u001b[39m\u001b[38;5;124mstream\u001b[39m\u001b[38;5;124m\"\u001b[39m: stream,\n\u001b[1;32m    952\u001b[0m                 \u001b[38;5;124m\"\u001b[39m\u001b[38;5;124mstream_options\u001b[39m\u001b[38;5;124m\"\u001b[39m: stream_options,\n\u001b[1;32m    953\u001b[0m                 \u001b[38;5;124m\"\u001b[39m\u001b[38;5;124mtemperature\u001b[39m\u001b[38;5;124m\"\u001b[39m: temperature,\n\u001b[1;32m    954\u001b[0m                 \u001b[38;5;124m\"\u001b[39m\u001b[38;5;124mtool_choice\u001b[39m\u001b[38;5;124m\"\u001b[39m: tool_choice,\n\u001b[1;32m    955\u001b[0m                 \u001b[38;5;124m\"\u001b[39m\u001b[38;5;124mtools\u001b[39m\u001b[38;5;124m\"\u001b[39m: tools,\n\u001b[1;32m    956\u001b[0m                 \u001b[38;5;124m\"\u001b[39m\u001b[38;5;124mtop_logprobs\u001b[39m\u001b[38;5;124m\"\u001b[39m: top_logprobs,\n\u001b[1;32m    957\u001b[0m                 \u001b[38;5;124m\"\u001b[39m\u001b[38;5;124mtop_p\u001b[39m\u001b[38;5;124m\"\u001b[39m: top_p,\n\u001b[1;32m    958\u001b[0m                 \u001b[38;5;124m\"\u001b[39m\u001b[38;5;124muser\u001b[39m\u001b[38;5;124m\"\u001b[39m: user,\n\u001b[1;32m    959\u001b[0m                 \u001b[38;5;124m\"\u001b[39m\u001b[38;5;124mweb_search_options\u001b[39m\u001b[38;5;124m\"\u001b[39m: web_search_options,\n\u001b[1;32m    960\u001b[0m             },\n\u001b[1;32m    961\u001b[0m             completion_create_params\u001b[38;5;241m.\u001b[39mCompletionCreateParamsStreaming\n\u001b[1;32m    962\u001b[0m             \u001b[38;5;28;01mif\u001b[39;00m stream\n\u001b[1;32m    963\u001b[0m             \u001b[38;5;28;01melse\u001b[39;00m completion_create_params\u001b[38;5;241m.\u001b[39mCompletionCreateParamsNonStreaming,\n\u001b[1;32m    964\u001b[0m         ),\n\u001b[1;32m    965\u001b[0m         options\u001b[38;5;241m=\u001b[39mmake_request_options(\n\u001b[1;32m    966\u001b[0m             extra_headers\u001b[38;5;241m=\u001b[39mextra_headers, extra_query\u001b[38;5;241m=\u001b[39mextra_query, extra_body\u001b[38;5;241m=\u001b[39mextra_body, timeout\u001b[38;5;241m=\u001b[39mtimeout\n\u001b[1;32m    967\u001b[0m         ),\n\u001b[1;32m    968\u001b[0m         cast_to\u001b[38;5;241m=\u001b[39mChatCompletion,\n\u001b[1;32m    969\u001b[0m         stream\u001b[38;5;241m=\u001b[39mstream \u001b[38;5;129;01mor\u001b[39;00m \u001b[38;5;28;01mFalse\u001b[39;00m,\n\u001b[1;32m    970\u001b[0m         stream_cls\u001b[38;5;241m=\u001b[39mStream[ChatCompletionChunk],\n\u001b[1;32m    971\u001b[0m     )\n",
      "File \u001b[0;32m~/anaconda3/lib/python3.12/site-packages/openai/_base_client.py:1249\u001b[0m, in \u001b[0;36mSyncAPIClient.post\u001b[0;34m(self, path, cast_to, body, options, files, stream, stream_cls)\u001b[0m\n\u001b[1;32m   1235\u001b[0m \u001b[38;5;28;01mdef\u001b[39;00m \u001b[38;5;21mpost\u001b[39m(\n\u001b[1;32m   1236\u001b[0m     \u001b[38;5;28mself\u001b[39m,\n\u001b[1;32m   1237\u001b[0m     path: \u001b[38;5;28mstr\u001b[39m,\n\u001b[0;32m   (...)\u001b[0m\n\u001b[1;32m   1244\u001b[0m     stream_cls: \u001b[38;5;28mtype\u001b[39m[_StreamT] \u001b[38;5;241m|\u001b[39m \u001b[38;5;28;01mNone\u001b[39;00m \u001b[38;5;241m=\u001b[39m \u001b[38;5;28;01mNone\u001b[39;00m,\n\u001b[1;32m   1245\u001b[0m ) \u001b[38;5;241m-\u001b[39m\u001b[38;5;241m>\u001b[39m ResponseT \u001b[38;5;241m|\u001b[39m _StreamT:\n\u001b[1;32m   1246\u001b[0m     opts \u001b[38;5;241m=\u001b[39m FinalRequestOptions\u001b[38;5;241m.\u001b[39mconstruct(\n\u001b[1;32m   1247\u001b[0m         method\u001b[38;5;241m=\u001b[39m\u001b[38;5;124m\"\u001b[39m\u001b[38;5;124mpost\u001b[39m\u001b[38;5;124m\"\u001b[39m, url\u001b[38;5;241m=\u001b[39mpath, json_data\u001b[38;5;241m=\u001b[39mbody, files\u001b[38;5;241m=\u001b[39mto_httpx_files(files), \u001b[38;5;241m*\u001b[39m\u001b[38;5;241m*\u001b[39moptions\n\u001b[1;32m   1248\u001b[0m     )\n\u001b[0;32m-> 1249\u001b[0m     \u001b[38;5;28;01mreturn\u001b[39;00m cast(ResponseT, \u001b[38;5;28mself\u001b[39m\u001b[38;5;241m.\u001b[39mrequest(cast_to, opts, stream\u001b[38;5;241m=\u001b[39mstream, stream_cls\u001b[38;5;241m=\u001b[39mstream_cls))\n",
      "File \u001b[0;32m~/anaconda3/lib/python3.12/site-packages/openai/_base_client.py:1037\u001b[0m, in \u001b[0;36mSyncAPIClient.request\u001b[0;34m(self, cast_to, options, stream, stream_cls)\u001b[0m\n\u001b[1;32m   1034\u001b[0m             err\u001b[38;5;241m.\u001b[39mresponse\u001b[38;5;241m.\u001b[39mread()\n\u001b[1;32m   1036\u001b[0m         log\u001b[38;5;241m.\u001b[39mdebug(\u001b[38;5;124m\"\u001b[39m\u001b[38;5;124mRe-raising status error\u001b[39m\u001b[38;5;124m\"\u001b[39m)\n\u001b[0;32m-> 1037\u001b[0m         \u001b[38;5;28;01mraise\u001b[39;00m \u001b[38;5;28mself\u001b[39m\u001b[38;5;241m.\u001b[39m_make_status_error_from_response(err\u001b[38;5;241m.\u001b[39mresponse) \u001b[38;5;28;01mfrom\u001b[39;00m \u001b[38;5;28;01mNone\u001b[39;00m\n\u001b[1;32m   1039\u001b[0m     \u001b[38;5;28;01mbreak\u001b[39;00m\n\u001b[1;32m   1041\u001b[0m \u001b[38;5;28;01massert\u001b[39;00m response \u001b[38;5;129;01mis\u001b[39;00m \u001b[38;5;129;01mnot\u001b[39;00m \u001b[38;5;28;01mNone\u001b[39;00m, \u001b[38;5;124m\"\u001b[39m\u001b[38;5;124mcould not resolve response (should never happen)\u001b[39m\u001b[38;5;124m\"\u001b[39m\n",
      "\u001b[0;31mAuthenticationError\u001b[0m: Error code: 401 - {'error': {'message': 'Incorrect API key provided: sk-proj-********************************************0ThB. You can find your API key at https://platform.openai.com/account/api-keys.', 'type': 'invalid_request_error', 'param': None, 'code': 'invalid_api_key'}}"
     ]
    }
   ],
   "source": [
    "# invoke the agent\n",
    "response = agent_executor.invoke({\"input\": \"which are the services offered by the company?\"})"
   ]
  },
  {
   "cell_type": "code",
   "execution_count": null,
   "id": "22270c47",
   "metadata": {},
   "outputs": [
    {
     "name": "stdout",
     "output_type": "stream",
     "text": [
      "The company offers a range of services including brokerage services, investment advisory products, annuity products, securities-backed lending, and more. If you need more specific details about any particular service, feel free to ask!\n"
     ]
    }
   ],
   "source": [
    "print(response['output'])"
   ]
  },
  {
   "cell_type": "code",
   "execution_count": null,
   "id": "3d213e92",
   "metadata": {},
   "outputs": [
    {
     "name": "stdout",
     "output_type": "stream",
     "text": [
      "\n",
      "\n",
      "\u001b[1m> Entering new AgentExecutor chain...\u001b[0m\n",
      "\u001b[32;1m\u001b[1;3m\n",
      "Invoking: `retrieve` with `{'query': 'main risk factors'}`\n",
      "\n",
      "\n",
      "\u001b[0m\u001b[36;1m\u001b[1;3mID: 79        \n",
      "Score: 0.6666667        \n",
      "Text: Prior to investing in a structured product, please read the issuer’s offering documents, prospectus, and supplements, including \n",
      "the “Risk Factors” described therein, to determine and ensure that the product is suitable for your investment needs and that\n",
      "you have the ability to bear the economic and other risks inherent to the product. \n",
      "Conﬂicts of Interest – Structured Products \n",
      "Compensation to financial professionals is generated from sales concessions. Sales concessions range from 1% to 3.5%,\n",
      "depending on the term length of the structured product. In addition, an underlying index or set of investments (called the\n",
      "underlier) which are used to calculate the performance of a structured product can have a management fee. Such \n",
      "management fees range from 0% to 1% depending on the nature of each underlier.        \n",
      "Source: tis-investing-guide.pdf        \n",
      "Page: 16\n",
      "\n",
      "ID: 77        \n",
      "Score: 0.6        \n",
      "Text: Structured Product Features \n",
      "The following risks and considerations are associated with the purchase of structured products: Credit Risk, Liquidity Risk, Price\n",
      "Risk, Call Risk, Coupon Risk, and Tax Considerations. A detailed explanation of these risks and considerations can be found in\n",
      "the offering documents associated with each structured product issuance. \n",
      "Structured products are designed to be held to maturity and funds that are needed prior to maturity should not be invested in \n",
      "a structured product. Investors should take into account their future liquidity needs (such as required minimum distributions \n",
      "in an IRA) when considering the purchase of a structured product. Except in limited circumstances specified in the product’s \n",
      "supplement and disclosure statement, or as secondary markets are available, structured product owners will have no right to \n",
      "early termination prior to scheduled maturity. It is important to understand that if you sell a structured product before \n",
      "maturity, you may receive substantially less in sale proceeds than the original deposit amount. Although TIS or one of its \n",
      "affiliates may purchase a structured product from an investor prior to maturity, they are not obligated to do so and there is no \n",
      "assurance that a secondary market will be established or maintained. \n",
      "Structured products will not track the reference assets (market measures) directly, as they are not equivalent to an outright\n",
      "investment in the reference asset. In addition, the valuation on a brokerage account statement is a general guide and not an \n",
      "indication of the price at which you can sell your structured product.        \n",
      "Source: tis-investing-guide.pdf        \n",
      "Page: 15\n",
      "\n",
      "ID: 148        \n",
      "Score: 0.5588235        \n",
      "Text: Support my health\n",
      "18\n",
      "Outcome /  \n",
      "risk factor\n",
      "Criteria\n",
      "Rating\n",
      "Scoring \n",
      "range\n",
      " Triglycerides\n",
      "Ideal value: \n",
      "Less than 150 mg/dL\n",
      "•\t Ideal\n",
      "•\t High but taking meds \n",
      "or under provider \n",
      "supervision\n",
      "•\t High\n",
      "0 to 14\n",
      "HDL \n",
      "(“good \n",
      "cholesterol”)\n",
      "Ideal value: \n",
      "•\t Men - More than or \n",
      "equal to 40 mg/dL\n",
      "•\t Women - More than  \n",
      "or equal to 50 mg/dL\n",
      "•\t Ideal\n",
      "•\t Low but taking meds \n",
      "or under provider \n",
      "supervision\n",
      "•\t Low\n",
      "0 to 14\n",
      "Blood  \n",
      "pressure\n",
      "Ideal value: \n",
      "Less than  \n",
      "130/85 mm HG\n",
      "•\t Within ideal range\n",
      "•\t High but taking meds \n",
      "or under provider \n",
      "supervision\n",
      "•\t High\n",
      "0 to 14\n",
      "Fasting  \n",
      "glucose\n",
      "Ideal range:  \n",
      "65 - 99 mg/dL\n",
      "•\t Within ideal range\n",
      "•\t Pre-diabetic\n",
      "•\t High but taking meds \n",
      "or under provider \n",
      "supervision \n",
      "•\t High \n",
      "0 to 14\n",
      "Waist \n",
      "circumference\n",
      "Ideal:\n",
      "•\t Men – Less than  \n",
      "40 inches\n",
      "•\t Women – Less than \n",
      "35 inches \n",
      "•\t Ideal\n",
      "•\t 2 inches out of range \n",
      "•\t More than 2 inches \n",
      "out of range\n",
      "0 to 14\n",
      "Metabolic syndrome risk\n",
      "Metabolic syndrome is defined as having any three of these five risk factors. \n",
      "It’s associated with increased risk of heart disease, stroke, and type 2 diabetes. \n",
      "(Based on guidelines from the American Heart Association.)        \n",
      "Source: benefits-guide-2025.pdf        \n",
      "Page: 18\n",
      "\n",
      "ID: 41        \n",
      "Score: 0.4        \n",
      "Text: Within these types, various investment objectives and risk\n",
      "levels are offered, such as diversified UITs vs. sector-oriented UITs, or taxable fixed income vs. municipal fixed income. Please \n",
      "consult with your TIS financial professional to determine your needs. \n",
      "Features \n",
      "UITs provide specific portfolios that are professionally selected by experienced investment professionals, utilizing detailed\n",
      "screening techniques and analysis. In this sense, they are professionally selected but not professionally managed. Once the \n",
      "portfolio is chosen, the securities remain fixed until the predetermined maturity date. Securities will not be sold and new \n",
      "securities will not be added to the portfolio except in certain limited circumstances. \n",
      "A fixed portfolio can provide the investor comfort in knowing specifically the securities that are owned. A UIT is also fully \n",
      "invested in the market, endeavoring to assure that the investor’s money is at work. \n",
      "UITs are required by law to redeem units at their net asset value based upon the current market value of the underlying \n",
      "securities, less any deferred sales charges. This price upon redemption can be more or less than the original purchase price. \n",
      "Upon maturity of a UIT, the shareholder has the option to: (a) receive the cash value of the units, (b) roll into a new UIT, or (c) \n",
      "receive shares of the underlying securities held in the portfolio if the account meets a certain size requirement and this option \n",
      "is communicated by the shareholder to the financial professional at least thirty (30) calendar days prior to maturity. If upon \n",
      "maturity, no liquidity choice is chosen, the UIT will automatically be redeemed for cash.        \n",
      "Source: tis-investing-guide.pdf        \n",
      "Page: 8\n",
      "\n",
      "ID: 147        \n",
      "Score: 0.25        \n",
      "Text: Support my health\n",
      "17\n",
      "Outcome / risk factor\n",
      "Criteria\n",
      "Rating\n",
      "Scoring range\n",
      "Tobacco / nicotine use\n",
      "•\t Not using (never, or not in the last 12 months)\n",
      "•\t Health care provider has certified you’re medically \n",
      "unable to stop smoking\n",
      "•\t Enrolled in a stop-smoking program in last 12 months\n",
      "•\t Using a stop-smoking aide\n",
      "•\t Based on status of the criteria\n",
      "-40 to 8\n",
      "Cardiovascular fitness\n",
      "Results from modified version of YMCA Submaximal  \n",
      "Cycle Ergometer Test (measures heart rate as exercise \n",
      "intensity increases) \n",
      "For age and gender:\n",
      "•\t Above average \n",
      "•\t Average\n",
      "•\t Below average\n",
      "•\t Poor\n",
      "0 to 10\n",
      "Body composition  \n",
      "(body fat percentage or  \n",
      "body mass index)\n",
      "Guidelines from American College of Sports Medicine  \n",
      "and National Institutes of Health\n",
      "For age and gender:\n",
      "•\t Very low risk\n",
      "•\t Low risk\n",
      "•\t Moderate risk\n",
      "•\t High risk\n",
      "•\t Very high risk\n",
      "0 to 12\n",
      "Metabolic syndrome risk\n",
      "(See metabolic syndrome risk components.)\n",
      "Up to date on lab work\n",
      "Required blood tests\n",
      "•\t Up to date or not required \n",
      "•\t Less than six months overdue\n",
      "-60 to 0\n",
      "Up to date on preventive health exams\n",
      "Screenings per age and gender\n",
      "•\t Up to date or not required \n",
      "•\t Less than six months overdue\n",
      "-60 to 0\n",
      "Status of any follow-up with  \n",
      "physician for health issues\n",
      "n/a\n",
      "•\t Complete or not required\n",
      "•\t Incomplete\n",
      "-80 to 0\n",
      "Peak Health’s clinical evaluation considers the following outcomes and actions:        \n",
      "Source: benefits-guide-2025.pdf        \n",
      "Page: 17\u001b[0m\u001b[32;1m\u001b[1;3mThe main risk factors highlighted in the document include:\n",
      "\n",
      "1. Credit Risk\n",
      "2. Liquidity Risk\n",
      "3. Price Risk\n",
      "4. Call Risk\n",
      "5. Coupon Risk\n",
      "6. Tax Considerations\n",
      "\n",
      "These risks and considerations are associated with the purchase of structured products. It is important to refer to the offering documents associated with each structured product issuance for a detailed explanation of these risks and considerations.\u001b[0m\n",
      "\n",
      "\u001b[1m> Finished chain.\u001b[0m\n"
     ]
    }
   ],
   "source": [
    "# invoke the agent\n",
    "response = agent_executor.invoke({\"input\": \"which are the main risk factors highlighted in the document?\"})"
   ]
  },
  {
   "cell_type": "code",
   "execution_count": null,
   "id": "fc1a4388",
   "metadata": {},
   "outputs": [
    {
     "name": "stdout",
     "output_type": "stream",
     "text": [
      "The main risk factors highlighted in the document include:\n",
      "\n",
      "1. Credit Risk\n",
      "2. Liquidity Risk\n",
      "3. Price Risk\n",
      "4. Call Risk\n",
      "5. Coupon Risk\n",
      "6. Tax Considerations\n",
      "\n",
      "These risks and considerations are associated with the purchase of structured products. It is important to refer to the offering documents associated with each structured product issuance for a detailed explanation of these risks and considerations.\n"
     ]
    }
   ],
   "source": [
    "print(response['output'])"
   ]
  },
  {
   "cell_type": "code",
   "execution_count": null,
   "metadata": {},
   "outputs": [],
   "source": []
  },
  {
   "cell_type": "markdown",
   "id": "7740e8fb",
   "metadata": {},
   "source": [
    "### Appendix\n",
    "\n",
    "Qdrant documentation at https://api.qdrant.tech/api-reference/search/query-points"
   ]
  },
  {
   "cell_type": "code",
   "execution_count": null,
   "metadata": {},
   "outputs": [],
   "source": [
    "from qdrant_client import QdrantClient, models\n",
    "\n",
    "client = QdrantClient(url=\"http://localhost:6333\")\n",
    "\n",
    "# Query nearest by ID\n",
    "nearest = client.query_points(\n",
    "    collection_name=\"{collection_name}\",\n",
    "    query=\"43cf51e2-8777-4f52-bc74-c2cbde0c8b04\",\n",
    ")\n",
    "\n",
    "# Recommend on the average of these vectors\n",
    "recommended = client.query_points(\n",
    "    collection_name=\"{collection_name}\",\n",
    "    query=models.RecommendQuery(recommend=models.RecommendInput(\n",
    "        positive=[\"43cf51e2-8777-4f52-bc74-c2cbde0c8b04\", [0.11, 0.35, 0.6, ...]],\n",
    "        negative=[[0.01, 0.45, 0.67, ...]]\n",
    "    ))\n",
    ")\n",
    "\n",
    "# Fusion query\n",
    "hybrid = client.query_points(\n",
    "    collection_name=\"{collection_name}\",\n",
    "    prefetch=[\n",
    "        models.Prefetch(\n",
    "            query=models.SparseVector(indices=[1, 42], values=[0.22, 0.8]),\n",
    "            using=\"sparse\",\n",
    "            limit=20,\n",
    "        ),\n",
    "        models.Prefetch(\n",
    "            query=[0.01, 0.45, 0.67, ...],  # <-- dense vector\n",
    "            using=\"dense\",\n",
    "            limit=20,\n",
    "        ),\n",
    "    ],\n",
    "    query=models.FusionQuery(fusion=models.Fusion.RRF),\n",
    ")\n",
    "\n",
    "# 2-stage query\n",
    "refined = client.query_points(\n",
    "    collection_name=\"{collection_name}\",\n",
    "    prefetch=models.Prefetch(\n",
    "        query=[0.01, 0.45, 0.67, ...],  # <-- dense vector\n",
    "        limit=100,\n",
    "    ),\n",
    "    query=[\n",
    "        [0.1, 0.2, ...],  # <─┐\n",
    "        [0.2, 0.1, ...],  # < ├─ multi-vector\n",
    "        [0.8, 0.9, ...],  # < ┘\n",
    "    ],\n",
    "    using=\"colbert\",\n",
    "    limit=10,\n",
    ")\n",
    "\n",
    "# Random sampling (as of 1.11.0)\n",
    "sampled = client.query_points(\n",
    "    collection_name=\"{collection_name}\",\n",
    "    query=models.SampleQuery(sample=models.Sample.RANDOM)\n",
    ")\n",
    "\n",
    "# Score boost depending on payload conditions (as of 1.14.0)\n",
    "tag_boosted = client.query_points(\n",
    "    collection_name=\"{collection_name}\",\n",
    "    prefetch=models.Prefetch(\n",
    "        query=[0.2, 0.8, ...],  # <-- dense vector\n",
    "        limit=50\n",
    "    ),\n",
    "    query=models.FormulaQuery(\n",
    "        formula=models.SumExpression(sum=[\n",
    "            \"$score\",\n",
    "            models.MultExpression(mult=[0.5, models.FieldCondition(key=\"tag\", match=models.MatchAny(any=[\"h1\", \"h2\", \"h3\", \"h4\"]))]),\n",
    "            models.MultExpression(mult=[0.25, models.FieldCondition(key=\"tag\", match=models.MatchAny(any=[\"p\", \"li\"]))])\n",
    "        ]\n",
    "    ))\n",
    ")\n",
    "\n",
    "# Score boost geographically closer points (as of 1.14.0)\n",
    "geo_boosted = client.query_points(\n",
    "    collection_name=\"{collection_name}\",\n",
    "    prefetch=models.Prefetch(\n",
    "        query=[0.2, 0.8, ...],  # <-- dense vector\n",
    "        limit=50\n",
    "    ),\n",
    "    query=models.FormulaQuery(\n",
    "        formula=models.SumExpression(sum=[\n",
    "            \"$score\",\n",
    "            models.GaussDecayExpression(\n",
    "                gauss_decay=models.DecayParamsExpression(\n",
    "                    x=models.GeoDistance(\n",
    "                        geo_distance=models.GeoDistanceParams(\n",
    "                            origin=models.GeoPoint(\n",
    "                                lat=52.504043,\n",
    "                                lon=13.393236\n",
    "                            ),  # Berlin\n",
    "                            to=\"geo.location\"\n",
    "                        )\n",
    "                    ),\n",
    "                    scale=5000  # 5km\n",
    "                )\n",
    "            )\n",
    "        ]),\n",
    "        defaults={\"geo.location\": models.GeoPoint(lat=48.137154, lon=11.576124)}  # Munich\n",
    "    )\n",
    ")\n"
   ]
  },
  {
   "cell_type": "code",
   "execution_count": null,
   "id": "231d244e",
   "metadata": {},
   "outputs": [],
   "source": []
  }
 ],
 "metadata": {
  "kernelspec": {
   "display_name": "base",
   "language": "python",
   "name": "python3"
  },
  "language_info": {
   "codemirror_mode": {
    "name": "ipython",
    "version": 3
   },
   "file_extension": ".py",
   "mimetype": "text/x-python",
   "name": "python",
   "nbconvert_exporter": "python",
   "pygments_lexer": "ipython3",
   "version": "3.12.7"
  }
 },
 "nbformat": 4,
 "nbformat_minor": 5
}
