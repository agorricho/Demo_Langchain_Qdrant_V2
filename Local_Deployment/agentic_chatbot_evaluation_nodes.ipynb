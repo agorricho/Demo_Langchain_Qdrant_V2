{
 "cells": [
  {
   "cell_type": "markdown",
   "id": "7fa9a4d5",
   "metadata": {},
   "source": [
    "### Import dependencies"
   ]
  },
  {
   "cell_type": "markdown",
   "id": "1e8ea81f",
   "metadata": {},
   "source": [
    "### Import dependencies"
   ]
  },
  {
   "cell_type": "code",
   "execution_count": null,
   "id": "62a5f2de",
   "metadata": {},
   "outputs": [],
   "source": [
    "# pip install spacy datasets span-marker scikit-learn"
   ]
  },
  {
   "cell_type": "code",
   "execution_count": null,
   "id": "31e93d42",
   "metadata": {},
   "outputs": [],
   "source": [
    "# %pip install numpy == 2.0.0"
   ]
  },
  {
   "cell_type": "code",
   "execution_count": null,
   "id": "fdec6169",
   "metadata": {},
   "outputs": [],
   "source": [
    "# %pip install pandas == 2.2.2"
   ]
  },
  {
   "cell_type": "code",
   "execution_count": 119,
   "id": "1791d462",
   "metadata": {},
   "outputs": [],
   "source": [
    "import os\n",
    "from dotenv import load_dotenv\n",
    "\n",
    "from openai import OpenAI\n",
    "\n",
    "from langchain.agents import AgentExecutor\n",
    "from langchain_openai import ChatOpenAI\n",
    "from langchain_core.prompts import ChatPromptTemplate, MessagesPlaceholder\n",
    "from langchain.agents import create_tool_calling_agent\n",
    "from langchain_core.prompts import PromptTemplate\n",
    "from langchain_community.vectorstores import SupabaseVectorStore\n",
    "from langchain_openai import OpenAIEmbeddings\n",
    "from langchain import hub\n",
    "from langchain_core.tools import tool\n",
    "\n",
    "from qdrant_client import QdrantClient\n",
    "from qdrant_client.http.models import Filter, SparseVector\n",
    "from fastembed import TextEmbedding, SparseTextEmbedding\n",
    "from langchain.vectorstores import Qdrant"
   ]
  },
  {
   "cell_type": "code",
   "execution_count": 120,
   "id": "7663d744",
   "metadata": {},
   "outputs": [],
   "source": [
    "import pandas as pd\n",
    "import numpy as np"
   ]
  },
  {
   "cell_type": "code",
   "execution_count": 121,
   "id": "e0013fbc",
   "metadata": {},
   "outputs": [],
   "source": [
    "# attach to the same event-loop\n",
    "import nest_asyncio\n",
    "\n",
    "nest_asyncio.apply()"
   ]
  },
  {
   "cell_type": "code",
   "execution_count": 122,
   "id": "70df8536",
   "metadata": {},
   "outputs": [],
   "source": [
    "from langchain.evaluation import (\n",
    "    EvaluatorType,\n",
    "    load_evaluator,\n",
    "    CriteriaEvalChain,\n",
    "    LabeledCriteriaEvalChain\n",
    ")\n",
    "from langchain.schema import Document\n",
    "import asyncio"
   ]
  },
  {
   "cell_type": "code",
   "execution_count": 123,
   "id": "c3a1079a",
   "metadata": {},
   "outputs": [],
   "source": [
    "import json\n",
    "from pathlib import Path"
   ]
  },
  {
   "cell_type": "markdown",
   "id": "362eabf2",
   "metadata": {},
   "source": [
    "### Load environment variables"
   ]
  },
  {
   "cell_type": "code",
   "execution_count": null,
   "id": "aef854de",
   "metadata": {},
   "outputs": [],
   "source": [
    "# Load environment variables\n",
    "load_dotenv()\n",
    "QDRANT_URL = os.getenv(\"QDRANT_URL\")\n",
    "QDRANT_API_KEY = os.getenv(\"QDRANT_API_KEY\")\n",
    "COLLECTION_NAME = os.getenv(\"QDRANT_COLLECTION_NAME\")\n",
    "OPENAI_API_KEY= os.getenv(\"OPENAI_API_KEY\")\n"
   ]
  },
  {
   "cell_type": "code",
   "execution_count": 125,
   "id": "70f04f03",
   "metadata": {},
   "outputs": [],
   "source": [
    "# Initialize dense and sparse embedding models\n",
    "dense_model = TextEmbedding(model_name=\"sentence-transformers/all-MiniLM-L6-v2\")\n",
    "sparse_model = SparseTextEmbedding(model_name=\"Qdrant/bm42-all-minilm-l6-v2-attentions\")"
   ]
  },
  {
   "cell_type": "code",
   "execution_count": 126,
   "id": "a7c8f2cf",
   "metadata": {},
   "outputs": [
    {
     "name": "stderr",
     "output_type": "stream",
     "text": [
      "/tmp/ipykernel_1047/2748386960.py:2: UserWarning: Api key is used with an insecure connection.\n",
      "  qdrant_client = QdrantClient(\n"
     ]
    }
   ],
   "source": [
    "# Initialize Qdrant client\n",
    "qdrant_client = QdrantClient(\n",
    "    url=QDRANT_URL,\n",
    "    api_key=QDRANT_API_KEY,\n",
    ")\n"
   ]
  },
  {
   "cell_type": "code",
   "execution_count": 127,
   "id": "5dea6559",
   "metadata": {},
   "outputs": [
    {
     "name": "stderr",
     "output_type": "stream",
     "text": [
      "/home/agorricho/anaconda3/lib/python3.12/site-packages/langsmith/client.py:272: LangSmithMissingAPIKeyWarning: API key must be provided when using hosted LangSmith API\n",
      "  warnings.warn(\n"
     ]
    }
   ],
   "source": [
    "# fetch the prompt from the prompt hub\n",
    "prompt = hub.pull(\"hwchase17/openai-functions-agent\")"
   ]
  },
  {
   "cell_type": "code",
   "execution_count": 128,
   "id": "2308db11",
   "metadata": {},
   "outputs": [
    {
     "name": "stdout",
     "output_type": "stream",
     "text": [
      "('name', None)\n",
      "('input_variables', ['agent_scratchpad', 'input'])\n",
      "('optional_variables', ['chat_history'])\n",
      "('input_types', {'chat_history': list[typing.Annotated[typing.Union[typing.Annotated[langchain_core.messages.ai.AIMessage, Tag(tag='ai')], typing.Annotated[langchain_core.messages.human.HumanMessage, Tag(tag='human')], typing.Annotated[langchain_core.messages.chat.ChatMessage, Tag(tag='chat')], typing.Annotated[langchain_core.messages.system.SystemMessage, Tag(tag='system')], typing.Annotated[langchain_core.messages.function.FunctionMessage, Tag(tag='function')], typing.Annotated[langchain_core.messages.tool.ToolMessage, Tag(tag='tool')], typing.Annotated[langchain_core.messages.ai.AIMessageChunk, Tag(tag='AIMessageChunk')], typing.Annotated[langchain_core.messages.human.HumanMessageChunk, Tag(tag='HumanMessageChunk')], typing.Annotated[langchain_core.messages.chat.ChatMessageChunk, Tag(tag='ChatMessageChunk')], typing.Annotated[langchain_core.messages.system.SystemMessageChunk, Tag(tag='SystemMessageChunk')], typing.Annotated[langchain_core.messages.function.FunctionMessageChunk, Tag(tag='FunctionMessageChunk')], typing.Annotated[langchain_core.messages.tool.ToolMessageChunk, Tag(tag='ToolMessageChunk')]], FieldInfo(annotation=NoneType, required=True, discriminator=Discriminator(discriminator=<function _get_type at 0x7f2729791940>, custom_error_type=None, custom_error_message=None, custom_error_context=None))]], 'agent_scratchpad': list[typing.Annotated[typing.Union[typing.Annotated[langchain_core.messages.ai.AIMessage, Tag(tag='ai')], typing.Annotated[langchain_core.messages.human.HumanMessage, Tag(tag='human')], typing.Annotated[langchain_core.messages.chat.ChatMessage, Tag(tag='chat')], typing.Annotated[langchain_core.messages.system.SystemMessage, Tag(tag='system')], typing.Annotated[langchain_core.messages.function.FunctionMessage, Tag(tag='function')], typing.Annotated[langchain_core.messages.tool.ToolMessage, Tag(tag='tool')], typing.Annotated[langchain_core.messages.ai.AIMessageChunk, Tag(tag='AIMessageChunk')], typing.Annotated[langchain_core.messages.human.HumanMessageChunk, Tag(tag='HumanMessageChunk')], typing.Annotated[langchain_core.messages.chat.ChatMessageChunk, Tag(tag='ChatMessageChunk')], typing.Annotated[langchain_core.messages.system.SystemMessageChunk, Tag(tag='SystemMessageChunk')], typing.Annotated[langchain_core.messages.function.FunctionMessageChunk, Tag(tag='FunctionMessageChunk')], typing.Annotated[langchain_core.messages.tool.ToolMessageChunk, Tag(tag='ToolMessageChunk')]], FieldInfo(annotation=NoneType, required=True, discriminator=Discriminator(discriminator=<function _get_type at 0x7f2729791940>, custom_error_type=None, custom_error_message=None, custom_error_context=None))]]})\n",
      "('output_parser', None)\n",
      "('partial_variables', {'chat_history': []})\n",
      "('metadata', {'lc_hub_owner': 'hwchase17', 'lc_hub_repo': 'openai-functions-agent', 'lc_hub_commit_hash': 'a1655024b06afbd95d17449f21316291e0726f13dcfaf990cc0d18087ad689a5'})\n",
      "('tags', None)\n",
      "('messages', [SystemMessagePromptTemplate(prompt=PromptTemplate(input_variables=[], input_types={}, partial_variables={}, template='You are a helpful assistant'), additional_kwargs={}), MessagesPlaceholder(variable_name='chat_history', optional=True), HumanMessagePromptTemplate(prompt=PromptTemplate(input_variables=['input'], input_types={}, partial_variables={}, template='{input}'), additional_kwargs={}), MessagesPlaceholder(variable_name='agent_scratchpad')])\n",
      "('validate_template', False)\n"
     ]
    }
   ],
   "source": [
    "# explore the elements inside the prompt imported\n",
    "for ele in prompt:\n",
    "    print(ele)"
   ]
  },
  {
   "cell_type": "code",
   "execution_count": 129,
   "id": "b2681946",
   "metadata": {},
   "outputs": [],
   "source": [
    "from qdrant_client import QdrantClient, models\n",
    "from langchain.agents import tool\n",
    "\n",
    "@tool(response_format=\"content_and_artifact\")\n",
    "def retrieve(query: str):\n",
    "    \"\"\"Perform hybrid (dense + sparse) search using Qdrant Query API.\"\"\"\n",
    "\n",
    "    # Generate dense and sparse embeddings\n",
    "    dense_emb = list(dense_model.embed([query]))[0]\n",
    "    sparse_emb = list(sparse_model.embed([query]))[0]\n",
    "    sparse_vector = models.SparseVector(\n",
    "        indices=sparse_emb.indices.tolist(),\n",
    "        values=sparse_emb.values.tolist()\n",
    "    )\n",
    "\n",
    "    \n",
    "    # Fusion query\n",
    "    context = qdrant_client.query_points(\n",
    "        collection_name=COLLECTION_NAME,\n",
    "        prefetch=[\n",
    "            models.Prefetch(\n",
    "                query=sparse_vector,\n",
    "                using=\"sparse\",\n",
    "                limit=20,\n",
    "            ),\n",
    "            models.Prefetch(\n",
    "                query=dense_emb,\n",
    "                using=\"dense\",\n",
    "                limit=20,\n",
    "            ),\n",
    "        ],\n",
    "        query=models.FusionQuery(fusion=models.Fusion.RRF),\n",
    "        with_payload=True,\n",
    "        # with_vector=False,\n",
    "        limit=5\n",
    "    )\n",
    "\n",
    "    # Format result\n",
    "    serialized = \"\\n\\n\".join(\n",
    "        (f\"ID: {pt.id}\\\n",
    "        \\nScore: {pt.score}\\\n",
    "        \\nText: {pt.payload['text']}\\\n",
    "        \\nSource: {pt.payload['file_name']}\\\n",
    "        \\nPage: {pt.payload['page_number']}\")\n",
    "        for pt in context.points\n",
    "    )\n",
    "\n",
    "    return serialized, context\n",
    "\n",
    "\n",
    "def context(query: str):\n",
    "    \"\"\"Perform hybrid (dense + sparse) search using Qdrant Query API.\"\"\"\n",
    "\n",
    "    # Generate dense and sparse embeddings\n",
    "    dense_emb = list(dense_model.embed([query]))[0]\n",
    "    sparse_emb = list(sparse_model.embed([query]))[0]\n",
    "    sparse_vector = models.SparseVector(\n",
    "        indices=sparse_emb.indices.tolist(),\n",
    "        values=sparse_emb.values.tolist()\n",
    "    )\n",
    "\n",
    "    \n",
    "    # Fusion query\n",
    "    context = qdrant_client.query_points(\n",
    "        collection_name=COLLECTION_NAME,\n",
    "        prefetch=[\n",
    "            models.Prefetch(\n",
    "                query=sparse_vector,\n",
    "                using=\"sparse\",\n",
    "                limit=20,\n",
    "            ),\n",
    "            models.Prefetch(\n",
    "                query=dense_emb,\n",
    "                using=\"dense\",\n",
    "                limit=20,\n",
    "            ),\n",
    "        ],\n",
    "        query=models.FusionQuery(fusion=models.Fusion.RRF),\n",
    "        with_payload=True,\n",
    "        # with_vector=False,\n",
    "        limit=5\n",
    "    )\n",
    "\n",
    "    return context\n",
    "\n"
   ]
  },
  {
   "cell_type": "code",
   "execution_count": 130,
   "id": "500d7c34",
   "metadata": {},
   "outputs": [],
   "source": [
    "# Get the generated answer from your agent\n",
    "query = \"which are the services offered by the company?\"\n",
    "\n",
    "# Generate dense and sparse embeddings\n",
    "dense_emb = list(dense_model.embed([query]))[0]\n",
    "sparse_emb = list(sparse_model.embed([query]))[0]\n",
    "sparse_vector = models.SparseVector(\n",
    "    indices=sparse_emb.indices.tolist(),\n",
    "    values=sparse_emb.values.tolist()\n",
    ")\n",
    "\n",
    "# Fusion query\n",
    "context = qdrant_client.query_points(\n",
    "    collection_name=COLLECTION_NAME,\n",
    "    prefetch=[\n",
    "        models.Prefetch(\n",
    "            query=sparse_vector,\n",
    "            using=\"sparse\",\n",
    "            limit=20,\n",
    "        ),\n",
    "        models.Prefetch(\n",
    "            query=dense_emb,\n",
    "            using=\"dense\",\n",
    "            limit=20,\n",
    "        ),\n",
    "    ],\n",
    "    query=models.FusionQuery(fusion=models.Fusion.RRF),\n",
    "    with_payload=True,\n",
    "    # with_vector=False,\n",
    "    limit=5\n",
    ")"
   ]
  },
  {
   "cell_type": "code",
   "execution_count": 131,
   "id": "9716dc60",
   "metadata": {},
   "outputs": [
    {
     "data": {
      "text/plain": [
       "[ScoredPoint(id=1, version=0, score=0.5, payload={'text': '(“TIS”) oﬀers and conﬂicts of interest that arise through delivery of \\nbrokerage services to you, along with how TIS aﬃliates, including Truist Advisory Services, Inc. and Truist Bank, can interact with \\nyou and TIS to provide additional non-brokerage services to your account. Our goal is to help you understand the products and \\nservices we oﬀer, fees involved, applicable compensation, and relevant conﬂicts of interest, so that you can make informed \\ninvestment decisions. \\nDeﬁned Terms \\nThe information contained in this document is current as of the date above and is subject to change at our discretion. You \\nshould review this document carefully, retain it with your records, and refer to it when you receive recommendations from us. \\nFor purposes of this guide, the terms “TIS,” “we,” “us” and “our” refer to Truist Investment Services, Inc., a wholly owned \\nsubsidiary of Truist Financial Corporation (“TFC”). TIS is a broker-dealer registered with the U.S. Securities and Exchange \\nCommission (“SEC”), a Member of the Financial Industry Regulatory Authority (“FINRA”) and the Securities Investor Protection\\nCorporation (“SIPC”), and a licensed insurance agency. \\nThe terms “you” and “your” refer to the owner of a brokerage account (“account” or “Brokerage Account”) held with TIS. For \\njoint accounts, these terms refer to all owners, collectively and individually.', 'file_path': './Data/tis-investing-guide.pdf', 'file_name': 'tis-investing-guide.pdf', 'file_size': 1041415, 'file_type': 'application/pdf', 'page_number': 1, 'format': 'PDF 1.6', 'title': 'Truist Investment Services, Inc. Investing Guide June 9, 2025', 'author': 'Truist', 'subject': 'Truist Investment Services, Inc. Investing Guide June 9, 2025', 'keywords': 'ADA', 'creator': 'Acrobat PDFMaker 24 for Word', 'producer': 'Adobe PDF Library 24.5.96', 'creationDate': \"D:20250403162636-04'00'\", 'modDate': \"D:20250430131511-04'00'\", 'trapped': '', 'encryption': None}, vector=None, shard_key=None, order_value=None),\n",
       " ScoredPoint(id=63, version=0, score=0.5, payload={'text': 'This compensation,\\ndescribed below, can vary based on the type of annuity, the issuing insurance company, and the amount invested. \\n• \\nUnder an agreement with each insurance company, TIS is paid a commission for selling the company’s annuity products \\nbased on the type of annuity and the amount of your annuity purchase payments. Your TIS financial professional receives a \\nportion of this payment. \\n• \\nTIS also often receives ongoing payments, known as residual or trail commissions, on invested assets that are held in your \\nvariable annuity or certain indexed annuities to compensate for ongoing servicing. The insurance company sets these\\nongoing payments, and TIS generally pays a portion of these commissions to your TIS financial professional. \\nAnnuity commissions are determined by the type of annuity product and the amount the corresponding insurance carrier\\ndecides to offer. For TIS, such commission amounts range from 1% to 5%, and trail payment amounts range from 0.25% to 1%.\\nTypically, commission options featuring a higher percentage up front will offer a lower trail commission. Conversely, lower \\npaying commission options typically offer higher trail commissions. \\nConﬂicts of Interest - Annuity Compensation \\nSome insurance companies pay TIS and your TIS financial professional higher compensation for sales of certain annuity types\\ncompared to other types. This creates an incentive for us to recommend and sell certain annuities because a particular annuity \\n2025-04-0651 \\nTIS Investing Guide Page 12 of 22', 'file_path': './Data/tis-investing-guide.pdf', 'file_name': 'tis-investing-guide.pdf', 'file_size': 1041415, 'file_type': 'application/pdf', 'page_number': 12, 'format': 'PDF 1.6', 'title': 'Truist Investment Services, Inc. Investing Guide June 9, 2025', 'author': 'Truist', 'subject': 'Truist Investment Services, Inc. Investing Guide June 9, 2025', 'keywords': 'ADA', 'creator': 'Acrobat PDFMaker 24 for Word', 'producer': 'Adobe PDF Library 24.5.96', 'creationDate': \"D:20250403162636-04'00'\", 'modDate': \"D:20250430131511-04'00'\", 'trapped': '', 'encryption': None}, vector=None, shard_key=None, order_value=None),\n",
       " ScoredPoint(id=12, version=0, score=0.42424244, payload={'text': 'In a Full-Service relationship with a dedicated ﬁnancial professional, you have access to a full suite of TIS brokerage and TAS \\ninvestment advisory products and services. Minimum asset balance requirements apply. You have a direct relationship with\\nyour ﬁnancial professional for investment strategies, recommendations, and guidance speciﬁc to your needs and goals. Full- \\nService brokerage accounts are eligible to invest in equities, ﬁxed income, ETFs, mutual funds, annuities, structured products,\\nalternative investments, and other securities on our Platform which TIS makes available to such accounts. \\nIn a Full-Service relationship with the Client Advisory Center (“CAC”), you have access to a more limited menu of TIS brokerage\\nproducts and services from which a CAC ﬁnancial professional can make recommendations, including mutual funds, annuities,\\nbrokered CDs, Treasuries, structured products, and certain advisory programs oﬀered through TAS. Individualized service is \\nprovided by a centralized team of telephone-based ﬁnancial professionals. \\nRecommendations do not include all possible investments and the availability of products and services will vary over time. TIS\\nreserves the right, in its sole discretion, to determine at any time and from time to time, and with or without advance notice,\\nwhich products and services we make available to our Full-Service brokerage accounts. We also reserve the right to reject \\ntransactions in our sole discretion. \\nFull-Service brokerage services are more expensive than Self-Directed brokerage services and charge higher commission rates\\non securities transactions.', 'file_path': './Data/tis-investing-guide.pdf', 'file_name': 'tis-investing-guide.pdf', 'file_size': 1041415, 'file_type': 'application/pdf', 'page_number': 3, 'format': 'PDF 1.6', 'title': 'Truist Investment Services, Inc. Investing Guide June 9, 2025', 'author': 'Truist', 'subject': 'Truist Investment Services, Inc. Investing Guide June 9, 2025', 'keywords': 'ADA', 'creator': 'Acrobat PDFMaker 24 for Word', 'producer': 'Adobe PDF Library 24.5.96', 'creationDate': \"D:20250403162636-04'00'\", 'modDate': \"D:20250430131511-04'00'\", 'trapped': '', 'encryption': None}, vector=None, shard_key=None, order_value=None),\n",
       " ScoredPoint(id=117, version=0, score=0.33333334, payload={'text': 'We and our Advisors have direct conflicts of interest in making \\nrecommendations to you in the case of Retirement Account Transactions because, if you do not engage in a Retirement \\nAccount Transaction and purchase our IRA retirement products and services, the Firm and your Advisor will not be \\ncompensated. For additional information relating to the Firm’s and our Advisors’ conflicts of interest associated with \\ninvestment services and the investment products we offer, and other conflicts of interest, please consult our Form CRS which \\nwe have concurrently or previously provided to you, and this TIS Investing Guide. These documents may also be obtained \\nonline at (https://www.truist.com/wealth/tas-disclosure) (https://www.truist.com/wealth/tis-disclosure) or by speaking with \\nyour Truist Advisor. \\nPLEASE NOTE, however, that our fiduciary duties and fiduciary status arising under the Retirement Account Advice Exemption\\nare limited to retirement investment advice we provide to you in connection with Retirement Account Transactions and that \\nthis retirement investment advice fiduciary status and associated fiduciary duties do not extend to any other aspects of our\\nother investment relationships with you. Instead, with regard to non- retirement account brokerage transactions, non-\\nretirement investment advisory relationship and other investment relationships which are not subject to the requirements of\\nthe Retirement Account Advice Exemption, our investment and other duties to you are determined by the terms of our\\naccount agreements with you, our disclosure materials, applicable laws and regulations and other factors.', 'file_path': './Data/tis-investing-guide.pdf', 'file_name': 'tis-investing-guide.pdf', 'file_size': 1041415, 'file_type': 'application/pdf', 'page_number': 22, 'format': 'PDF 1.6', 'title': 'Truist Investment Services, Inc. Investing Guide June 9, 2025', 'author': 'Truist', 'subject': 'Truist Investment Services, Inc. Investing Guide June 9, 2025', 'keywords': 'ADA', 'creator': 'Acrobat PDFMaker 24 for Word', 'producer': 'Adobe PDF Library 24.5.96', 'creationDate': \"D:20250403162636-04'00'\", 'modDate': \"D:20250430131511-04'00'\", 'trapped': '', 'encryption': None}, vector=None, shard_key=None, order_value=None),\n",
       " ScoredPoint(id=7, version=0, score=0.25, payload={'text': 'offers clients several ways to avoid annual fees. For example, the IRA annual maintenance fee will be waived for \\nhouseholds valued at $500,000 (or more) in brokerage assets. Please contact your financial professional for additional information. \\n** Truist Investment Services, Inc. offers clients several ways to avoid annual fees. For example, the Annual Custody fee and the Truist Trade Annual \\nSubscription Fee will be waived for households valued at $250,000 (or more) in applicable investment (non-deposit) assets. Please contact your financial \\nprofessional for additional information. \\n*** Excludes mutual fund exchanges and Systematic Withdrawal Plans. Fee is waived if documents are e-delivered. \\nAll recommendations regarding purchases or sales in your brokerage account will be made by your TIS ﬁnancial professional in \\na broker-dealer capacity only. Since brokerage and investment advisory products, services and fees diﬀer, it’s important you \\nunderstand the diﬀerences so you can choose the account and services that are right for your needs. For more details regarding \\nTAS and the investment advisory programs it oﬀers, please refer to Form CRS, Brochures, and other disclosures found at \\nhttps://www.truist.com/wealth/tas-disclosure.', 'file_path': './Data/tis-investing-guide.pdf', 'file_name': 'tis-investing-guide.pdf', 'file_size': 1041415, 'file_type': 'application/pdf', 'page_number': 2, 'format': 'PDF 1.6', 'title': 'Truist Investment Services, Inc. Investing Guide June 9, 2025', 'author': 'Truist', 'subject': 'Truist Investment Services, Inc. Investing Guide June 9, 2025', 'keywords': 'ADA', 'creator': 'Acrobat PDFMaker 24 for Word', 'producer': 'Adobe PDF Library 24.5.96', 'creationDate': \"D:20250403162636-04'00'\", 'modDate': \"D:20250430131511-04'00'\", 'trapped': '', 'encryption': None}, vector=None, shard_key=None, order_value=None)]"
      ]
     },
     "execution_count": 131,
     "metadata": {},
     "output_type": "execute_result"
    }
   ],
   "source": [
    "context.points"
   ]
  },
  {
   "cell_type": "code",
   "execution_count": 132,
   "id": "feb15773",
   "metadata": {},
   "outputs": [
    {
     "data": {
      "text/plain": [
       "[{'id': 1,\n",
       "  'version': 0,\n",
       "  'score': 0.5,\n",
       "  'payload': {'text': '(“TIS”) oﬀers and conﬂicts of interest that arise through delivery of \\nbrokerage services to you, along with how TIS aﬃliates, including Truist Advisory Services, Inc. and Truist Bank, can interact with \\nyou and TIS to provide additional non-brokerage services to your account. Our goal is to help you understand the products and \\nservices we oﬀer, fees involved, applicable compensation, and relevant conﬂicts of interest, so that you can make informed \\ninvestment decisions. \\nDeﬁned Terms \\nThe information contained in this document is current as of the date above and is subject to change at our discretion. You \\nshould review this document carefully, retain it with your records, and refer to it when you receive recommendations from us. \\nFor purposes of this guide, the terms “TIS,” “we,” “us” and “our” refer to Truist Investment Services, Inc., a wholly owned \\nsubsidiary of Truist Financial Corporation (“TFC”). TIS is a broker-dealer registered with the U.S. Securities and Exchange \\nCommission (“SEC”), a Member of the Financial Industry Regulatory Authority (“FINRA”) and the Securities Investor Protection\\nCorporation (“SIPC”), and a licensed insurance agency. \\nThe terms “you” and “your” refer to the owner of a brokerage account (“account” or “Brokerage Account”) held with TIS. For \\njoint accounts, these terms refer to all owners, collectively and individually.',\n",
       "   'file_path': './Data/tis-investing-guide.pdf',\n",
       "   'file_name': 'tis-investing-guide.pdf',\n",
       "   'file_size': 1041415,\n",
       "   'file_type': 'application/pdf',\n",
       "   'page_number': 1,\n",
       "   'format': 'PDF 1.6',\n",
       "   'title': 'Truist Investment Services, Inc. Investing Guide June 9, 2025',\n",
       "   'author': 'Truist',\n",
       "   'subject': 'Truist Investment Services, Inc. Investing Guide June 9, 2025',\n",
       "   'keywords': 'ADA',\n",
       "   'creator': 'Acrobat PDFMaker 24 for Word',\n",
       "   'producer': 'Adobe PDF Library 24.5.96',\n",
       "   'creationDate': \"D:20250403162636-04'00'\",\n",
       "   'modDate': \"D:20250430131511-04'00'\",\n",
       "   'trapped': '',\n",
       "   'encryption': None},\n",
       "  'vector': None,\n",
       "  'shard_key': None,\n",
       "  'order_value': None},\n",
       " {'id': 63,\n",
       "  'version': 0,\n",
       "  'score': 0.5,\n",
       "  'payload': {'text': 'This compensation,\\ndescribed below, can vary based on the type of annuity, the issuing insurance company, and the amount invested. \\n• \\nUnder an agreement with each insurance company, TIS is paid a commission for selling the company’s annuity products \\nbased on the type of annuity and the amount of your annuity purchase payments. Your TIS financial professional receives a \\nportion of this payment. \\n• \\nTIS also often receives ongoing payments, known as residual or trail commissions, on invested assets that are held in your \\nvariable annuity or certain indexed annuities to compensate for ongoing servicing. The insurance company sets these\\nongoing payments, and TIS generally pays a portion of these commissions to your TIS financial professional. \\nAnnuity commissions are determined by the type of annuity product and the amount the corresponding insurance carrier\\ndecides to offer. For TIS, such commission amounts range from 1% to 5%, and trail payment amounts range from 0.25% to 1%.\\nTypically, commission options featuring a higher percentage up front will offer a lower trail commission. Conversely, lower \\npaying commission options typically offer higher trail commissions. \\nConﬂicts of Interest - Annuity Compensation \\nSome insurance companies pay TIS and your TIS financial professional higher compensation for sales of certain annuity types\\ncompared to other types. This creates an incentive for us to recommend and sell certain annuities because a particular annuity \\n2025-04-0651 \\nTIS Investing Guide Page 12 of 22',\n",
       "   'file_path': './Data/tis-investing-guide.pdf',\n",
       "   'file_name': 'tis-investing-guide.pdf',\n",
       "   'file_size': 1041415,\n",
       "   'file_type': 'application/pdf',\n",
       "   'page_number': 12,\n",
       "   'format': 'PDF 1.6',\n",
       "   'title': 'Truist Investment Services, Inc. Investing Guide June 9, 2025',\n",
       "   'author': 'Truist',\n",
       "   'subject': 'Truist Investment Services, Inc. Investing Guide June 9, 2025',\n",
       "   'keywords': 'ADA',\n",
       "   'creator': 'Acrobat PDFMaker 24 for Word',\n",
       "   'producer': 'Adobe PDF Library 24.5.96',\n",
       "   'creationDate': \"D:20250403162636-04'00'\",\n",
       "   'modDate': \"D:20250430131511-04'00'\",\n",
       "   'trapped': '',\n",
       "   'encryption': None},\n",
       "  'vector': None,\n",
       "  'shard_key': None,\n",
       "  'order_value': None},\n",
       " {'id': 12,\n",
       "  'version': 0,\n",
       "  'score': 0.42424244,\n",
       "  'payload': {'text': 'In a Full-Service relationship with a dedicated ﬁnancial professional, you have access to a full suite of TIS brokerage and TAS \\ninvestment advisory products and services. Minimum asset balance requirements apply. You have a direct relationship with\\nyour ﬁnancial professional for investment strategies, recommendations, and guidance speciﬁc to your needs and goals. Full- \\nService brokerage accounts are eligible to invest in equities, ﬁxed income, ETFs, mutual funds, annuities, structured products,\\nalternative investments, and other securities on our Platform which TIS makes available to such accounts. \\nIn a Full-Service relationship with the Client Advisory Center (“CAC”), you have access to a more limited menu of TIS brokerage\\nproducts and services from which a CAC ﬁnancial professional can make recommendations, including mutual funds, annuities,\\nbrokered CDs, Treasuries, structured products, and certain advisory programs oﬀered through TAS. Individualized service is \\nprovided by a centralized team of telephone-based ﬁnancial professionals. \\nRecommendations do not include all possible investments and the availability of products and services will vary over time. TIS\\nreserves the right, in its sole discretion, to determine at any time and from time to time, and with or without advance notice,\\nwhich products and services we make available to our Full-Service brokerage accounts. We also reserve the right to reject \\ntransactions in our sole discretion. \\nFull-Service brokerage services are more expensive than Self-Directed brokerage services and charge higher commission rates\\non securities transactions.',\n",
       "   'file_path': './Data/tis-investing-guide.pdf',\n",
       "   'file_name': 'tis-investing-guide.pdf',\n",
       "   'file_size': 1041415,\n",
       "   'file_type': 'application/pdf',\n",
       "   'page_number': 3,\n",
       "   'format': 'PDF 1.6',\n",
       "   'title': 'Truist Investment Services, Inc. Investing Guide June 9, 2025',\n",
       "   'author': 'Truist',\n",
       "   'subject': 'Truist Investment Services, Inc. Investing Guide June 9, 2025',\n",
       "   'keywords': 'ADA',\n",
       "   'creator': 'Acrobat PDFMaker 24 for Word',\n",
       "   'producer': 'Adobe PDF Library 24.5.96',\n",
       "   'creationDate': \"D:20250403162636-04'00'\",\n",
       "   'modDate': \"D:20250430131511-04'00'\",\n",
       "   'trapped': '',\n",
       "   'encryption': None},\n",
       "  'vector': None,\n",
       "  'shard_key': None,\n",
       "  'order_value': None},\n",
       " {'id': 117,\n",
       "  'version': 0,\n",
       "  'score': 0.33333334,\n",
       "  'payload': {'text': 'We and our Advisors have direct conflicts of interest in making \\nrecommendations to you in the case of Retirement Account Transactions because, if you do not engage in a Retirement \\nAccount Transaction and purchase our IRA retirement products and services, the Firm and your Advisor will not be \\ncompensated. For additional information relating to the Firm’s and our Advisors’ conflicts of interest associated with \\ninvestment services and the investment products we offer, and other conflicts of interest, please consult our Form CRS which \\nwe have concurrently or previously provided to you, and this TIS Investing Guide. These documents may also be obtained \\nonline at (https://www.truist.com/wealth/tas-disclosure) (https://www.truist.com/wealth/tis-disclosure) or by speaking with \\nyour Truist Advisor. \\nPLEASE NOTE, however, that our fiduciary duties and fiduciary status arising under the Retirement Account Advice Exemption\\nare limited to retirement investment advice we provide to you in connection with Retirement Account Transactions and that \\nthis retirement investment advice fiduciary status and associated fiduciary duties do not extend to any other aspects of our\\nother investment relationships with you. Instead, with regard to non- retirement account brokerage transactions, non-\\nretirement investment advisory relationship and other investment relationships which are not subject to the requirements of\\nthe Retirement Account Advice Exemption, our investment and other duties to you are determined by the terms of our\\naccount agreements with you, our disclosure materials, applicable laws and regulations and other factors.',\n",
       "   'file_path': './Data/tis-investing-guide.pdf',\n",
       "   'file_name': 'tis-investing-guide.pdf',\n",
       "   'file_size': 1041415,\n",
       "   'file_type': 'application/pdf',\n",
       "   'page_number': 22,\n",
       "   'format': 'PDF 1.6',\n",
       "   'title': 'Truist Investment Services, Inc. Investing Guide June 9, 2025',\n",
       "   'author': 'Truist',\n",
       "   'subject': 'Truist Investment Services, Inc. Investing Guide June 9, 2025',\n",
       "   'keywords': 'ADA',\n",
       "   'creator': 'Acrobat PDFMaker 24 for Word',\n",
       "   'producer': 'Adobe PDF Library 24.5.96',\n",
       "   'creationDate': \"D:20250403162636-04'00'\",\n",
       "   'modDate': \"D:20250430131511-04'00'\",\n",
       "   'trapped': '',\n",
       "   'encryption': None},\n",
       "  'vector': None,\n",
       "  'shard_key': None,\n",
       "  'order_value': None},\n",
       " {'id': 7,\n",
       "  'version': 0,\n",
       "  'score': 0.25,\n",
       "  'payload': {'text': 'offers clients several ways to avoid annual fees. For example, the IRA annual maintenance fee will be waived for \\nhouseholds valued at $500,000 (or more) in brokerage assets. Please contact your financial professional for additional information. \\n** Truist Investment Services, Inc. offers clients several ways to avoid annual fees. For example, the Annual Custody fee and the Truist Trade Annual \\nSubscription Fee will be waived for households valued at $250,000 (or more) in applicable investment (non-deposit) assets. Please contact your financial \\nprofessional for additional information. \\n*** Excludes mutual fund exchanges and Systematic Withdrawal Plans. Fee is waived if documents are e-delivered. \\nAll recommendations regarding purchases or sales in your brokerage account will be made by your TIS ﬁnancial professional in \\na broker-dealer capacity only. Since brokerage and investment advisory products, services and fees diﬀer, it’s important you \\nunderstand the diﬀerences so you can choose the account and services that are right for your needs. For more details regarding \\nTAS and the investment advisory programs it oﬀers, please refer to Form CRS, Brochures, and other disclosures found at \\nhttps://www.truist.com/wealth/tas-disclosure.',\n",
       "   'file_path': './Data/tis-investing-guide.pdf',\n",
       "   'file_name': 'tis-investing-guide.pdf',\n",
       "   'file_size': 1041415,\n",
       "   'file_type': 'application/pdf',\n",
       "   'page_number': 2,\n",
       "   'format': 'PDF 1.6',\n",
       "   'title': 'Truist Investment Services, Inc. Investing Guide June 9, 2025',\n",
       "   'author': 'Truist',\n",
       "   'subject': 'Truist Investment Services, Inc. Investing Guide June 9, 2025',\n",
       "   'keywords': 'ADA',\n",
       "   'creator': 'Acrobat PDFMaker 24 for Word',\n",
       "   'producer': 'Adobe PDF Library 24.5.96',\n",
       "   'creationDate': \"D:20250403162636-04'00'\",\n",
       "   'modDate': \"D:20250430131511-04'00'\",\n",
       "   'trapped': '',\n",
       "   'encryption': None},\n",
       "  'vector': None,\n",
       "  'shard_key': None,\n",
       "  'order_value': None}]"
      ]
     },
     "execution_count": 132,
     "metadata": {},
     "output_type": "execute_result"
    }
   ],
   "source": [
    "context_list = [dict(pt) for pt in context.points]\n",
    "context_list"
   ]
  },
  {
   "cell_type": "code",
   "execution_count": 133,
   "id": "b51705e2",
   "metadata": {},
   "outputs": [
    {
     "data": {
      "text/plain": [
       "{'id': 1,\n",
       " 'version': 0,\n",
       " 'score': 0.5,\n",
       " 'payload': {'text': '(“TIS”) oﬀers and conﬂicts of interest that arise through delivery of \\nbrokerage services to you, along with how TIS aﬃliates, including Truist Advisory Services, Inc. and Truist Bank, can interact with \\nyou and TIS to provide additional non-brokerage services to your account. Our goal is to help you understand the products and \\nservices we oﬀer, fees involved, applicable compensation, and relevant conﬂicts of interest, so that you can make informed \\ninvestment decisions. \\nDeﬁned Terms \\nThe information contained in this document is current as of the date above and is subject to change at our discretion. You \\nshould review this document carefully, retain it with your records, and refer to it when you receive recommendations from us. \\nFor purposes of this guide, the terms “TIS,” “we,” “us” and “our” refer to Truist Investment Services, Inc., a wholly owned \\nsubsidiary of Truist Financial Corporation (“TFC”). TIS is a broker-dealer registered with the U.S. Securities and Exchange \\nCommission (“SEC”), a Member of the Financial Industry Regulatory Authority (“FINRA”) and the Securities Investor Protection\\nCorporation (“SIPC”), and a licensed insurance agency. \\nThe terms “you” and “your” refer to the owner of a brokerage account (“account” or “Brokerage Account”) held with TIS. For \\njoint accounts, these terms refer to all owners, collectively and individually.',\n",
       "  'file_path': './Data/tis-investing-guide.pdf',\n",
       "  'file_name': 'tis-investing-guide.pdf',\n",
       "  'file_size': 1041415,\n",
       "  'file_type': 'application/pdf',\n",
       "  'page_number': 1,\n",
       "  'format': 'PDF 1.6',\n",
       "  'title': 'Truist Investment Services, Inc. Investing Guide June 9, 2025',\n",
       "  'author': 'Truist',\n",
       "  'subject': 'Truist Investment Services, Inc. Investing Guide June 9, 2025',\n",
       "  'keywords': 'ADA',\n",
       "  'creator': 'Acrobat PDFMaker 24 for Word',\n",
       "  'producer': 'Adobe PDF Library 24.5.96',\n",
       "  'creationDate': \"D:20250403162636-04'00'\",\n",
       "  'modDate': \"D:20250430131511-04'00'\",\n",
       "  'trapped': '',\n",
       "  'encryption': None},\n",
       " 'vector': None,\n",
       " 'shard_key': None,\n",
       " 'order_value': None}"
      ]
     },
     "execution_count": 133,
     "metadata": {},
     "output_type": "execute_result"
    }
   ],
   "source": [
    "dict(context.points[0])"
   ]
  },
  {
   "cell_type": "code",
   "execution_count": 134,
   "id": "91474e97",
   "metadata": {},
   "outputs": [
    {
     "name": "stdout",
     "output_type": "stream",
     "text": [
      "Key: 0, Value: id\n",
      "Key: 1, Value: version\n",
      "Key: 2, Value: score\n",
      "Key: 3, Value: payload\n",
      "Key: 4, Value: vector\n",
      "Key: 5, Value: shard_key\n",
      "Key: 6, Value: order_value\n"
     ]
    }
   ],
   "source": [
    "for (key, value) in enumerate(dict(context.points[0])):\n",
    "    print(f\"Key: {key}, Value: {value}\")"
   ]
  },
  {
   "cell_type": "code",
   "execution_count": 135,
   "id": "c4d0f24b",
   "metadata": {},
   "outputs": [
    {
     "data": {
      "text/plain": [
       "'(“TIS”) oﬀers and conﬂicts of interest that arise through delivery of \\nbrokerage services to you, along with how TIS aﬃliates, including Truist Advisory Services, Inc. and Truist Bank, can interact with \\nyou and TIS to provide additional non-brokerage services to your account. Our goal is to help you understand the products and \\nservices we oﬀer, fees involved, applicable compensation, and relevant conﬂicts of interest, so that you can make informed \\ninvestment decisions. \\nDeﬁned Terms \\nThe information contained in this document is current as of the date above and is subject to change at our discretion. You \\nshould review this document carefully, retain it with your records, and refer to it when you receive recommendations from us. \\nFor purposes of this guide, the terms “TIS,” “we,” “us” and “our” refer to Truist Investment Services, Inc., a wholly owned \\nsubsidiary of Truist Financial Corporation (“TFC”). TIS is a broker-dealer registered with the U.S. Securities and Exchange \\nCommission (“SEC”), a Member of the Financial Industry Regulatory Authority (“FINRA”) and the Securities Investor Protection\\nCorporation (“SIPC”), and a licensed insurance agency. \\nThe terms “you” and “your” refer to the owner of a brokerage account (“account” or “Brokerage Account”) held with TIS. For \\njoint accounts, these terms refer to all owners, collectively and individually.'"
      ]
     },
     "execution_count": 135,
     "metadata": {},
     "output_type": "execute_result"
    }
   ],
   "source": [
    "dict(context.points[0])['payload']['text']"
   ]
  },
  {
   "cell_type": "code",
   "execution_count": null,
   "id": "e6c27e46",
   "metadata": {},
   "outputs": [],
   "source": []
  },
  {
   "cell_type": "code",
   "execution_count": 136,
   "id": "6ded20df",
   "metadata": {},
   "outputs": [],
   "source": [
    "class CustomRAGEvaluator:\n",
    "    def __init__(self, llm_model=None, temperature=0):\n",
    "        if llm_model is None:\n",
    "            self.llm = ChatOpenAI(temperature=temperature)\n",
    "        elif isinstance(llm_model, str):\n",
    "            self.llm = ChatOpenAI(model=llm_model, temperature=temperature)\n",
    "        else:\n",
    "            # Assume it's already an LLM instance\n",
    "            self.llm = llm_model\n",
    "        self.nodes = []\n",
    "        self._setup_evaluators()\n",
    "\n",
    "    def _setup_evaluators(self):\n",
    "        self.correctness_evaluator = LabeledCriteriaEvalChain.from_llm(\n",
    "            llm=self.llm, criteria=\"correctness\"\n",
    "        )\n",
    "        self.relevance_evaluator = CriteriaEvalChain.from_llm(\n",
    "            llm=self.llm, criteria=\"relevance\"\n",
    "        )\n",
    "        self.coherence_evaluator = CriteriaEvalChain.from_llm(\n",
    "            llm=self.llm, criteria=\"coherence\"\n",
    "        )\n",
    "        self.helpfulness_evaluator = CriteriaEvalChain.from_llm(\n",
    "            llm=self.llm, criteria=\"helpfulness\"\n",
    "        )\n",
    "\n",
    "    def load_your_nodes(self, context_source):\n",
    "        if isinstance(context_source, str):\n",
    "            with open(context_source, 'r', encoding='utf-8') as f:\n",
    "                self.nodes = json.load(f)\n",
    "        elif isinstance(context_source, list):\n",
    "            self.nodes = context_source\n",
    "        else:\n",
    "            raise ValueError(\"context_source must be file path or list of nodes\")\n",
    "\n",
    "        print(f\"Loaded {len(self.nodes)} nodes\")\n",
    "\n",
    "    # def format_context(self):\n",
    "    #   if not self.nodes:\n",
    "    #       return \"No relevant information found.\"\n",
    "    #   return \"\\n\\n\".join(\n",
    "    #       f\"Document {i+1} ({n.get('title', f'Node {i+1}')}):\\n{n.get('content', '')}\"\n",
    "    #       for i, n in enumerate(self.nodes)\n",
    "    #   )\n",
    "\n",
    "    def evaluate(self, question: str, generated_answer: str, reference_answer: str = None):\n",
    "        context = self.nodes\n",
    "        results = {\n",
    "            \"question\": question,\n",
    "            \"generated_answer\": generated_answer,\n",
    "            \"reference_answer\": reference_answer,\n",
    "            \"context\": context\n",
    "        }\n",
    "\n",
    "        # Coherence\n",
    "        try:\n",
    "            coherence = self.coherence_evaluator.evaluate_strings(\n",
    "                prediction=generated_answer,\n",
    "                input=f\"Context: {context}\\nQuestion: {question}\"\n",
    "            )\n",
    "            results.update({\n",
    "                \"coherence_score\": coherence.get(\"score\"),\n",
    "                \"coherence_reasoning\": coherence.get(\"reasoning\")\n",
    "            })\n",
    "        except Exception as e:\n",
    "            results.update({\"coherence_score\": None, \"coherence_reasoning\": str(e)})\n",
    "\n",
    "        # Relevance\n",
    "        try:\n",
    "            rel = self.relevance_evaluator.evaluate_strings(\n",
    "                prediction=generated_answer,\n",
    "                input=question\n",
    "            )\n",
    "            results.update({\n",
    "                \"relevance_score\": rel.get(\"score\"),\n",
    "                \"relevance_reasoning\": rel.get(\"reasoning\")\n",
    "            })\n",
    "        except Exception as e:\n",
    "            results.update({\"relevance_score\": None, \"relevance_reasoning\": str(e)})\n",
    "\n",
    "        # Helpfulness\n",
    "        try:\n",
    "            help_ = self.helpfulness_evaluator.evaluate_strings(\n",
    "                prediction=generated_answer,\n",
    "                input=f\"Context: {context}\\nQuestion: {question}\"\n",
    "            )\n",
    "            results.update({\n",
    "                \"helpfulness_score\": help_.get(\"score\"),\n",
    "                \"helpfulness_reasoning\": help_.get(\"reasoning\")\n",
    "            })\n",
    "        except Exception as e:\n",
    "            results.update({\"helpfulness_score\": None, \"helpfulness_reasoning\": str(e)})\n",
    "\n",
    "        # Correctness (optional)\n",
    "        if reference_answer:\n",
    "            try:\n",
    "                corr = self.correctness_evaluator.evaluate_strings(\n",
    "                    prediction=generated_answer,\n",
    "                    input=question,\n",
    "                    reference=reference_answer\n",
    "                )\n",
    "                results.update({\n",
    "                    \"correctness_score\": corr.get(\"score\"),\n",
    "                    \"correctness_reasoning\": corr.get(\"reasoning\")\n",
    "                })\n",
    "            except Exception as e:\n",
    "                results.update({\"correctness_score\": None, \"correctness_reasoning\": str(e)})\n",
    "\n",
    "        return results"
   ]
  },
  {
   "cell_type": "code",
   "execution_count": 137,
   "id": "2419fdf4",
   "metadata": {},
   "outputs": [],
   "source": [
    "evaluator = CustomRAGEvaluator()\n",
    "\n"
   ]
  },
  {
   "cell_type": "code",
   "execution_count": 138,
   "id": "bdeba296",
   "metadata": {},
   "outputs": [
    {
     "data": {
      "text/plain": [
       "'ID: 63        \\nScore: 0.5        \\nText: This compensation,\\ndescribed below, can vary based on the type of annuity, the issuing insurance company, and the amount invested. \\n• \\nUnder an agreement with each insurance company, TIS is paid a commission for selling the company’s annuity products \\nbased on the type of annuity and the amount of your annuity purchase payments. Your TIS financial professional receives a \\nportion of this payment. \\n• \\nTIS also often receives ongoing payments, known as residual or trail commissions, on invested assets that are held in your \\nvariable annuity or certain indexed annuities to compensate for ongoing servicing. The insurance company sets these\\nongoing payments, and TIS generally pays a portion of these commissions to your TIS financial professional. \\nAnnuity commissions are determined by the type of annuity product and the amount the corresponding insurance carrier\\ndecides to offer. For TIS, such commission amounts range from 1% to 5%, and trail payment amounts range from 0.25% to 1%.\\nTypically, commission options featuring a higher percentage up front will offer a lower trail commission. Conversely, lower \\npaying commission options typically offer higher trail commissions. \\nConﬂicts of Interest - Annuity Compensation \\nSome insurance companies pay TIS and your TIS financial professional higher compensation for sales of certain annuity types\\ncompared to other types. This creates an incentive for us to recommend and sell certain annuities because a particular annuity \\n2025-04-0651 \\nTIS Investing Guide Page 12 of 22        \\nSource: tis-investing-guide.pdf        \\nPage: 12\\n\\nID: 1        \\nScore: 0.5        \\nText: (“TIS”) oﬀers and conﬂicts of interest that arise through delivery of \\nbrokerage services to you, along with how TIS aﬃliates, including Truist Advisory Services, Inc. and Truist Bank, can interact with \\nyou and TIS to provide additional non-brokerage services to your account. Our goal is to help you understand the products and \\nservices we oﬀer, fees involved, applicable compensation, and relevant conﬂicts of interest, so that you can make informed \\ninvestment decisions. \\nDeﬁned Terms \\nThe information contained in this document is current as of the date above and is subject to change at our discretion. You \\nshould review this document carefully, retain it with your records, and refer to it when you receive recommendations from us. \\nFor purposes of this guide, the terms “TIS,” “we,” “us” and “our” refer to Truist Investment Services, Inc., a wholly owned \\nsubsidiary of Truist Financial Corporation (“TFC”). TIS is a broker-dealer registered with the U.S. Securities and Exchange \\nCommission (“SEC”), a Member of the Financial Industry Regulatory Authority (“FINRA”) and the Securities Investor Protection\\nCorporation (“SIPC”), and a licensed insurance agency. \\nThe terms “you” and “your” refer to the owner of a brokerage account (“account” or “Brokerage Account”) held with TIS. For \\njoint accounts, these terms refer to all owners, collectively and individually.        \\nSource: tis-investing-guide.pdf        \\nPage: 1\\n\\nID: 12        \\nScore: 0.42424244        \\nText: In a Full-Service relationship with a dedicated ﬁnancial professional, you have access to a full suite of TIS brokerage and TAS \\ninvestment advisory products and services. Minimum asset balance requirements apply. You have a direct relationship with\\nyour ﬁnancial professional for investment strategies, recommendations, and guidance speciﬁc to your needs and goals. Full- \\nService brokerage accounts are eligible to invest in equities, ﬁxed income, ETFs, mutual funds, annuities, structured products,\\nalternative investments, and other securities on our Platform which TIS makes available to such accounts. \\nIn a Full-Service relationship with the Client Advisory Center (“CAC”), you have access to a more limited menu of TIS brokerage\\nproducts and services from which a CAC ﬁnancial professional can make recommendations, including mutual funds, annuities,\\nbrokered CDs, Treasuries, structured products, and certain advisory programs oﬀered through TAS. Individualized service is \\nprovided by a centralized team of telephone-based ﬁnancial professionals. \\nRecommendations do not include all possible investments and the availability of products and services will vary over time. TIS\\nreserves the right, in its sole discretion, to determine at any time and from time to time, and with or without advance notice,\\nwhich products and services we make available to our Full-Service brokerage accounts. We also reserve the right to reject \\ntransactions in our sole discretion. \\nFull-Service brokerage services are more expensive than Self-Directed brokerage services and charge higher commission rates\\non securities transactions.        \\nSource: tis-investing-guide.pdf        \\nPage: 3\\n\\nID: 117        \\nScore: 0.33333334        \\nText: We and our Advisors have direct conflicts of interest in making \\nrecommendations to you in the case of Retirement Account Transactions because, if you do not engage in a Retirement \\nAccount Transaction and purchase our IRA retirement products and services, the Firm and your Advisor will not be \\ncompensated. For additional information relating to the Firm’s and our Advisors’ conflicts of interest associated with \\ninvestment services and the investment products we offer, and other conflicts of interest, please consult our Form CRS which \\nwe have concurrently or previously provided to you, and this TIS Investing Guide. These documents may also be obtained \\nonline at (https://www.truist.com/wealth/tas-disclosure) (https://www.truist.com/wealth/tis-disclosure) or by speaking with \\nyour Truist Advisor. \\nPLEASE NOTE, however, that our fiduciary duties and fiduciary status arising under the Retirement Account Advice Exemption\\nare limited to retirement investment advice we provide to you in connection with Retirement Account Transactions and that \\nthis retirement investment advice fiduciary status and associated fiduciary duties do not extend to any other aspects of our\\nother investment relationships with you. Instead, with regard to non- retirement account brokerage transactions, non-\\nretirement investment advisory relationship and other investment relationships which are not subject to the requirements of\\nthe Retirement Account Advice Exemption, our investment and other duties to you are determined by the terms of our\\naccount agreements with you, our disclosure materials, applicable laws and regulations and other factors.        \\nSource: tis-investing-guide.pdf        \\nPage: 22\\n\\nID: 109        \\nScore: 0.25        \\nText: The \\nterms of these Business Incentive Programs (“BIPs”) vary among Truist Advisors and not all representatives are offered the\\nopportunity to participate in all of the incentive programs described below. \\nTIS financial professionals are compensated in part by BIPs which reward financial professionals with a percentage of the\\nrevenue TIS receives. In addition, Truist Advisors can also receive credit towards their qualifying production (through both one\\xad\\ntime cash payments or increased payout rates) for referrals to Truist Bank and affiliates for products and services offered to\\nthose clients, including: securities-backed loans; Trust; and investment banking. TIS mitigates the conflict of interest created by\\nthese referrals by disclosing it to its clients, requiring a supervisory review for each referral opportunity and an annual review\\nfor each applicable BIP design. \\nMonthly Commissions and Annual Revenue Award: Truist Advisors receive incentive awards based on their monthly and \\nannual aggregated revenue generated for TIS, TAS and their Affiliates in connection with purchases of investment products, \\ninvestment advisory services and other financial products offered by TIS, TAS and their Affiliates, by the Truist Advisor’s clients. \\nThe compensation rate increases in percentage amounts as the amount of the revenue generated by the Truist Advisor’s \\nassociated client base increases. \\nAdvisor Loans: Loans may be offered to certain Truist Advisors upon employment. Under the terms of these \\nagreements/notes, the Truist Advisor is required to pay-back the loan on a periodic basis for a set period of time, typically over \\na period of years.        \\nSource: tis-investing-guide.pdf        \\nPage: 21'"
      ]
     },
     "execution_count": 138,
     "metadata": {},
     "output_type": "execute_result"
    }
   ],
   "source": [
    "retrieve(question)"
   ]
  },
  {
   "cell_type": "code",
   "execution_count": 150,
   "id": "8da34512",
   "metadata": {},
   "outputs": [],
   "source": [
    "import json\n",
    "\n",
    "evaluator = CustomRAGEvaluator()\n",
    "\n",
    "# Load context (retrieved nodes in JSON or list format)\n",
    "# evaluator.load_your_nodes(\"nodes.json\")  # or pass a list of dicts\n",
    "\n",
    "# Input your pre-generated answer and run evaluation\n",
    "tools = [retrieve]\n",
    "\n",
    "# Initialize LLM\n",
    "llm = ChatOpenAI(temperature=1)\n",
    "\n",
    "# Create the agent with the prompt and tools\n",
    "agent = create_tool_calling_agent(llm, tools, prompt)\n",
    "\n",
    "# create the agent executor\n",
    "agent_executor = AgentExecutor(agent=agent, tools=tools, verbose=False)\n",
    "\n",
    "# reference_answer = nodes[0][\"text\"]  # or use logic to select the right node\n",
    "\n",
    "# Get the generated answer from your agent\n",
    "question = \"which are the services offered by the company?\"\n",
    "def get_context(query: str):\n",
    "    # ...existing code...\n",
    "\n",
    "    ctx_response = get_context(question)\n",
    "    context_list = [dict(pt) for pt in ctx_response.points]\n",
    "    evaluator.load_your_nodes(context_list)\n",
    "\n",
    "    response = agent_executor.invoke({\"input\": question})\n",
    "    generated_answer = response['output']\n",
    "\n",
    "# Evaluate\n",
    "    result = evaluator.evaluate(question, \n",
    "                            generated_answer, \n",
    "                            # reference_answer,\n",
    "                            )"
   ]
  },
  {
   "cell_type": "code",
   "execution_count": 151,
   "id": "4cdf8db6",
   "metadata": {},
   "outputs": [
    {
     "name": "stdout",
     "output_type": "stream",
     "text": [
      "question:\n",
      "which are the services offered by the company?\n",
      "generated_answer:\n",
      "The company offers a range of services, including Full-Service brokerage with access to various share classes, mutual funds, equities, fixed income, ETFs, annuities, structured products, alternative investments, and other securities. They also provide investment advisory products and services, client advisory services, and tools and resources. Additionally, there are different levels of brokerage relationships with varying service offerings and associated costs.\n",
      "reference_answer:\n",
      "None\n",
      "context:\n",
      "[{'id': 1, 'version': 0, 'score': 0.5, 'payload': {'text': '(“TIS”) oﬀers and conﬂicts of interest that arise through delivery of \\nbrokerage services to you, along with how TIS aﬃliates, including Truist Advisory Services, Inc. and Truist Bank, can interact with \\nyou and TIS to provide additional non-brokerage services to your account. Our goal is to help you understand the products and \\nservices we oﬀer, fees involved, applicable compensation, and relevant conﬂicts of interest, so that you can make informed \\ninvestment decisions. \\nDeﬁned Terms \\nThe information contained in this document is current as of the date above and is subject to change at our discretion. You \\nshould review this document carefully, retain it with your records, and refer to it when you receive recommendations from us. \\nFor purposes of this guide, the terms “TIS,” “we,” “us” and “our” refer to Truist Investment Services, Inc., a wholly owned \\nsubsidiary of Truist Financial Corporation (“TFC”). TIS is a broker-dealer registered with the U.S. Securities and Exchange \\nCommission (“SEC”), a Member of the Financial Industry Regulatory Authority (“FINRA”) and the Securities Investor Protection\\nCorporation (“SIPC”), and a licensed insurance agency. \\nThe terms “you” and “your” refer to the owner of a brokerage account (“account” or “Brokerage Account”) held with TIS. For \\njoint accounts, these terms refer to all owners, collectively and individually.', 'file_path': './Data/tis-investing-guide.pdf', 'file_name': 'tis-investing-guide.pdf', 'file_size': 1041415, 'file_type': 'application/pdf', 'page_number': 1, 'format': 'PDF 1.6', 'title': 'Truist Investment Services, Inc. Investing Guide June 9, 2025', 'author': 'Truist', 'subject': 'Truist Investment Services, Inc. Investing Guide June 9, 2025', 'keywords': 'ADA', 'creator': 'Acrobat PDFMaker 24 for Word', 'producer': 'Adobe PDF Library 24.5.96', 'creationDate': \"D:20250403162636-04'00'\", 'modDate': \"D:20250430131511-04'00'\", 'trapped': '', 'encryption': None}, 'vector': None, 'shard_key': None, 'order_value': None}, {'id': 63, 'version': 0, 'score': 0.5, 'payload': {'text': 'This compensation,\\ndescribed below, can vary based on the type of annuity, the issuing insurance company, and the amount invested. \\n• \\nUnder an agreement with each insurance company, TIS is paid a commission for selling the company’s annuity products \\nbased on the type of annuity and the amount of your annuity purchase payments. Your TIS financial professional receives a \\nportion of this payment. \\n• \\nTIS also often receives ongoing payments, known as residual or trail commissions, on invested assets that are held in your \\nvariable annuity or certain indexed annuities to compensate for ongoing servicing. The insurance company sets these\\nongoing payments, and TIS generally pays a portion of these commissions to your TIS financial professional. \\nAnnuity commissions are determined by the type of annuity product and the amount the corresponding insurance carrier\\ndecides to offer. For TIS, such commission amounts range from 1% to 5%, and trail payment amounts range from 0.25% to 1%.\\nTypically, commission options featuring a higher percentage up front will offer a lower trail commission. Conversely, lower \\npaying commission options typically offer higher trail commissions. \\nConﬂicts of Interest - Annuity Compensation \\nSome insurance companies pay TIS and your TIS financial professional higher compensation for sales of certain annuity types\\ncompared to other types. This creates an incentive for us to recommend and sell certain annuities because a particular annuity \\n2025-04-0651 \\nTIS Investing Guide Page 12 of 22', 'file_path': './Data/tis-investing-guide.pdf', 'file_name': 'tis-investing-guide.pdf', 'file_size': 1041415, 'file_type': 'application/pdf', 'page_number': 12, 'format': 'PDF 1.6', 'title': 'Truist Investment Services, Inc. Investing Guide June 9, 2025', 'author': 'Truist', 'subject': 'Truist Investment Services, Inc. Investing Guide June 9, 2025', 'keywords': 'ADA', 'creator': 'Acrobat PDFMaker 24 for Word', 'producer': 'Adobe PDF Library 24.5.96', 'creationDate': \"D:20250403162636-04'00'\", 'modDate': \"D:20250430131511-04'00'\", 'trapped': '', 'encryption': None}, 'vector': None, 'shard_key': None, 'order_value': None}, {'id': 12, 'version': 0, 'score': 0.42424244, 'payload': {'text': 'In a Full-Service relationship with a dedicated ﬁnancial professional, you have access to a full suite of TIS brokerage and TAS \\ninvestment advisory products and services. Minimum asset balance requirements apply. You have a direct relationship with\\nyour ﬁnancial professional for investment strategies, recommendations, and guidance speciﬁc to your needs and goals. Full- \\nService brokerage accounts are eligible to invest in equities, ﬁxed income, ETFs, mutual funds, annuities, structured products,\\nalternative investments, and other securities on our Platform which TIS makes available to such accounts. \\nIn a Full-Service relationship with the Client Advisory Center (“CAC”), you have access to a more limited menu of TIS brokerage\\nproducts and services from which a CAC ﬁnancial professional can make recommendations, including mutual funds, annuities,\\nbrokered CDs, Treasuries, structured products, and certain advisory programs oﬀered through TAS. Individualized service is \\nprovided by a centralized team of telephone-based ﬁnancial professionals. \\nRecommendations do not include all possible investments and the availability of products and services will vary over time. TIS\\nreserves the right, in its sole discretion, to determine at any time and from time to time, and with or without advance notice,\\nwhich products and services we make available to our Full-Service brokerage accounts. We also reserve the right to reject \\ntransactions in our sole discretion. \\nFull-Service brokerage services are more expensive than Self-Directed brokerage services and charge higher commission rates\\non securities transactions.', 'file_path': './Data/tis-investing-guide.pdf', 'file_name': 'tis-investing-guide.pdf', 'file_size': 1041415, 'file_type': 'application/pdf', 'page_number': 3, 'format': 'PDF 1.6', 'title': 'Truist Investment Services, Inc. Investing Guide June 9, 2025', 'author': 'Truist', 'subject': 'Truist Investment Services, Inc. Investing Guide June 9, 2025', 'keywords': 'ADA', 'creator': 'Acrobat PDFMaker 24 for Word', 'producer': 'Adobe PDF Library 24.5.96', 'creationDate': \"D:20250403162636-04'00'\", 'modDate': \"D:20250430131511-04'00'\", 'trapped': '', 'encryption': None}, 'vector': None, 'shard_key': None, 'order_value': None}, {'id': 117, 'version': 0, 'score': 0.33333334, 'payload': {'text': 'We and our Advisors have direct conflicts of interest in making \\nrecommendations to you in the case of Retirement Account Transactions because, if you do not engage in a Retirement \\nAccount Transaction and purchase our IRA retirement products and services, the Firm and your Advisor will not be \\ncompensated. For additional information relating to the Firm’s and our Advisors’ conflicts of interest associated with \\ninvestment services and the investment products we offer, and other conflicts of interest, please consult our Form CRS which \\nwe have concurrently or previously provided to you, and this TIS Investing Guide. These documents may also be obtained \\nonline at (https://www.truist.com/wealth/tas-disclosure) (https://www.truist.com/wealth/tis-disclosure) or by speaking with \\nyour Truist Advisor. \\nPLEASE NOTE, however, that our fiduciary duties and fiduciary status arising under the Retirement Account Advice Exemption\\nare limited to retirement investment advice we provide to you in connection with Retirement Account Transactions and that \\nthis retirement investment advice fiduciary status and associated fiduciary duties do not extend to any other aspects of our\\nother investment relationships with you. Instead, with regard to non- retirement account brokerage transactions, non-\\nretirement investment advisory relationship and other investment relationships which are not subject to the requirements of\\nthe Retirement Account Advice Exemption, our investment and other duties to you are determined by the terms of our\\naccount agreements with you, our disclosure materials, applicable laws and regulations and other factors.', 'file_path': './Data/tis-investing-guide.pdf', 'file_name': 'tis-investing-guide.pdf', 'file_size': 1041415, 'file_type': 'application/pdf', 'page_number': 22, 'format': 'PDF 1.6', 'title': 'Truist Investment Services, Inc. Investing Guide June 9, 2025', 'author': 'Truist', 'subject': 'Truist Investment Services, Inc. Investing Guide June 9, 2025', 'keywords': 'ADA', 'creator': 'Acrobat PDFMaker 24 for Word', 'producer': 'Adobe PDF Library 24.5.96', 'creationDate': \"D:20250403162636-04'00'\", 'modDate': \"D:20250430131511-04'00'\", 'trapped': '', 'encryption': None}, 'vector': None, 'shard_key': None, 'order_value': None}, {'id': 109, 'version': 0, 'score': 0.25, 'payload': {'text': 'The \\nterms of these Business Incentive Programs (“BIPs”) vary among Truist Advisors and not all representatives are offered the\\nopportunity to participate in all of the incentive programs described below. \\nTIS financial professionals are compensated in part by BIPs which reward financial professionals with a percentage of the\\nrevenue TIS receives. In addition, Truist Advisors can also receive credit towards their qualifying production (through both one\\xad\\ntime cash payments or increased payout rates) for referrals to Truist Bank and affiliates for products and services offered to\\nthose clients, including: securities-backed loans; Trust; and investment banking. TIS mitigates the conflict of interest created by\\nthese referrals by disclosing it to its clients, requiring a supervisory review for each referral opportunity and an annual review\\nfor each applicable BIP design. \\nMonthly Commissions and Annual Revenue Award: Truist Advisors receive incentive awards based on their monthly and \\nannual aggregated revenue generated for TIS, TAS and their Affiliates in connection with purchases of investment products, \\ninvestment advisory services and other financial products offered by TIS, TAS and their Affiliates, by the Truist Advisor’s clients. \\nThe compensation rate increases in percentage amounts as the amount of the revenue generated by the Truist Advisor’s \\nassociated client base increases. \\nAdvisor Loans: Loans may be offered to certain Truist Advisors upon employment. Under the terms of these \\nagreements/notes, the Truist Advisor is required to pay-back the loan on a periodic basis for a set period of time, typically over \\na period of years.', 'file_path': './Data/tis-investing-guide.pdf', 'file_name': 'tis-investing-guide.pdf', 'file_size': 1041415, 'file_type': 'application/pdf', 'page_number': 21, 'format': 'PDF 1.6', 'title': 'Truist Investment Services, Inc. Investing Guide June 9, 2025', 'author': 'Truist', 'subject': 'Truist Investment Services, Inc. Investing Guide June 9, 2025', 'keywords': 'ADA', 'creator': 'Acrobat PDFMaker 24 for Word', 'producer': 'Adobe PDF Library 24.5.96', 'creationDate': \"D:20250403162636-04'00'\", 'modDate': \"D:20250430131511-04'00'\", 'trapped': '', 'encryption': None}, 'vector': None, 'shard_key': None, 'order_value': None}]\n",
      "coherence_score:\n",
      "1\n",
      "coherence_reasoning:\n",
      "1. The submission is coherent as it clearly outlines the services offered by the company, including Full-Service brokerage, investment advisory products, client advisory services, and tools and resources.\n",
      "2. The submission is well-structured as it presents the information in a logical order, starting with the services offered by the company and then elaborating on the different levels of brokerage relationships.\n",
      "3. The submission is organized as it maintains a clear focus on the services provided by the company and does not deviate into unrelated information.\n",
      "\n",
      "Therefore, the submission meets the criteria.\n",
      "relevance_score:\n",
      "1\n",
      "relevance_reasoning:\n",
      "Step 1: Identify the key information in the submission:\n",
      "- The company offers a range of services including Full-Service brokerage, investment advisory products and services, client advisory services, and tools and resources.\n",
      "\n",
      "Step 2: Compare the key information in the submission to the input:\n",
      "- The submission addresses the question by listing the services offered by the company.\n",
      "\n",
      "Step 3: Evaluate if the submission is relevant to the input:\n",
      "- The submission directly answers the question by providing a detailed list of services offered by the company.\n",
      "\n",
      "Therefore, the submission meets the criteria.\n",
      "helpfulness_score:\n",
      "1\n",
      "helpfulness_reasoning:\n",
      "1. The submission is helpful as it accurately identifies the services offered by the company, including Full-Service brokerage, investment advisory products, client advisory services, and tools and resources. It also mentions the different levels of brokerage relationships and associated costs, providing a comprehensive overview of the services offered.\n",
      "\n",
      "Therefore, the submission meets the criteria of helpfulness.\n",
      "\n",
      "Y\n"
     ]
    }
   ],
   "source": [
    "for key, val in result.items():\n",
    "    print(f\"{key}:\")\n",
    "    print(f\"{val}\")"
   ]
  },
  {
   "cell_type": "code",
   "execution_count": null,
   "id": "84c49432",
   "metadata": {},
   "outputs": [],
   "source": [
    "df = pd.DataFrame([result])\n",
    "df"
   ]
  },
  {
   "cell_type": "code",
   "execution_count": null,
   "id": "674d011a",
   "metadata": {},
   "outputs": [],
   "source": [
    "\n",
    "print(response['output'])"
   ]
  },
  {
   "cell_type": "code",
   "execution_count": null,
   "id": "36a81606",
   "metadata": {},
   "outputs": [],
   "source": [
    "# combine the tools and provide to the llm\n",
    "tools = [retrieve]\n",
    "agent = create_tool_calling_agent(llm, tools, prompt)\n",
    "\n",
    "# create the agent executor\n",
    "agent_executor = AgentExecutor(agent=agent, tools=tools, verbose=True)"
   ]
  },
  {
   "cell_type": "code",
   "execution_count": null,
   "id": "0b88f78c",
   "metadata": {},
   "outputs": [],
   "source": [
    "# invoke the agent\n",
    "response = agent_executor.invoke({\"input\": \"which are the services offered by the company?\"})"
   ]
  },
  {
   "cell_type": "code",
   "execution_count": null,
   "id": "22270c47",
   "metadata": {},
   "outputs": [],
   "source": [
    "print(response['output'])"
   ]
  },
  {
   "cell_type": "code",
   "execution_count": null,
   "id": "3d213e92",
   "metadata": {},
   "outputs": [],
   "source": [
    "# invoke the agent\n",
    "response = agent_executor.invoke({\"input\": \"which are the main risk factors highlighted in the document?\"})"
   ]
  },
  {
   "cell_type": "code",
   "execution_count": null,
   "id": "fc1a4388",
   "metadata": {},
   "outputs": [],
   "source": [
    "print(response['output'])"
   ]
  },
  {
   "cell_type": "code",
   "execution_count": null,
   "id": "73e7a74a",
   "metadata": {},
   "outputs": [],
   "source": []
  },
  {
   "cell_type": "markdown",
   "id": "7740e8fb",
   "metadata": {},
   "source": [
    "### Appendix\n",
    "\n",
    "Qdrant documentation at https://api.qdrant.tech/api-reference/search/query-points"
   ]
  },
  {
   "cell_type": "code",
   "execution_count": null,
   "id": "789374c1",
   "metadata": {},
   "outputs": [],
   "source": [
    "from qdrant_client import QdrantClient, models\n",
    "\n",
    "client = QdrantClient(url=\"http://localhost:6333\")\n",
    "\n",
    "# Query nearest by ID\n",
    "nearest = client.query_points(\n",
    "    collection_name=\"{collection_name}\",\n",
    "    query=\"43cf51e2-8777-4f52-bc74-c2cbde0c8b04\",\n",
    ")\n",
    "\n",
    "# Recommend on the average of these vectors\n",
    "recommended = client.query_points(\n",
    "    collection_name=\"{collection_name}\",\n",
    "    query=models.RecommendQuery(recommend=models.RecommendInput(\n",
    "        positive=[\"43cf51e2-8777-4f52-bc74-c2cbde0c8b04\", [0.11, 0.35, 0.6, ...]],\n",
    "        negative=[[0.01, 0.45, 0.67, ...]]\n",
    "    ))\n",
    ")\n",
    "\n",
    "# Fusion query\n",
    "hybrid = client.query_points(\n",
    "    collection_name=\"{collection_name}\",\n",
    "    prefetch=[\n",
    "        models.Prefetch(\n",
    "            query=models.SparseVector(indices=[1, 42], values=[0.22, 0.8]),\n",
    "            using=\"sparse\",\n",
    "            limit=20,\n",
    "        ),\n",
    "        models.Prefetch(\n",
    "            query=[0.01, 0.45, 0.67, ...],  # <-- dense vector\n",
    "            using=\"dense\",\n",
    "            limit=20,\n",
    "        ),\n",
    "    ],\n",
    "    query=models.FusionQuery(fusion=models.Fusion.RRF),\n",
    ")\n",
    "\n",
    "# 2-stage query\n",
    "refined = client.query_points(\n",
    "    collection_name=\"{collection_name}\",\n",
    "    prefetch=models.Prefetch(\n",
    "        query=[0.01, 0.45, 0.67, ...],  # <-- dense vector\n",
    "        limit=100,\n",
    "    ),\n",
    "    query=[\n",
    "        [0.1, 0.2, ...],  # <─┐\n",
    "        [0.2, 0.1, ...],  # < ├─ multi-vector\n",
    "        [0.8, 0.9, ...],  # < ┘\n",
    "    ],\n",
    "    using=\"colbert\",\n",
    "    limit=10,\n",
    ")\n",
    "\n",
    "# Random sampling (as of 1.11.0)\n",
    "sampled = client.query_points(\n",
    "    collection_name=\"{collection_name}\",\n",
    "    query=models.SampleQuery(sample=models.Sample.RANDOM)\n",
    ")\n",
    "\n",
    "# Score boost depending on payload conditions (as of 1.14.0)\n",
    "tag_boosted = client.query_points(\n",
    "    collection_name=\"{collection_name}\",\n",
    "    prefetch=models.Prefetch(\n",
    "        query=[0.2, 0.8, ...],  # <-- dense vector\n",
    "        limit=50\n",
    "    ),\n",
    "    query=models.FormulaQuery(\n",
    "        formula=models.SumExpression(sum=[\n",
    "            \"$score\",\n",
    "            models.MultExpression(mult=[0.5, models.FieldCondition(key=\"tag\", match=models.MatchAny(any=[\"h1\", \"h2\", \"h3\", \"h4\"]))]),\n",
    "            models.MultExpression(mult=[0.25, models.FieldCondition(key=\"tag\", match=models.MatchAny(any=[\"p\", \"li\"]))])\n",
    "        ]\n",
    "    ))\n",
    ")\n",
    "\n",
    "# Score boost geographically closer points (as of 1.14.0)\n",
    "geo_boosted = client.query_points(\n",
    "    collection_name=\"{collection_name}\",\n",
    "    prefetch=models.Prefetch(\n",
    "        query=[0.2, 0.8, ...],  # <-- dense vector\n",
    "        limit=50\n",
    "    ),\n",
    "    query=models.FormulaQuery(\n",
    "        formula=models.SumExpression(sum=[\n",
    "            \"$score\",\n",
    "            models.GaussDecayExpression(\n",
    "                gauss_decay=models.DecayParamsExpression(\n",
    "                    x=models.GeoDistance(\n",
    "                        geo_distance=models.GeoDistanceParams(\n",
    "                            origin=models.GeoPoint(\n",
    "                                lat=52.504043,\n",
    "                                lon=13.393236\n",
    "                            ),  # Berlin\n",
    "                            to=\"geo.location\"\n",
    "                        )\n",
    "                    ),\n",
    "                    scale=5000  # 5km\n",
    "                )\n",
    "            )\n",
    "        ]),\n",
    "        defaults={\"geo.location\": models.GeoPoint(lat=48.137154, lon=11.576124)}  # Munich\n",
    "    )\n",
    ")\n"
   ]
  },
  {
   "cell_type": "code",
   "execution_count": null,
   "id": "231d244e",
   "metadata": {},
   "outputs": [],
   "source": []
  }
 ],
 "metadata": {
  "kernelspec": {
   "display_name": "base",
   "language": "python",
   "name": "python3"
  },
  "language_info": {
   "codemirror_mode": {
    "name": "ipython",
    "version": 3
   },
   "file_extension": ".py",
   "mimetype": "text/x-python",
   "name": "python",
   "nbconvert_exporter": "python",
   "pygments_lexer": "ipython3",
   "version": "3.12.7"
  }
 },
 "nbformat": 4,
 "nbformat_minor": 5
}
