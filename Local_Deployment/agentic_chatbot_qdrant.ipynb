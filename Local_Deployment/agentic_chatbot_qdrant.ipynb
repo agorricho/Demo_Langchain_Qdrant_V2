{
 "cells": [
  {
   "cell_type": "markdown",
   "id": "7fa9a4d5",
   "metadata": {},
   "source": [
    "### Import dependencies"
   ]
  },
  {
   "cell_type": "code",
   "execution_count": 14,
   "id": "1791d462",
   "metadata": {},
   "outputs": [],
   "source": [
    "import os\n",
    "from dotenv import load_dotenv\n",
    "\n",
    "from openai import OpenAI\n",
    "\n",
    "from langchain.agents import AgentExecutor\n",
    "from langchain_openai import ChatOpenAI\n",
    "from langchain_core.prompts import ChatPromptTemplate, MessagesPlaceholder\n",
    "from langchain.agents import create_tool_calling_agent\n",
    "from langchain_core.prompts import PromptTemplate\n",
    "from langchain_community.vectorstores import SupabaseVectorStore\n",
    "from langchain_openai import OpenAIEmbeddings\n",
    "from langchain import hub\n",
    "from langchain_core.tools import tool\n",
    "\n",
    "from qdrant_client import QdrantClient\n",
    "from qdrant_client.http.models import Filter, SparseVector\n",
    "from fastembed import TextEmbedding, SparseTextEmbedding\n",
    "from langchain.vectorstores import Qdrant"
   ]
  },
  {
   "cell_type": "markdown",
   "id": "362eabf2",
   "metadata": {},
   "source": [
    "### Load environment variables"
   ]
  },
  {
   "cell_type": "code",
   "execution_count": 15,
   "metadata": {},
   "outputs": [],
   "source": [
    "# Load environment variables\n",
    "load_dotenv()\n",
    "QDRANT_URL = os.getenv(\"QDRANT_URL\")\n",
    "QDRANT_API_KEY = os.getenv(\"QDRANT_API_KEY\")\n",
    "COLLECTION_NAME = os.getenv(\"QDRANT_COLLECTION_NAME\")"
   ]
  },
  {
   "cell_type": "code",
   "execution_count": 16,
   "id": "70f04f03",
   "metadata": {},
   "outputs": [],
   "source": [
    "# Initialize dense and sparse embedding models\n",
    "dense_model = TextEmbedding(model_name=\"sentence-transformers/all-MiniLM-L6-v2\")\n",
    "sparse_model = SparseTextEmbedding(model_name=\"Qdrant/bm42-all-minilm-l6-v2-attentions\")"
   ]
  },
  {
   "cell_type": "code",
   "execution_count": 17,
   "id": "a7c8f2cf",
   "metadata": {},
   "outputs": [
    {
     "name": "stderr",
     "output_type": "stream",
     "text": [
      "/tmp/ipykernel_15734/2748386960.py:2: UserWarning: Api key is used with an insecure connection.\n",
      "  qdrant_client = QdrantClient(\n"
     ]
    }
   ],
   "source": [
    "# Initialize Qdrant client\n",
    "qdrant_client = QdrantClient(\n",
    "    url=QDRANT_URL,\n",
    "    api_key=QDRANT_API_KEY,\n",
    ")\n"
   ]
  },
  {
   "cell_type": "code",
   "execution_count": 18,
   "id": "7eb62cbf",
   "metadata": {},
   "outputs": [
    {
     "name": "stderr",
     "output_type": "stream",
     "text": [
      "/home/cgorricho/anaconda3/lib/python3.13/site-packages/langsmith/client.py:272: LangSmithMissingAPIKeyWarning: API key must be provided when using hosted LangSmith API\n",
      "  warnings.warn(\n"
     ]
    }
   ],
   "source": [
    "# Initialize LLM\n",
    "llm = ChatOpenAI(temperature=0)\n",
    "\n",
    "# fetch the prompt from the prompt hub\n",
    "prompt = hub.pull(\"hwchase17/openai-functions-agent\")\n"
   ]
  },
  {
   "cell_type": "code",
   "execution_count": 19,
   "id": "b2681946",
   "metadata": {},
   "outputs": [],
   "source": [
    "from qdrant_client import QdrantClient, models\n",
    "from langchain.agents import tool\n",
    "\n",
    "@tool(response_format=\"content_and_artifact\")\n",
    "def retrieve(query: str):\n",
    "    \"\"\"Perform hybrid (dense + sparse) search using Qdrant Query API.\"\"\"\n",
    "\n",
    "    # Generate dense and sparse embeddings\n",
    "    dense_emb = list(dense_model.embed([query]))[0]\n",
    "    sparse_emb = list(sparse_model.embed([query]))[0]\n",
    "    sparse_vector = models.SparseVector(\n",
    "        indices=sparse_emb.indices.tolist(),\n",
    "        values=sparse_emb.values.tolist()\n",
    "    )\n",
    "\n",
    "    \n",
    "    # Fusion query\n",
    "    context = qdrant_client.query_points(\n",
    "        collection_name=COLLECTION_NAME,\n",
    "        prefetch=[\n",
    "            models.Prefetch(\n",
    "                query=sparse_vector,\n",
    "                using=\"sparse\",\n",
    "                limit=20,\n",
    "            ),\n",
    "            models.Prefetch(\n",
    "                query=dense_emb,\n",
    "                using=\"dense\",\n",
    "                limit=20,\n",
    "            ),\n",
    "        ],\n",
    "        query=models.FusionQuery(fusion=models.Fusion.RRF),\n",
    "        with_payload=True,\n",
    "        # with_vector=False,\n",
    "        limit=5\n",
    "    )\n",
    "\n",
    "    # Format result\n",
    "    serialized = \"\\n\\n\".join(\n",
    "        (f\"ID: {pt.id}\\\n",
    "        \\nScore: {pt.score}\\\n",
    "        \\nText: {pt.payload['text']}\\\n",
    "        \\nSource: {pt.payload['file_name']}\\\n",
    "        \\nPage: {pt.payload['page_number']}\")\n",
    "        for pt in context.points\n",
    "    )\n",
    "\n",
    "    return serialized, context\n"
   ]
  },
  {
   "cell_type": "code",
   "execution_count": 20,
   "id": "f4e8ed08",
   "metadata": {},
   "outputs": [],
   "source": [
    "# combine the tools and provide to the llm\n",
    "tools = [retrieve]\n",
    "agent = create_tool_calling_agent(llm, tools, prompt)\n",
    "\n",
    "# create the agent executor\n",
    "agent_executor = AgentExecutor(agent=agent, tools=tools, verbose=True)"
   ]
  },
  {
   "cell_type": "code",
   "execution_count": 21,
   "id": "f5b391d2",
   "metadata": {},
   "outputs": [],
   "source": [
    "query='what are the services offered'"
   ]
  },
  {
   "cell_type": "code",
   "execution_count": 22,
   "id": "4d374bc9",
   "metadata": {},
   "outputs": [
    {
     "name": "stdout",
     "output_type": "stream",
     "text": [
      "\n",
      "\n",
      "\u001b[1m> Entering new AgentExecutor chain...\u001b[0m\n",
      "\u001b[32;1m\u001b[1;3m\n",
      "Invoking: `retrieve` with `{'query': 'services offered'}`\n",
      "\n",
      "\n",
      "\u001b[0m\u001b[36;1m\u001b[1;3mID: 12        \n",
      "Score: 0.64285713        \n",
      "Text: In a Full-Service relationship with a dedicated ﬁnancial professional, you have access to a full suite of TIS brokerage and TAS \n",
      "investment advisory products and services. Minimum asset balance requirements apply. You have a direct relationship with\n",
      "your ﬁnancial professional for investment strategies, recommendations, and guidance speciﬁc to your needs and goals. Full- \n",
      "Service brokerage accounts are eligible to invest in equities, ﬁxed income, ETFs, mutual funds, annuities, structured products,\n",
      "alternative investments, and other securities on our Platform which TIS makes available to such accounts. \n",
      "In a Full-Service relationship with the Client Advisory Center (“CAC”), you have access to a more limited menu of TIS brokerage\n",
      "products and services from which a CAC ﬁnancial professional can make recommendations, including mutual funds, annuities,\n",
      "brokered CDs, Treasuries, structured products, and certain advisory programs oﬀered through TAS. Individualized service is \n",
      "provided by a centralized team of telephone-based ﬁnancial professionals. \n",
      "Recommendations do not include all possible investments and the availability of products and services will vary over time. TIS\n",
      "reserves the right, in its sole discretion, to determine at any time and from time to time, and with or without advance notice,\n",
      "which products and services we make available to our Full-Service brokerage accounts. We also reserve the right to reject \n",
      "transactions in our sole discretion. \n",
      "Full-Service brokerage services are more expensive than Self-Directed brokerage services and charge higher commission rates\n",
      "on securities transactions.        \n",
      "Source: tis-investing-guide.pdf        \n",
      "Page: 3\n",
      "\n",
      "ID: 117        \n",
      "Score: 0.5        \n",
      "Text: We and our Advisors have direct conflicts of interest in making \n",
      "recommendations to you in the case of Retirement Account Transactions because, if you do not engage in a Retirement \n",
      "Account Transaction and purchase our IRA retirement products and services, the Firm and your Advisor will not be \n",
      "compensated. For additional information relating to the Firm’s and our Advisors’ conflicts of interest associated with \n",
      "investment services and the investment products we offer, and other conflicts of interest, please consult our Form CRS which \n",
      "we have concurrently or previously provided to you, and this TIS Investing Guide. These documents may also be obtained \n",
      "online at (https://www.truist.com/wealth/tas-disclosure) (https://www.truist.com/wealth/tis-disclosure) or by speaking with \n",
      "your Truist Advisor. \n",
      "PLEASE NOTE, however, that our fiduciary duties and fiduciary status arising under the Retirement Account Advice Exemption\n",
      "are limited to retirement investment advice we provide to you in connection with Retirement Account Transactions and that \n",
      "this retirement investment advice fiduciary status and associated fiduciary duties do not extend to any other aspects of our\n",
      "other investment relationships with you. Instead, with regard to non- retirement account brokerage transactions, non-\n",
      "retirement investment advisory relationship and other investment relationships which are not subject to the requirements of\n",
      "the Retirement Account Advice Exemption, our investment and other duties to you are determined by the terms of our\n",
      "account agreements with you, our disclosure materials, applicable laws and regulations and other factors.        \n",
      "Source: tis-investing-guide.pdf        \n",
      "Page: 22\n",
      "\n",
      "ID: 7        \n",
      "Score: 0.33333334        \n",
      "Text: offers clients several ways to avoid annual fees. For example, the IRA annual maintenance fee will be waived for \n",
      "households valued at $500,000 (or more) in brokerage assets. Please contact your financial professional for additional information. \n",
      "** Truist Investment Services, Inc. offers clients several ways to avoid annual fees. For example, the Annual Custody fee and the Truist Trade Annual \n",
      "Subscription Fee will be waived for households valued at $250,000 (or more) in applicable investment (non-deposit) assets. Please contact your financial \n",
      "professional for additional information. \n",
      "*** Excludes mutual fund exchanges and Systematic Withdrawal Plans. Fee is waived if documents are e-delivered. \n",
      "All recommendations regarding purchases or sales in your brokerage account will be made by your TIS ﬁnancial professional in \n",
      "a broker-dealer capacity only. Since brokerage and investment advisory products, services and fees diﬀer, it’s important you \n",
      "understand the diﬀerences so you can choose the account and services that are right for your needs. For more details regarding \n",
      "TAS and the investment advisory programs it oﬀers, please refer to Form CRS, Brochures, and other disclosures found at \n",
      "https://www.truist.com/wealth/tas-disclosure.        \n",
      "Source: tis-investing-guide.pdf        \n",
      "Page: 2\n",
      "\n",
      "ID: 1        \n",
      "Score: 0.33333334        \n",
      "Text: (“TIS”) oﬀers and conﬂicts of interest that arise through delivery of \n",
      "brokerage services to you, along with how TIS aﬃliates, including Truist Advisory Services, Inc. and Truist Bank, can interact with \n",
      "you and TIS to provide additional non-brokerage services to your account. Our goal is to help you understand the products and \n",
      "services we oﬀer, fees involved, applicable compensation, and relevant conﬂicts of interest, so that you can make informed \n",
      "investment decisions. \n",
      "Deﬁned Terms \n",
      "The information contained in this document is current as of the date above and is subject to change at our discretion. You \n",
      "should review this document carefully, retain it with your records, and refer to it when you receive recommendations from us. \n",
      "For purposes of this guide, the terms “TIS,” “we,” “us” and “our” refer to Truist Investment Services, Inc., a wholly owned \n",
      "subsidiary of Truist Financial Corporation (“TFC”). TIS is a broker-dealer registered with the U.S. Securities and Exchange \n",
      "Commission (“SEC”), a Member of the Financial Industry Regulatory Authority (“FINRA”) and the Securities Investor Protection\n",
      "Corporation (“SIPC”), and a licensed insurance agency. \n",
      "The terms “you” and “your” refer to the owner of a brokerage account (“account” or “Brokerage Account”) held with TIS. For \n",
      "joint accounts, these terms refer to all owners, collectively and individually.        \n",
      "Source: tis-investing-guide.pdf        \n",
      "Page: 1\n",
      "\n",
      "ID: 20        \n",
      "Score: 0.25        \n",
      "Text: Full-Service brokerage clients have the ability to access \n",
      "other share classes on an unsolicited basis only. \n",
      "There are several diﬀerent classes of mutual fund shares. Each share class has diﬀerent fees and expenses, which aﬀect the \n",
      "fund’s results. Higher mutual fund expense level share classes will reduce investment performance in comparison to lower\n",
      "expenses level share classes in the same mutual fund. \n",
      "Mutual fund share classes we recommend to TIS clients vary by brokerage relationship (Self-Directed or Full-Service). \n",
      "Class A Shares generally carry front-end sales charges. These are deducted from your initial investment. The front-end sales \n",
      "charge can range from 0.00% -5.75%. A Shares also typically charge annual 12b-1 fees of 0.25%. These sales charges and fees \n",
      "are more fully described in each mutual fund’s prospectus and statement of additional information. \n",
      "Breakpoint Discounts: Most Class A Share mutual funds oﬀer breakpoint discounts for large investments, so that, the larger\n",
      "your investment in a mutual fund, the lower the sales charge percentage applied to the transaction. Many mutual fund \n",
      "companies also count holdings in related accounts and/or holdings of multiple mutual funds oﬀered by the same mutual fund \n",
      "company toward this breakpoint. This privilege is referred to as rights of accumulation.        \n",
      "Source: tis-investing-guide.pdf        \n",
      "Page: 5\u001b[0m\u001b[32;1m\u001b[1;3mThe company offers a range of services including Full-Service brokerage accounts with access to various investment products such as equities, fixed income, ETFs, mutual funds, annuities, structured products, alternative investments, and other securities. They also provide a more limited menu of brokerage products and services through the Client Advisory Center. Additionally, the company offers ways to avoid annual fees for households with certain asset values. For more details on the services offered, you can refer to the TIS Investing Guide.\u001b[0m\n",
      "\n",
      "\u001b[1m> Finished chain.\u001b[0m\n",
      "CPU times: user 1.15 s, sys: 3.71 ms, total: 1.15 s\n",
      "Wall time: 2.28 s\n"
     ]
    }
   ],
   "source": [
    "%%time\n",
    "# invoke the agent\n",
    "response = agent_executor.invoke({\"input\": \"which are the services offered by the company?\"})"
   ]
  },
  {
   "cell_type": "code",
   "execution_count": 23,
   "id": "140d06ad",
   "metadata": {},
   "outputs": [
    {
     "name": "stdout",
     "output_type": "stream",
     "text": [
      "The company offers a range of services including Full-Service brokerage accounts with access to various investment products such as equities, fixed income, ETFs, mutual funds, annuities, structured products, alternative investments, and other securities. They also provide a more limited menu of brokerage products and services through the Client Advisory Center. Additionally, the company offers ways to avoid annual fees for households with certain asset values. For more details on the services offered, you can refer to the TIS Investing Guide.\n"
     ]
    }
   ],
   "source": [
    "print(response['output'])"
   ]
  },
  {
   "cell_type": "code",
   "execution_count": 24,
   "id": "2e65ca2f",
   "metadata": {},
   "outputs": [
    {
     "name": "stdout",
     "output_type": "stream",
     "text": [
      "\n",
      "\n",
      "\u001b[1m> Entering new AgentExecutor chain...\u001b[0m\n",
      "\u001b[32;1m\u001b[1;3m\n",
      "Invoking: `retrieve` with `{'query': 'main risk factors'}`\n",
      "\n",
      "\n",
      "\u001b[0m\u001b[36;1m\u001b[1;3mID: 79        \n",
      "Score: 0.6666667        \n",
      "Text: Prior to investing in a structured product, please read the issuer’s offering documents, prospectus, and supplements, including \n",
      "the “Risk Factors” described therein, to determine and ensure that the product is suitable for your investment needs and that\n",
      "you have the ability to bear the economic and other risks inherent to the product. \n",
      "Conﬂicts of Interest – Structured Products \n",
      "Compensation to financial professionals is generated from sales concessions. Sales concessions range from 1% to 3.5%,\n",
      "depending on the term length of the structured product. In addition, an underlying index or set of investments (called the\n",
      "underlier) which are used to calculate the performance of a structured product can have a management fee. Such \n",
      "management fees range from 0% to 1% depending on the nature of each underlier.        \n",
      "Source: tis-investing-guide.pdf        \n",
      "Page: 16\n",
      "\n",
      "ID: 77        \n",
      "Score: 0.6        \n",
      "Text: Structured Product Features \n",
      "The following risks and considerations are associated with the purchase of structured products: Credit Risk, Liquidity Risk, Price\n",
      "Risk, Call Risk, Coupon Risk, and Tax Considerations. A detailed explanation of these risks and considerations can be found in\n",
      "the offering documents associated with each structured product issuance. \n",
      "Structured products are designed to be held to maturity and funds that are needed prior to maturity should not be invested in \n",
      "a structured product. Investors should take into account their future liquidity needs (such as required minimum distributions \n",
      "in an IRA) when considering the purchase of a structured product. Except in limited circumstances specified in the product’s \n",
      "supplement and disclosure statement, or as secondary markets are available, structured product owners will have no right to \n",
      "early termination prior to scheduled maturity. It is important to understand that if you sell a structured product before \n",
      "maturity, you may receive substantially less in sale proceeds than the original deposit amount. Although TIS or one of its \n",
      "affiliates may purchase a structured product from an investor prior to maturity, they are not obligated to do so and there is no \n",
      "assurance that a secondary market will be established or maintained. \n",
      "Structured products will not track the reference assets (market measures) directly, as they are not equivalent to an outright\n",
      "investment in the reference asset. In addition, the valuation on a brokerage account statement is a general guide and not an \n",
      "indication of the price at which you can sell your structured product.        \n",
      "Source: tis-investing-guide.pdf        \n",
      "Page: 15\n",
      "\n",
      "ID: 148        \n",
      "Score: 0.5588235        \n",
      "Text: Support my health\n",
      "18\n",
      "Outcome /  \n",
      "risk factor\n",
      "Criteria\n",
      "Rating\n",
      "Scoring \n",
      "range\n",
      " Triglycerides\n",
      "Ideal value: \n",
      "Less than 150 mg/dL\n",
      "•\t Ideal\n",
      "•\t High but taking meds \n",
      "or under provider \n",
      "supervision\n",
      "•\t High\n",
      "0 to 14\n",
      "HDL \n",
      "(“good \n",
      "cholesterol”)\n",
      "Ideal value: \n",
      "•\t Men - More than or \n",
      "equal to 40 mg/dL\n",
      "•\t Women - More than  \n",
      "or equal to 50 mg/dL\n",
      "•\t Ideal\n",
      "•\t Low but taking meds \n",
      "or under provider \n",
      "supervision\n",
      "•\t Low\n",
      "0 to 14\n",
      "Blood  \n",
      "pressure\n",
      "Ideal value: \n",
      "Less than  \n",
      "130/85 mm HG\n",
      "•\t Within ideal range\n",
      "•\t High but taking meds \n",
      "or under provider \n",
      "supervision\n",
      "•\t High\n",
      "0 to 14\n",
      "Fasting  \n",
      "glucose\n",
      "Ideal range:  \n",
      "65 - 99 mg/dL\n",
      "•\t Within ideal range\n",
      "•\t Pre-diabetic\n",
      "•\t High but taking meds \n",
      "or under provider \n",
      "supervision \n",
      "•\t High \n",
      "0 to 14\n",
      "Waist \n",
      "circumference\n",
      "Ideal:\n",
      "•\t Men – Less than  \n",
      "40 inches\n",
      "•\t Women – Less than \n",
      "35 inches \n",
      "•\t Ideal\n",
      "•\t 2 inches out of range \n",
      "•\t More than 2 inches \n",
      "out of range\n",
      "0 to 14\n",
      "Metabolic syndrome risk\n",
      "Metabolic syndrome is defined as having any three of these five risk factors. \n",
      "It’s associated with increased risk of heart disease, stroke, and type 2 diabetes. \n",
      "(Based on guidelines from the American Heart Association.)        \n",
      "Source: benefits-guide-2025.pdf        \n",
      "Page: 18\n",
      "\n",
      "ID: 41        \n",
      "Score: 0.4        \n",
      "Text: Within these types, various investment objectives and risk\n",
      "levels are offered, such as diversified UITs vs. sector-oriented UITs, or taxable fixed income vs. municipal fixed income. Please \n",
      "consult with your TIS financial professional to determine your needs. \n",
      "Features \n",
      "UITs provide specific portfolios that are professionally selected by experienced investment professionals, utilizing detailed\n",
      "screening techniques and analysis. In this sense, they are professionally selected but not professionally managed. Once the \n",
      "portfolio is chosen, the securities remain fixed until the predetermined maturity date. Securities will not be sold and new \n",
      "securities will not be added to the portfolio except in certain limited circumstances. \n",
      "A fixed portfolio can provide the investor comfort in knowing specifically the securities that are owned. A UIT is also fully \n",
      "invested in the market, endeavoring to assure that the investor’s money is at work. \n",
      "UITs are required by law to redeem units at their net asset value based upon the current market value of the underlying \n",
      "securities, less any deferred sales charges. This price upon redemption can be more or less than the original purchase price. \n",
      "Upon maturity of a UIT, the shareholder has the option to: (a) receive the cash value of the units, (b) roll into a new UIT, or (c) \n",
      "receive shares of the underlying securities held in the portfolio if the account meets a certain size requirement and this option \n",
      "is communicated by the shareholder to the financial professional at least thirty (30) calendar days prior to maturity. If upon \n",
      "maturity, no liquidity choice is chosen, the UIT will automatically be redeemed for cash.        \n",
      "Source: tis-investing-guide.pdf        \n",
      "Page: 8\n",
      "\n",
      "ID: 62        \n",
      "Score: 0.25        \n",
      "Text: Insurance Company Ratings \n",
      "The contractual guarantees made by the issuing insurance company are an important aspect of the benefits of an annuity.\n",
      "Since these guarantees depend on the claims paying ability of the issuing insurance company, the financial strength of the\n",
      "company is very important. \n",
      "Several independent, nationally recognized rating agencies regularly review the financial performance and condition of \n",
      "insurance companies to assess their financial strength and claims-paying ability. These rating agencies include A.M. Best \n",
      "Company, Fitch Ratings, Standard & Poor’s Corporation, and Moody’s Investors Service. Although not all insurance companies\n",
      "are rated by each of these agencies, the ratings that are available are widely used as indicators of insurance company financial \n",
      "strength. Even a strong rating, however, does not ensure that an insurance company will be able to meet its obligations under\n",
      "its annuity contracts. \n",
      "Also, please keep in mind that insurance company ratings do not relate to the past or future performance of any sub-accounts\n",
      "within a variable annuity. \n",
      "Annuity Compensation \n",
      "TIS and your TIS financial professional are compensated when you purchase an annuity through TIS. This compensation,\n",
      "described below, can vary based on the type of annuity, the issuing insurance company, and the amount invested. \n",
      "• \n",
      "Under an agreement with each insurance company, TIS is paid a commission for selling the company’s annuity products \n",
      "based on the type of annuity and the amount of your annuity purchase payments. Your TIS financial professional receives a \n",
      "portion of this payment.        \n",
      "Source: tis-investing-guide.pdf        \n",
      "Page: 12\u001b[0m\u001b[32;1m\u001b[1;3mThe main risk factors highlighted in the document include:\n",
      "\n",
      "1. Credit Risk\n",
      "2. Liquidity Risk\n",
      "3. Price Risk\n",
      "4. Call Risk\n",
      "5. Coupon Risk\n",
      "6. Tax Considerations\n",
      "\n",
      "These risks and considerations are associated with the purchase of structured products. It is important to refer to the offering documents associated with each structured product issuance for a detailed explanation of these risks.\u001b[0m\n",
      "\n",
      "\u001b[1m> Finished chain.\u001b[0m\n"
     ]
    }
   ],
   "source": [
    "# invoke the agent\n",
    "response = agent_executor.invoke({\"input\": \"which are the main risk factors highlighted in the document?\"})"
   ]
  },
  {
   "cell_type": "code",
   "execution_count": 25,
   "id": "5ce12c9a",
   "metadata": {},
   "outputs": [
    {
     "name": "stdout",
     "output_type": "stream",
     "text": [
      "The main risk factors highlighted in the document include:\n",
      "\n",
      "1. Credit Risk\n",
      "2. Liquidity Risk\n",
      "3. Price Risk\n",
      "4. Call Risk\n",
      "5. Coupon Risk\n",
      "6. Tax Considerations\n",
      "\n",
      "These risks and considerations are associated with the purchase of structured products. It is important to refer to the offering documents associated with each structured product issuance for a detailed explanation of these risks.\n"
     ]
    }
   ],
   "source": [
    "print(response['output'])"
   ]
  },
  {
   "cell_type": "markdown",
   "id": "f4e0ab47",
   "metadata": {},
   "source": [
    "# *** ONLY RUN THE NOTEBOOK UP TO THIS POINT ***\n",
    "\n",
    "From this point on the notebook explains the most critical parts of the code"
   ]
  },
  {
   "cell_type": "code",
   "execution_count": 16,
   "id": "0c320a0b",
   "metadata": {},
   "outputs": [],
   "source": [
    "serialized = retrieve(query)"
   ]
  },
  {
   "cell_type": "code",
   "execution_count": 17,
   "id": "590c5be3",
   "metadata": {},
   "outputs": [
    {
     "name": "stdout",
     "output_type": "stream",
     "text": [
      "ID: 12        \n",
      "Score: 0.64285713        \n",
      "Text: In a Full-Service relationship with a dedicated ﬁnancial professional, you have access to a full suite of TIS brokerage and TAS \n",
      "investment advisory products and services. Minimum asset balance requirements apply. You have a direct relationship with\n",
      "your ﬁnancial professional for investment strategies, recommendations, and guidance speciﬁc to your needs and goals. Full- \n",
      "Service brokerage accounts are eligible to invest in equities, ﬁxed income, ETFs, mutual funds, annuities, structured products,\n",
      "alternative investments, and other securities on our Platform which TIS makes available to such accounts. \n",
      "In a Full-Service relationship with the Client Advisory Center (“CAC”), you have access to a more limited menu of TIS brokerage\n",
      "products and services from which a CAC ﬁnancial professional can make recommendations, including mutual funds, annuities,\n",
      "brokered CDs, Treasuries, structured products, and certain advisory programs oﬀered through TAS. Individualized service is \n",
      "provided by a centralized team of telephone-based ﬁnancial professionals. \n",
      "Recommendations do not include all possible investments and the availability of products and services will vary over time. TIS\n",
      "reserves the right, in its sole discretion, to determine at any time and from time to time, and with or without advance notice,\n",
      "which products and services we make available to our Full-Service brokerage accounts. We also reserve the right to reject \n",
      "transactions in our sole discretion. \n",
      "Full-Service brokerage services are more expensive than Self-Directed brokerage services and charge higher commission rates\n",
      "on securities transactions.        \n",
      "Source: tis-investing-guide.pdf        \n",
      "Page: 3\n",
      "\n",
      "ID: 117        \n",
      "Score: 0.5        \n",
      "Text: We and our Advisors have direct conflicts of interest in making \n",
      "recommendations to you in the case of Retirement Account Transactions because, if you do not engage in a Retirement \n",
      "Account Transaction and purchase our IRA retirement products and services, the Firm and your Advisor will not be \n",
      "compensated. For additional information relating to the Firm’s and our Advisors’ conflicts of interest associated with \n",
      "investment services and the investment products we offer, and other conflicts of interest, please consult our Form CRS which \n",
      "we have concurrently or previously provided to you, and this TIS Investing Guide. These documents may also be obtained \n",
      "online at (https://www.truist.com/wealth/tas-disclosure) (https://www.truist.com/wealth/tis-disclosure) or by speaking with \n",
      "your Truist Advisor. \n",
      "PLEASE NOTE, however, that our fiduciary duties and fiduciary status arising under the Retirement Account Advice Exemption\n",
      "are limited to retirement investment advice we provide to you in connection with Retirement Account Transactions and that \n",
      "this retirement investment advice fiduciary status and associated fiduciary duties do not extend to any other aspects of our\n",
      "other investment relationships with you. Instead, with regard to non- retirement account brokerage transactions, non-\n",
      "retirement investment advisory relationship and other investment relationships which are not subject to the requirements of\n",
      "the Retirement Account Advice Exemption, our investment and other duties to you are determined by the terms of our\n",
      "account agreements with you, our disclosure materials, applicable laws and regulations and other factors.        \n",
      "Source: tis-investing-guide.pdf        \n",
      "Page: 22\n",
      "\n",
      "ID: 127        \n",
      "Score: 0.3611111        \n",
      "Text: Only in-network providers can be used; out-of-network services aren’t available \n",
      "except in emergencies.\n",
      "\t For either plan, check Aetna’s website to see if your provider is in network.\n",
      "•\t Kaiser Permanente – Kaiser Permanente has a network of providers and health care \n",
      "facilities in parts of California, Colorado, the Mid‑Atlantic (Maryland, Virginia, and \n",
      "Washington, D.C.), and Pacific Northwest (Oregon and Washington). Their health care \n",
      "facilities offer many services under one roof, often including a pharmacy. You must \n",
      "choose your doctor on Healthy.KaiserPermanente.org, but you can switch to another \n",
      "network provider at any time. Your doctor and specialist will coordinate your care. \n",
      "You must use a Kaiser Permanente provider for your care to be covered (except in an \n",
      "emergency). You’ll have the option of the Kaiser EPO or Kaiser $2,500 HDHP Plan. \n",
      "Aetna narrow network, ACO, and Kaiser plans are only available in certain areas, so \n",
      "refer to your enrollment options in Workday to see if you live within their service areas.        \n",
      "Source: benefits-guide-2025.pdf        \n",
      "Page: 6\n",
      "\n",
      "ID: 1        \n",
      "Score: 0.33333334        \n",
      "Text: (“TIS”) oﬀers and conﬂicts of interest that arise through delivery of \n",
      "brokerage services to you, along with how TIS aﬃliates, including Truist Advisory Services, Inc. and Truist Bank, can interact with \n",
      "you and TIS to provide additional non-brokerage services to your account. Our goal is to help you understand the products and \n",
      "services we oﬀer, fees involved, applicable compensation, and relevant conﬂicts of interest, so that you can make informed \n",
      "investment decisions. \n",
      "Deﬁned Terms \n",
      "The information contained in this document is current as of the date above and is subject to change at our discretion. You \n",
      "should review this document carefully, retain it with your records, and refer to it when you receive recommendations from us. \n",
      "For purposes of this guide, the terms “TIS,” “we,” “us” and “our” refer to Truist Investment Services, Inc., a wholly owned \n",
      "subsidiary of Truist Financial Corporation (“TFC”). TIS is a broker-dealer registered with the U.S. Securities and Exchange \n",
      "Commission (“SEC”), a Member of the Financial Industry Regulatory Authority (“FINRA”) and the Securities Investor Protection\n",
      "Corporation (“SIPC”), and a licensed insurance agency. \n",
      "The terms “you” and “your” refer to the owner of a brokerage account (“account” or “Brokerage Account”) held with TIS. For \n",
      "joint accounts, these terms refer to all owners, collectively and individually.        \n",
      "Source: tis-investing-guide.pdf        \n",
      "Page: 1\n",
      "\n",
      "ID: 7        \n",
      "Score: 0.33333334        \n",
      "Text: offers clients several ways to avoid annual fees. For example, the IRA annual maintenance fee will be waived for \n",
      "households valued at $500,000 (or more) in brokerage assets. Please contact your financial professional for additional information. \n",
      "** Truist Investment Services, Inc. offers clients several ways to avoid annual fees. For example, the Annual Custody fee and the Truist Trade Annual \n",
      "Subscription Fee will be waived for households valued at $250,000 (or more) in applicable investment (non-deposit) assets. Please contact your financial \n",
      "professional for additional information. \n",
      "*** Excludes mutual fund exchanges and Systematic Withdrawal Plans. Fee is waived if documents are e-delivered. \n",
      "All recommendations regarding purchases or sales in your brokerage account will be made by your TIS ﬁnancial professional in \n",
      "a broker-dealer capacity only. Since brokerage and investment advisory products, services and fees diﬀer, it’s important you \n",
      "understand the diﬀerences so you can choose the account and services that are right for your needs. For more details regarding \n",
      "TAS and the investment advisory programs it oﬀers, please refer to Form CRS, Brochures, and other disclosures found at \n",
      "https://www.truist.com/wealth/tas-disclosure.        \n",
      "Source: tis-investing-guide.pdf        \n",
      "Page: 2\n"
     ]
    }
   ],
   "source": [
    "print(serialized)"
   ]
  },
  {
   "cell_type": "code",
   "execution_count": 18,
   "id": "d34a15a1",
   "metadata": {},
   "outputs": [
    {
     "data": {
      "text/plain": [
       "384"
      ]
     },
     "execution_count": 18,
     "metadata": {},
     "output_type": "execute_result"
    }
   ],
   "source": [
    "dense_emb = list(dense_model.embed([query]))[0]\n",
    "len(dense_emb)"
   ]
  },
  {
   "cell_type": "code",
   "execution_count": 19,
   "id": "8a0378d5",
   "metadata": {},
   "outputs": [
    {
     "data": {
      "text/plain": [
       "array([-0.05865774, -0.02567403,  0.02276097, -0.03343063, -0.05385467,\n",
       "        0.06762547,  0.00263454, -0.01720169,  0.0195535 , -0.01091614])"
      ]
     },
     "execution_count": 19,
     "metadata": {},
     "output_type": "execute_result"
    }
   ],
   "source": [
    "dense_emb[:10]"
   ]
  },
  {
   "cell_type": "code",
   "execution_count": 20,
   "id": "d20ae58d",
   "metadata": {},
   "outputs": [],
   "source": [
    "sparse_embedding = list(sparse_model.embed([query]))[0]"
   ]
  },
  {
   "cell_type": "code",
   "execution_count": 21,
   "id": "fd11b7a3",
   "metadata": {},
   "outputs": [
    {
     "data": {
      "text/plain": [
       "SparseEmbedding(values=array([0.34146956, 0.26927151]), indices=array([1342301861, 1401524087]))"
      ]
     },
     "execution_count": 21,
     "metadata": {},
     "output_type": "execute_result"
    }
   ],
   "source": [
    "sparse_embedding"
   ]
  },
  {
   "cell_type": "code",
   "execution_count": 22,
   "id": "c6115281",
   "metadata": {},
   "outputs": [],
   "source": [
    "# Create sparse vector\n",
    "sparse_vector = SparseVector(\n",
    "    indices=sparse_embedding.indices.tolist(),\n",
    "    values=sparse_embedding.values.tolist()\n",
    "    )"
   ]
  },
  {
   "cell_type": "code",
   "execution_count": 23,
   "id": "50041521",
   "metadata": {},
   "outputs": [
    {
     "data": {
      "text/plain": [
       "SparseVector(indices=[1342301861, 1401524087], values=[0.34146955540420515, 0.2692715119050256])"
      ]
     },
     "execution_count": 23,
     "metadata": {},
     "output_type": "execute_result"
    }
   ],
   "source": [
    "sparse_vector"
   ]
  },
  {
   "cell_type": "code",
   "execution_count": 24,
   "id": "b3830116",
   "metadata": {},
   "outputs": [],
   "source": [
    "# Fusion query\n",
    "response = qdrant_client.query_points(\n",
    "    collection_name=COLLECTION_NAME,\n",
    "    prefetch=[\n",
    "        models.Prefetch(\n",
    "            query=sparse_vector,\n",
    "            using=\"sparse\",\n",
    "            limit=20,\n",
    "        ),\n",
    "        models.Prefetch(\n",
    "            query=dense_emb,\n",
    "            using=\"dense\",\n",
    "            limit=20,\n",
    "        ),\n",
    "    ],\n",
    "    query=models.FusionQuery(fusion=models.Fusion.RRF),\n",
    "    with_payload=True,\n",
    "    # with_vector=False,\n",
    "    limit=5\n",
    ")"
   ]
  },
  {
   "cell_type": "code",
   "execution_count": 26,
   "id": "d9dd1da9",
   "metadata": {},
   "outputs": [
    {
     "data": {
      "text/plain": [
       "QueryResponse(points=[ScoredPoint(id=12, version=0, score=0.64285713, payload={'text': 'In a Full-Service relationship with a dedicated ﬁnancial professional, you have access to a full suite of TIS brokerage and TAS \\ninvestment advisory products and services. Minimum asset balance requirements apply. You have a direct relationship with\\nyour ﬁnancial professional for investment strategies, recommendations, and guidance speciﬁc to your needs and goals. Full- \\nService brokerage accounts are eligible to invest in equities, ﬁxed income, ETFs, mutual funds, annuities, structured products,\\nalternative investments, and other securities on our Platform which TIS makes available to such accounts. \\nIn a Full-Service relationship with the Client Advisory Center (“CAC”), you have access to a more limited menu of TIS brokerage\\nproducts and services from which a CAC ﬁnancial professional can make recommendations, including mutual funds, annuities,\\nbrokered CDs, Treasuries, structured products, and certain advisory programs oﬀered through TAS. Individualized service is \\nprovided by a centralized team of telephone-based ﬁnancial professionals. \\nRecommendations do not include all possible investments and the availability of products and services will vary over time. TIS\\nreserves the right, in its sole discretion, to determine at any time and from time to time, and with or without advance notice,\\nwhich products and services we make available to our Full-Service brokerage accounts. We also reserve the right to reject \\ntransactions in our sole discretion. \\nFull-Service brokerage services are more expensive than Self-Directed brokerage services and charge higher commission rates\\non securities transactions.', 'file_path': './Data/tis-investing-guide.pdf', 'file_name': 'tis-investing-guide.pdf', 'file_size': 1041415, 'file_type': 'application/pdf', 'page_number': 3, 'format': 'PDF 1.6', 'title': 'Truist Investment Services, Inc. Investing Guide June 9, 2025', 'author': 'Truist', 'subject': 'Truist Investment Services, Inc. Investing Guide June 9, 2025', 'keywords': 'ADA', 'creator': 'Acrobat PDFMaker 24 for Word', 'producer': 'Adobe PDF Library 24.5.96', 'creationDate': \"D:20250403162636-04'00'\", 'modDate': \"D:20250430131511-04'00'\", 'trapped': '', 'encryption': None}, vector=None, shard_key=None, order_value=None), ScoredPoint(id=117, version=0, score=0.5, payload={'text': 'We and our Advisors have direct conflicts of interest in making \\nrecommendations to you in the case of Retirement Account Transactions because, if you do not engage in a Retirement \\nAccount Transaction and purchase our IRA retirement products and services, the Firm and your Advisor will not be \\ncompensated. For additional information relating to the Firm’s and our Advisors’ conflicts of interest associated with \\ninvestment services and the investment products we offer, and other conflicts of interest, please consult our Form CRS which \\nwe have concurrently or previously provided to you, and this TIS Investing Guide. These documents may also be obtained \\nonline at (https://www.truist.com/wealth/tas-disclosure) (https://www.truist.com/wealth/tis-disclosure) or by speaking with \\nyour Truist Advisor. \\nPLEASE NOTE, however, that our fiduciary duties and fiduciary status arising under the Retirement Account Advice Exemption\\nare limited to retirement investment advice we provide to you in connection with Retirement Account Transactions and that \\nthis retirement investment advice fiduciary status and associated fiduciary duties do not extend to any other aspects of our\\nother investment relationships with you. Instead, with regard to non- retirement account brokerage transactions, non-\\nretirement investment advisory relationship and other investment relationships which are not subject to the requirements of\\nthe Retirement Account Advice Exemption, our investment and other duties to you are determined by the terms of our\\naccount agreements with you, our disclosure materials, applicable laws and regulations and other factors.', 'file_path': './Data/tis-investing-guide.pdf', 'file_name': 'tis-investing-guide.pdf', 'file_size': 1041415, 'file_type': 'application/pdf', 'page_number': 22, 'format': 'PDF 1.6', 'title': 'Truist Investment Services, Inc. Investing Guide June 9, 2025', 'author': 'Truist', 'subject': 'Truist Investment Services, Inc. Investing Guide June 9, 2025', 'keywords': 'ADA', 'creator': 'Acrobat PDFMaker 24 for Word', 'producer': 'Adobe PDF Library 24.5.96', 'creationDate': \"D:20250403162636-04'00'\", 'modDate': \"D:20250430131511-04'00'\", 'trapped': '', 'encryption': None}, vector=None, shard_key=None, order_value=None), ScoredPoint(id=127, version=0, score=0.3611111, payload={'text': 'Only in-network providers can be used; out-of-network services aren’t available \\nexcept in emergencies.\\n\\t For either plan, check Aetna’s website to see if your provider is in network.\\n•\\t Kaiser Permanente – Kaiser Permanente has a network of providers and health care \\nfacilities in parts of California, Colorado, the Mid‑Atlantic (Maryland, Virginia, and \\nWashington, D.C.), and Pacific Northwest (Oregon and Washington). Their health care \\nfacilities offer many services under one roof, often including a pharmacy. You must \\nchoose your doctor on Healthy.KaiserPermanente.org, but you can switch to another \\nnetwork provider at any time. Your doctor and specialist will coordinate your care. \\nYou must use a Kaiser Permanente provider for your care to be covered (except in an \\nemergency). You’ll have the option of the Kaiser EPO or Kaiser $2,500 HDHP Plan. \\nAetna narrow network, ACO, and Kaiser plans are only available in certain areas, so \\nrefer to your enrollment options in Workday to see if you live within their service areas.', 'file_path': './Data/benefits-guide-2025.pdf', 'file_name': 'benefits-guide-2025.pdf', 'file_size': 17943458, 'file_type': 'application/pdf', 'page_number': 6, 'format': 'PDF 1.7', 'title': '2025 Benefits Guide - Truist', 'author': '', 'subject': '', 'keywords': '', 'creator': 'Adobe InDesign 19.5 (Macintosh)', 'producer': 'Adobe PDF Library 17.0', 'creationDate': \"D:20241017110454-04'00'\", 'modDate': \"D:20250221091522-05'00'\", 'trapped': '', 'encryption': None}, vector=None, shard_key=None, order_value=None), ScoredPoint(id=1, version=0, score=0.33333334, payload={'text': '(“TIS”) oﬀers and conﬂicts of interest that arise through delivery of \\nbrokerage services to you, along with how TIS aﬃliates, including Truist Advisory Services, Inc. and Truist Bank, can interact with \\nyou and TIS to provide additional non-brokerage services to your account. Our goal is to help you understand the products and \\nservices we oﬀer, fees involved, applicable compensation, and relevant conﬂicts of interest, so that you can make informed \\ninvestment decisions. \\nDeﬁned Terms \\nThe information contained in this document is current as of the date above and is subject to change at our discretion. You \\nshould review this document carefully, retain it with your records, and refer to it when you receive recommendations from us. \\nFor purposes of this guide, the terms “TIS,” “we,” “us” and “our” refer to Truist Investment Services, Inc., a wholly owned \\nsubsidiary of Truist Financial Corporation (“TFC”). TIS is a broker-dealer registered with the U.S. Securities and Exchange \\nCommission (“SEC”), a Member of the Financial Industry Regulatory Authority (“FINRA”) and the Securities Investor Protection\\nCorporation (“SIPC”), and a licensed insurance agency. \\nThe terms “you” and “your” refer to the owner of a brokerage account (“account” or “Brokerage Account”) held with TIS. For \\njoint accounts, these terms refer to all owners, collectively and individually.', 'file_path': './Data/tis-investing-guide.pdf', 'file_name': 'tis-investing-guide.pdf', 'file_size': 1041415, 'file_type': 'application/pdf', 'page_number': 1, 'format': 'PDF 1.6', 'title': 'Truist Investment Services, Inc. Investing Guide June 9, 2025', 'author': 'Truist', 'subject': 'Truist Investment Services, Inc. Investing Guide June 9, 2025', 'keywords': 'ADA', 'creator': 'Acrobat PDFMaker 24 for Word', 'producer': 'Adobe PDF Library 24.5.96', 'creationDate': \"D:20250403162636-04'00'\", 'modDate': \"D:20250430131511-04'00'\", 'trapped': '', 'encryption': None}, vector=None, shard_key=None, order_value=None), ScoredPoint(id=7, version=0, score=0.33333334, payload={'text': 'offers clients several ways to avoid annual fees. For example, the IRA annual maintenance fee will be waived for \\nhouseholds valued at $500,000 (or more) in brokerage assets. Please contact your financial professional for additional information. \\n** Truist Investment Services, Inc. offers clients several ways to avoid annual fees. For example, the Annual Custody fee and the Truist Trade Annual \\nSubscription Fee will be waived for households valued at $250,000 (or more) in applicable investment (non-deposit) assets. Please contact your financial \\nprofessional for additional information. \\n*** Excludes mutual fund exchanges and Systematic Withdrawal Plans. Fee is waived if documents are e-delivered. \\nAll recommendations regarding purchases or sales in your brokerage account will be made by your TIS ﬁnancial professional in \\na broker-dealer capacity only. Since brokerage and investment advisory products, services and fees diﬀer, it’s important you \\nunderstand the diﬀerences so you can choose the account and services that are right for your needs. For more details regarding \\nTAS and the investment advisory programs it oﬀers, please refer to Form CRS, Brochures, and other disclosures found at \\nhttps://www.truist.com/wealth/tas-disclosure.', 'file_path': './Data/tis-investing-guide.pdf', 'file_name': 'tis-investing-guide.pdf', 'file_size': 1041415, 'file_type': 'application/pdf', 'page_number': 2, 'format': 'PDF 1.6', 'title': 'Truist Investment Services, Inc. Investing Guide June 9, 2025', 'author': 'Truist', 'subject': 'Truist Investment Services, Inc. Investing Guide June 9, 2025', 'keywords': 'ADA', 'creator': 'Acrobat PDFMaker 24 for Word', 'producer': 'Adobe PDF Library 24.5.96', 'creationDate': \"D:20250403162636-04'00'\", 'modDate': \"D:20250430131511-04'00'\", 'trapped': '', 'encryption': None}, vector=None, shard_key=None, order_value=None)])"
      ]
     },
     "execution_count": 26,
     "metadata": {},
     "output_type": "execute_result"
    }
   ],
   "source": [
    "response"
   ]
  },
  {
   "cell_type": "code",
   "execution_count": 27,
   "id": "d41225a5",
   "metadata": {},
   "outputs": [
    {
     "data": {
      "text/plain": [
       "5"
      ]
     },
     "execution_count": 27,
     "metadata": {},
     "output_type": "execute_result"
    }
   ],
   "source": [
    "len(response.points)"
   ]
  },
  {
   "cell_type": "code",
   "execution_count": 34,
   "id": "4fd9b1eb",
   "metadata": {},
   "outputs": [
    {
     "data": {
      "text/plain": [
       "0.33333334"
      ]
     },
     "execution_count": 34,
     "metadata": {},
     "output_type": "execute_result"
    }
   ],
   "source": [
    "response.points[4].score"
   ]
  },
  {
   "cell_type": "code",
   "execution_count": 20,
   "id": "b9d5974c",
   "metadata": {},
   "outputs": [
    {
     "name": "stdout",
     "output_type": "stream",
     "text": [
      "ID: 12     \n",
      "Score: 0.64285713     \n",
      "Text: In a Full-Service relationship with a dedicated ﬁnancial professional, you have access to a full suite of TIS brokerage and TAS \n",
      "investment advisory products and services. Minimum asset balance requirements apply. You have a direct relationship with\n",
      "your ﬁnancial professional for investment strategies, recommendations, and guidance speciﬁc to your needs and goals. Full- \n",
      "Service brokerage accounts are eligible to invest in equities, ﬁxed income, ETFs, mutual funds, annuities, structured products,\n",
      "alternative investments, and other securities on our Platform which TIS makes available to such accounts. \n",
      "In a Full-Service relationship with the Client Advisory Center (“CAC”), you have access to a more limited menu of TIS brokerage\n",
      "products and services from which a CAC ﬁnancial professional can make recommendations, including mutual funds, annuities,\n",
      "brokered CDs, Treasuries, structured products, and certain advisory programs oﬀered through TAS. Individualized service is \n",
      "provided by a centralized team of telephone-based ﬁnancial professionals. \n",
      "Recommendations do not include all possible investments and the availability of products and services will vary over time. TIS\n",
      "reserves the right, in its sole discretion, to determine at any time and from time to time, and with or without advance notice,\n",
      "which products and services we make available to our Full-Service brokerage accounts. We also reserve the right to reject \n",
      "transactions in our sole discretion. \n",
      "Full-Service brokerage services are more expensive than Self-Directed brokerage services and charge higher commission rates\n",
      "on securities transactions.     \n",
      "Source: tis-investing-guide.pdf\n",
      "\n",
      "ID: 117     \n",
      "Score: 0.5     \n",
      "Text: We and our Advisors have direct conflicts of interest in making \n",
      "recommendations to you in the case of Retirement Account Transactions because, if you do not engage in a Retirement \n",
      "Account Transaction and purchase our IRA retirement products and services, the Firm and your Advisor will not be \n",
      "compensated. For additional information relating to the Firm’s and our Advisors’ conflicts of interest associated with \n",
      "investment services and the investment products we offer, and other conflicts of interest, please consult our Form CRS which \n",
      "we have concurrently or previously provided to you, and this TIS Investing Guide. These documents may also be obtained \n",
      "online at (https://www.truist.com/wealth/tas-disclosure) (https://www.truist.com/wealth/tis-disclosure) or by speaking with \n",
      "your Truist Advisor. \n",
      "PLEASE NOTE, however, that our fiduciary duties and fiduciary status arising under the Retirement Account Advice Exemption\n",
      "are limited to retirement investment advice we provide to you in connection with Retirement Account Transactions and that \n",
      "this retirement investment advice fiduciary status and associated fiduciary duties do not extend to any other aspects of our\n",
      "other investment relationships with you. Instead, with regard to non- retirement account brokerage transactions, non-\n",
      "retirement investment advisory relationship and other investment relationships which are not subject to the requirements of\n",
      "the Retirement Account Advice Exemption, our investment and other duties to you are determined by the terms of our\n",
      "account agreements with you, our disclosure materials, applicable laws and regulations and other factors.     \n",
      "Source: tis-investing-guide.pdf\n",
      "\n",
      "ID: 127     \n",
      "Score: 0.3611111     \n",
      "Text: Only in-network providers can be used; out-of-network services aren’t available \n",
      "except in emergencies.\n",
      "\t For either plan, check Aetna’s website to see if your provider is in network.\n",
      "•\t Kaiser Permanente – Kaiser Permanente has a network of providers and health care \n",
      "facilities in parts of California, Colorado, the Mid‑Atlantic (Maryland, Virginia, and \n",
      "Washington, D.C.), and Pacific Northwest (Oregon and Washington). Their health care \n",
      "facilities offer many services under one roof, often including a pharmacy. You must \n",
      "choose your doctor on Healthy.KaiserPermanente.org, but you can switch to another \n",
      "network provider at any time. Your doctor and specialist will coordinate your care. \n",
      "You must use a Kaiser Permanente provider for your care to be covered (except in an \n",
      "emergency). You’ll have the option of the Kaiser EPO or Kaiser $2,500 HDHP Plan. \n",
      "Aetna narrow network, ACO, and Kaiser plans are only available in certain areas, so \n",
      "refer to your enrollment options in Workday to see if you live within their service areas.     \n",
      "Source: benefits-guide-2025.pdf\n",
      "\n",
      "ID: 1     \n",
      "Score: 0.33333334     \n",
      "Text: (“TIS”) oﬀers and conﬂicts of interest that arise through delivery of \n",
      "brokerage services to you, along with how TIS aﬃliates, including Truist Advisory Services, Inc. and Truist Bank, can interact with \n",
      "you and TIS to provide additional non-brokerage services to your account. Our goal is to help you understand the products and \n",
      "services we oﬀer, fees involved, applicable compensation, and relevant conﬂicts of interest, so that you can make informed \n",
      "investment decisions. \n",
      "Deﬁned Terms \n",
      "The information contained in this document is current as of the date above and is subject to change at our discretion. You \n",
      "should review this document carefully, retain it with your records, and refer to it when you receive recommendations from us. \n",
      "For purposes of this guide, the terms “TIS,” “we,” “us” and “our” refer to Truist Investment Services, Inc., a wholly owned \n",
      "subsidiary of Truist Financial Corporation (“TFC”). TIS is a broker-dealer registered with the U.S. Securities and Exchange \n",
      "Commission (“SEC”), a Member of the Financial Industry Regulatory Authority (“FINRA”) and the Securities Investor Protection\n",
      "Corporation (“SIPC”), and a licensed insurance agency. \n",
      "The terms “you” and “your” refer to the owner of a brokerage account (“account” or “Brokerage Account”) held with TIS. For \n",
      "joint accounts, these terms refer to all owners, collectively and individually.     \n",
      "Source: tis-investing-guide.pdf\n",
      "\n",
      "ID: 7     \n",
      "Score: 0.33333334     \n",
      "Text: offers clients several ways to avoid annual fees. For example, the IRA annual maintenance fee will be waived for \n",
      "households valued at $500,000 (or more) in brokerage assets. Please contact your financial professional for additional information. \n",
      "** Truist Investment Services, Inc. offers clients several ways to avoid annual fees. For example, the Annual Custody fee and the Truist Trade Annual \n",
      "Subscription Fee will be waived for households valued at $250,000 (or more) in applicable investment (non-deposit) assets. Please contact your financial \n",
      "professional for additional information. \n",
      "*** Excludes mutual fund exchanges and Systematic Withdrawal Plans. Fee is waived if documents are e-delivered. \n",
      "All recommendations regarding purchases or sales in your brokerage account will be made by your TIS ﬁnancial professional in \n",
      "a broker-dealer capacity only. Since brokerage and investment advisory products, services and fees diﬀer, it’s important you \n",
      "understand the diﬀerences so you can choose the account and services that are right for your needs. For more details regarding \n",
      "TAS and the investment advisory programs it oﬀers, please refer to Form CRS, Brochures, and other disclosures found at \n",
      "https://www.truist.com/wealth/tas-disclosure.     \n",
      "Source: tis-investing-guide.pdf\n"
     ]
    }
   ],
   "source": [
    "# Format result\n",
    "serialized_1 = \"\\n\\n\".join(\n",
    "    (f\"ID: {pt.id}\\\n",
    "     \\nScore: {pt.score}\\\n",
    "     \\nText: {pt.payload['text']}\\\n",
    "     \\nSource: {pt.payload['file_name']\\\n",
    "     }\")\n",
    "    for pt in response.points\n",
    ")\n",
    "\n",
    "print(serialized_1)"
   ]
  },
  {
   "cell_type": "code",
   "execution_count": 35,
   "id": "63659cd8",
   "metadata": {},
   "outputs": [
    {
     "name": "stdout",
     "output_type": "stream",
     "text": [
      "Source: tis-investing-guide.pdf     \n",
      "Content: In a Full-Service relationship with a dedicated ﬁnancial professional, you have access to a full suite of TIS brokerage and TAS \n",
      "investment advisory products and services. Minimum asset balance requirements apply. You have a direct relationship with\n",
      "your ﬁnancial professional for investment strategies, recommendations, and guidance speciﬁc to your needs and goals. Full- \n",
      "Service brokerage accounts are eligible to invest in equities, ﬁxed income, ETFs, mutual funds, annuities, structured products,\n",
      "alternative investments, and other securities on our Platform which TIS makes available to such accounts. \n",
      "In a Full-Service relationship with the Client Advisory Center (“CAC”), you have access to a more limited menu of TIS brokerage\n",
      "products and services from which a CAC ﬁnancial professional can make recommendations, including mutual funds, annuities,\n",
      "brokered CDs, Treasuries, structured products, and certain advisory programs oﬀered through TAS. Individualized service is \n",
      "provided by a centralized team of telephone-based ﬁnancial professionals. \n",
      "Recommendations do not include all possible investments and the availability of products and services will vary over time. TIS\n",
      "reserves the right, in its sole discretion, to determine at any time and from time to time, and with or without advance notice,\n",
      "which products and services we make available to our Full-Service brokerage accounts. We also reserve the right to reject \n",
      "transactions in our sole discretion. \n",
      "Full-Service brokerage services are more expensive than Self-Directed brokerage services and charge higher commission rates\n",
      "on securities transactions.\n",
      "\n",
      "Source: tis-investing-guide.pdf     \n",
      "Content: We and our Advisors have direct conflicts of interest in making \n",
      "recommendations to you in the case of Retirement Account Transactions because, if you do not engage in a Retirement \n",
      "Account Transaction and purchase our IRA retirement products and services, the Firm and your Advisor will not be \n",
      "compensated. For additional information relating to the Firm’s and our Advisors’ conflicts of interest associated with \n",
      "investment services and the investment products we offer, and other conflicts of interest, please consult our Form CRS which \n",
      "we have concurrently or previously provided to you, and this TIS Investing Guide. These documents may also be obtained \n",
      "online at (https://www.truist.com/wealth/tas-disclosure) (https://www.truist.com/wealth/tis-disclosure) or by speaking with \n",
      "your Truist Advisor. \n",
      "PLEASE NOTE, however, that our fiduciary duties and fiduciary status arising under the Retirement Account Advice Exemption\n",
      "are limited to retirement investment advice we provide to you in connection with Retirement Account Transactions and that \n",
      "this retirement investment advice fiduciary status and associated fiduciary duties do not extend to any other aspects of our\n",
      "other investment relationships with you. Instead, with regard to non- retirement account brokerage transactions, non-\n",
      "retirement investment advisory relationship and other investment relationships which are not subject to the requirements of\n",
      "the Retirement Account Advice Exemption, our investment and other duties to you are determined by the terms of our\n",
      "account agreements with you, our disclosure materials, applicable laws and regulations and other factors.\n",
      "\n",
      "Source: benefits-guide-2025.pdf     \n",
      "Content: Only in-network providers can be used; out-of-network services aren’t available \n",
      "except in emergencies.\n",
      "\t For either plan, check Aetna’s website to see if your provider is in network.\n",
      "•\t Kaiser Permanente – Kaiser Permanente has a network of providers and health care \n",
      "facilities in parts of California, Colorado, the Mid‑Atlantic (Maryland, Virginia, and \n",
      "Washington, D.C.), and Pacific Northwest (Oregon and Washington). Their health care \n",
      "facilities offer many services under one roof, often including a pharmacy. You must \n",
      "choose your doctor on Healthy.KaiserPermanente.org, but you can switch to another \n",
      "network provider at any time. Your doctor and specialist will coordinate your care. \n",
      "You must use a Kaiser Permanente provider for your care to be covered (except in an \n",
      "emergency). You’ll have the option of the Kaiser EPO or Kaiser $2,500 HDHP Plan. \n",
      "Aetna narrow network, ACO, and Kaiser plans are only available in certain areas, so \n",
      "refer to your enrollment options in Workday to see if you live within their service areas.\n",
      "\n",
      "Source: tis-investing-guide.pdf     \n",
      "Content: (“TIS”) oﬀers and conﬂicts of interest that arise through delivery of \n",
      "brokerage services to you, along with how TIS aﬃliates, including Truist Advisory Services, Inc. and Truist Bank, can interact with \n",
      "you and TIS to provide additional non-brokerage services to your account. Our goal is to help you understand the products and \n",
      "services we oﬀer, fees involved, applicable compensation, and relevant conﬂicts of interest, so that you can make informed \n",
      "investment decisions. \n",
      "Deﬁned Terms \n",
      "The information contained in this document is current as of the date above and is subject to change at our discretion. You \n",
      "should review this document carefully, retain it with your records, and refer to it when you receive recommendations from us. \n",
      "For purposes of this guide, the terms “TIS,” “we,” “us” and “our” refer to Truist Investment Services, Inc., a wholly owned \n",
      "subsidiary of Truist Financial Corporation (“TFC”). TIS is a broker-dealer registered with the U.S. Securities and Exchange \n",
      "Commission (“SEC”), a Member of the Financial Industry Regulatory Authority (“FINRA”) and the Securities Investor Protection\n",
      "Corporation (“SIPC”), and a licensed insurance agency. \n",
      "The terms “you” and “your” refer to the owner of a brokerage account (“account” or “Brokerage Account”) held with TIS. For \n",
      "joint accounts, these terms refer to all owners, collectively and individually.\n",
      "\n",
      "Source: tis-investing-guide.pdf     \n",
      "Content: offers clients several ways to avoid annual fees. For example, the IRA annual maintenance fee will be waived for \n",
      "households valued at $500,000 (or more) in brokerage assets. Please contact your financial professional for additional information. \n",
      "** Truist Investment Services, Inc. offers clients several ways to avoid annual fees. For example, the Annual Custody fee and the Truist Trade Annual \n",
      "Subscription Fee will be waived for households valued at $250,000 (or more) in applicable investment (non-deposit) assets. Please contact your financial \n",
      "professional for additional information. \n",
      "*** Excludes mutual fund exchanges and Systematic Withdrawal Plans. Fee is waived if documents are e-delivered. \n",
      "All recommendations regarding purchases or sales in your brokerage account will be made by your TIS ﬁnancial professional in \n",
      "a broker-dealer capacity only. Since brokerage and investment advisory products, services and fees diﬀer, it’s important you \n",
      "understand the diﬀerences so you can choose the account and services that are right for your needs. For more details regarding \n",
      "TAS and the investment advisory programs it oﬀers, please refer to Form CRS, Brochures, and other disclosures found at \n",
      "https://www.truist.com/wealth/tas-disclosure.\n"
     ]
    }
   ],
   "source": [
    "serialized_2 = \"\\n\\n\".join(\n",
    "    (f\"Source: {pt.payload['file_name']}\\\n",
    "     \\n\" f\"Content: {pt.payload['text']}\")\n",
    "    for pt in response.points\n",
    "    )\n",
    "\n",
    "print(serialized_2)"
   ]
  },
  {
   "cell_type": "code",
   "execution_count": null,
   "metadata": {},
   "outputs": [],
   "source": []
  },
  {
   "cell_type": "markdown",
   "id": "7740e8fb",
   "metadata": {},
   "source": [
    "### Appendix\n",
    "\n",
    "Qdrant documentation at https://api.qdrant.tech/api-reference/search/query-points"
   ]
  },
  {
   "cell_type": "code",
   "execution_count": null,
   "metadata": {},
   "outputs": [],
   "source": [
    "from qdrant_client import QdrantClient, models\n",
    "\n",
    "client = QdrantClient(url=\"http://localhost:6333\")\n",
    "\n",
    "# Query nearest by ID\n",
    "nearest = client.query_points(\n",
    "    collection_name=\"{collection_name}\",\n",
    "    query=\"43cf51e2-8777-4f52-bc74-c2cbde0c8b04\",\n",
    ")\n",
    "\n",
    "# Recommend on the average of these vectors\n",
    "recommended = client.query_points(\n",
    "    collection_name=\"{collection_name}\",\n",
    "    query=models.RecommendQuery(recommend=models.RecommendInput(\n",
    "        positive=[\"43cf51e2-8777-4f52-bc74-c2cbde0c8b04\", [0.11, 0.35, 0.6, ...]],\n",
    "        negative=[[0.01, 0.45, 0.67, ...]]\n",
    "    ))\n",
    ")\n",
    "\n",
    "# Fusion query\n",
    "hybrid = client.query_points(\n",
    "    collection_name=\"{collection_name}\",\n",
    "    prefetch=[\n",
    "        models.Prefetch(\n",
    "            query=models.SparseVector(indices=[1, 42], values=[0.22, 0.8]),\n",
    "            using=\"sparse\",\n",
    "            limit=20,\n",
    "        ),\n",
    "        models.Prefetch(\n",
    "            query=[0.01, 0.45, 0.67, ...],  # <-- dense vector\n",
    "            using=\"dense\",\n",
    "            limit=20,\n",
    "        ),\n",
    "    ],\n",
    "    query=models.FusionQuery(fusion=models.Fusion.RRF),\n",
    ")\n",
    "\n",
    "# 2-stage query\n",
    "refined = client.query_points(\n",
    "    collection_name=\"{collection_name}\",\n",
    "    prefetch=models.Prefetch(\n",
    "        query=[0.01, 0.45, 0.67, ...],  # <-- dense vector\n",
    "        limit=100,\n",
    "    ),\n",
    "    query=[\n",
    "        [0.1, 0.2, ...],  # <─┐\n",
    "        [0.2, 0.1, ...],  # < ├─ multi-vector\n",
    "        [0.8, 0.9, ...],  # < ┘\n",
    "    ],\n",
    "    using=\"colbert\",\n",
    "    limit=10,\n",
    ")\n",
    "\n",
    "# Random sampling (as of 1.11.0)\n",
    "sampled = client.query_points(\n",
    "    collection_name=\"{collection_name}\",\n",
    "    query=models.SampleQuery(sample=models.Sample.RANDOM)\n",
    ")\n",
    "\n",
    "# Score boost depending on payload conditions (as of 1.14.0)\n",
    "tag_boosted = client.query_points(\n",
    "    collection_name=\"{collection_name}\",\n",
    "    prefetch=models.Prefetch(\n",
    "        query=[0.2, 0.8, ...],  # <-- dense vector\n",
    "        limit=50\n",
    "    ),\n",
    "    query=models.FormulaQuery(\n",
    "        formula=models.SumExpression(sum=[\n",
    "            \"$score\",\n",
    "            models.MultExpression(mult=[0.5, models.FieldCondition(key=\"tag\", match=models.MatchAny(any=[\"h1\", \"h2\", \"h3\", \"h4\"]))]),\n",
    "            models.MultExpression(mult=[0.25, models.FieldCondition(key=\"tag\", match=models.MatchAny(any=[\"p\", \"li\"]))])\n",
    "        ]\n",
    "    ))\n",
    ")\n",
    "\n",
    "# Score boost geographically closer points (as of 1.14.0)\n",
    "geo_boosted = client.query_points(\n",
    "    collection_name=\"{collection_name}\",\n",
    "    prefetch=models.Prefetch(\n",
    "        query=[0.2, 0.8, ...],  # <-- dense vector\n",
    "        limit=50\n",
    "    ),\n",
    "    query=models.FormulaQuery(\n",
    "        formula=models.SumExpression(sum=[\n",
    "            \"$score\",\n",
    "            models.GaussDecayExpression(\n",
    "                gauss_decay=models.DecayParamsExpression(\n",
    "                    x=models.GeoDistance(\n",
    "                        geo_distance=models.GeoDistanceParams(\n",
    "                            origin=models.GeoPoint(\n",
    "                                lat=52.504043,\n",
    "                                lon=13.393236\n",
    "                            ),  # Berlin\n",
    "                            to=\"geo.location\"\n",
    "                        )\n",
    "                    ),\n",
    "                    scale=5000  # 5km\n",
    "                )\n",
    "            )\n",
    "        ]),\n",
    "        defaults={\"geo.location\": models.GeoPoint(lat=48.137154, lon=11.576124)}  # Munich\n",
    "    )\n",
    ")\n"
   ]
  },
  {
   "cell_type": "code",
   "execution_count": null,
   "id": "231d244e",
   "metadata": {},
   "outputs": [],
   "source": []
  }
 ],
 "metadata": {
  "kernelspec": {
   "display_name": "base",
   "language": "python",
   "name": "python3"
  },
  "language_info": {
   "codemirror_mode": {
    "name": "ipython",
    "version": 3
   },
   "file_extension": ".py",
   "mimetype": "text/x-python",
   "name": "python",
   "nbconvert_exporter": "python",
   "pygments_lexer": "ipython3",
   "version": "3.13.5"
  }
 },
 "nbformat": 4,
 "nbformat_minor": 5
}
