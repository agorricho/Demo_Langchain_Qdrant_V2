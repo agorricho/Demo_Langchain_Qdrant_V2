{
 "cells": [
  {
   "cell_type": "markdown",
   "id": "7fa9a4d5",
   "metadata": {},
   "source": [
    "### Import dependencies"
   ]
  },
  {
   "cell_type": "markdown",
   "id": "1e8ea81f",
   "metadata": {},
   "source": [
    "### Import dependencies"
   ]
  },
  {
   "cell_type": "code",
   "execution_count": null,
   "id": "62a5f2de",
   "metadata": {},
   "outputs": [],
   "source": [
    "# %pip install spacy datasets span-marker scikit-learn"
   ]
  },
  {
   "cell_type": "code",
   "execution_count": null,
   "id": "31e93d42",
   "metadata": {},
   "outputs": [],
   "source": [
    "# %pip install numpy 2.0.0"
   ]
  },
  {
   "cell_type": "code",
   "execution_count": null,
   "id": "fdec6169",
   "metadata": {},
   "outputs": [],
   "source": [
    "# %pip install pandas 2.2.2"
   ]
  },
  {
   "cell_type": "code",
   "execution_count": 2,
   "id": "1791d462",
   "metadata": {},
   "outputs": [],
   "source": [
    "import os\n",
    "from dotenv import load_dotenv\n",
    "\n",
    "from openai import OpenAI\n",
    "\n",
    "from langchain.agents import AgentExecutor\n",
    "from langchain_openai import ChatOpenAI\n",
    "from langchain_core.prompts import ChatPromptTemplate, MessagesPlaceholder\n",
    "from langchain.agents import create_tool_calling_agent\n",
    "from langchain_core.prompts import PromptTemplate\n",
    "from langchain_community.vectorstores import SupabaseVectorStore\n",
    "from langchain_openai import OpenAIEmbeddings\n",
    "from langchain import hub\n",
    "from langchain_core.tools import tool\n",
    "\n",
    "from qdrant_client import QdrantClient\n",
    "from qdrant_client.http.models import Filter, SparseVector\n",
    "from fastembed import TextEmbedding, SparseTextEmbedding\n",
    "from langchain.vectorstores import Qdrant"
   ]
  },
  {
   "cell_type": "code",
   "execution_count": 3,
   "id": "e0013fbc",
   "metadata": {},
   "outputs": [],
   "source": [
    "# attach to the same event-loop\n",
    "import nest_asyncio\n",
    "\n",
    "nest_asyncio.apply()"
   ]
  },
  {
   "cell_type": "code",
   "execution_count": 4,
   "id": "70df8536",
   "metadata": {},
   "outputs": [],
   "source": [
    "from langchain.evaluation import (\n",
    "    EvaluatorType,\n",
    "    load_evaluator,\n",
    "    CriteriaEvalChain,\n",
    "    LabeledCriteriaEvalChain\n",
    ")\n",
    "from langchain.schema import Document\n",
    "import asyncio"
   ]
  },
  {
   "cell_type": "code",
   "execution_count": 5,
   "id": "c3a1079a",
   "metadata": {},
   "outputs": [],
   "source": [
    "import json\n",
    "from pathlib import Path"
   ]
  },
  {
   "cell_type": "code",
   "execution_count": 6,
   "id": "36021e6c",
   "metadata": {},
   "outputs": [],
   "source": [
    "import pandas as pd\n",
    "import numpy as np"
   ]
  },
  {
   "cell_type": "markdown",
   "id": "362eabf2",
   "metadata": {},
   "source": [
    "### Load environment variables"
   ]
  },
  {
   "cell_type": "code",
   "execution_count": null,
   "id": "aef854de",
   "metadata": {},
   "outputs": [],
   "source": [
    "# Load environment variables\n",
    "load_dotenv()\n",
    "QDRANT_URL = os.getenv(\"QDRANT_URL\")\n",
    "QDRANT_API_KEY = os.getenv(\"QDRANT_API_KEY\")\n",
    "COLLECTION_NAME = os.getenv(\"QDRANT_COLLECTION_NAME\")\n",
    "OPENAI_API_KEY= os.getenv(\"OPENAI_API_KEY\")"
   ]
  },
  {
   "cell_type": "code",
   "execution_count": 8,
   "id": "70f04f03",
   "metadata": {},
   "outputs": [],
   "source": [
    "# Initialize dense and sparse embedding models\n",
    "dense_model = TextEmbedding(model_name=\"sentence-transformers/all-MiniLM-L6-v2\")\n",
    "sparse_model = SparseTextEmbedding(model_name=\"Qdrant/bm42-all-minilm-l6-v2-attentions\")"
   ]
  },
  {
   "cell_type": "code",
   "execution_count": 9,
   "id": "a7c8f2cf",
   "metadata": {},
   "outputs": [
    {
     "name": "stderr",
     "output_type": "stream",
     "text": [
      "/tmp/ipykernel_20736/2748386960.py:2: UserWarning: Api key is used with an insecure connection.\n",
      "  qdrant_client = QdrantClient(\n"
     ]
    }
   ],
   "source": [
    "# Initialize Qdrant client\n",
    "qdrant_client = QdrantClient(\n",
    "    url=QDRANT_URL,\n",
    "    api_key=QDRANT_API_KEY,\n",
    ")\n"
   ]
  },
  {
   "cell_type": "code",
   "execution_count": 10,
   "id": "7eb62cbf",
   "metadata": {},
   "outputs": [],
   "source": [
    "# Initialize LLM\n",
    "llm = ChatOpenAI(temperature=0)\n",
    "\n"
   ]
  },
  {
   "cell_type": "code",
   "execution_count": 11,
   "id": "5dea6559",
   "metadata": {},
   "outputs": [
    {
     "name": "stderr",
     "output_type": "stream",
     "text": [
      "/home/agorricho/anaconda3/lib/python3.12/site-packages/langsmith/client.py:272: LangSmithMissingAPIKeyWarning: API key must be provided when using hosted LangSmith API\n",
      "  warnings.warn(\n"
     ]
    }
   ],
   "source": [
    "# fetch the prompt from the prompt hub\n",
    "prompt = hub.pull(\"hwchase17/openai-functions-agent\")"
   ]
  },
  {
   "cell_type": "code",
   "execution_count": 12,
   "id": "b2681946",
   "metadata": {},
   "outputs": [],
   "source": [
    "from qdrant_client import QdrantClient, models\n",
    "from langchain.agents import tool\n",
    "\n",
    "@tool(response_format=\"content_and_artifact\")\n",
    "def retrieve(query: str):\n",
    "    \"\"\"Perform hybrid (dense + sparse) search using Qdrant Query API.\"\"\"\n",
    "\n",
    "    # Generate dense and sparse embeddings\n",
    "    dense_emb = list(dense_model.embed([query]))[0]\n",
    "    sparse_emb = list(sparse_model.embed([query]))[0]\n",
    "    sparse_vector = models.SparseVector(\n",
    "        indices=sparse_emb.indices.tolist(),\n",
    "        values=sparse_emb.values.tolist()\n",
    "    )\n",
    "\n",
    "    \n",
    "    # Fusion query\n",
    "    context = qdrant_client.query_points(\n",
    "        collection_name=COLLECTION_NAME,\n",
    "        prefetch=[\n",
    "            models.Prefetch(\n",
    "                query=sparse_vector,\n",
    "                using=\"sparse\",\n",
    "                limit=20,\n",
    "            ),\n",
    "            models.Prefetch(\n",
    "                query=dense_emb,\n",
    "                using=\"dense\",\n",
    "                limit=20,\n",
    "            ),\n",
    "        ],\n",
    "        query=models.FusionQuery(fusion=models.Fusion.RRF),\n",
    "        with_payload=True,\n",
    "        # with_vector=False,\n",
    "        limit=5\n",
    "    )\n",
    "\n",
    "    # Format result\n",
    "    serialized = \"\\n\\n\".join(\n",
    "        (f\"ID: {pt.id}\\\n",
    "        \\nScore: {pt.score}\\\n",
    "        \\nText: {pt.payload['text']}\\\n",
    "        \\nSource: {pt.payload['file_name']}\\\n",
    "        \\nPage: {pt.payload['page_number']}\")\n",
    "        for pt in context.points\n",
    "    )\n",
    "\n",
    "    return serialized, context\n"
   ]
  },
  {
   "cell_type": "code",
   "execution_count": null,
   "id": "61692d99",
   "metadata": {},
   "outputs": [],
   "source": []
  },
  {
   "cell_type": "code",
   "execution_count": 13,
   "id": "f5b391d2",
   "metadata": {},
   "outputs": [],
   "source": [
    "query='what are the services offered'"
   ]
  },
  {
   "cell_type": "code",
   "execution_count": 14,
   "id": "0c320a0b",
   "metadata": {},
   "outputs": [
    {
     "name": "stderr",
     "output_type": "stream",
     "text": [
      "/tmp/ipykernel_20736/1996469919.py:1: LangChainDeprecationWarning: The method `BaseTool.__call__` was deprecated in langchain-core 0.1.47 and will be removed in 1.0. Use :meth:`~invoke` instead.\n",
      "  serialized = retrieve(query)\n"
     ]
    }
   ],
   "source": [
    "serialized = retrieve(query)"
   ]
  },
  {
   "cell_type": "code",
   "execution_count": 15,
   "id": "590c5be3",
   "metadata": {},
   "outputs": [
    {
     "name": "stdout",
     "output_type": "stream",
     "text": [
      "ID: 12        \n",
      "Score: 0.64285713        \n",
      "Text: In a Full-Service relationship with a dedicated ﬁnancial professional, you have access to a full suite of TIS brokerage and TAS \n",
      "investment advisory products and services. Minimum asset balance requirements apply. You have a direct relationship with\n",
      "your ﬁnancial professional for investment strategies, recommendations, and guidance speciﬁc to your needs and goals. Full- \n",
      "Service brokerage accounts are eligible to invest in equities, ﬁxed income, ETFs, mutual funds, annuities, structured products,\n",
      "alternative investments, and other securities on our Platform which TIS makes available to such accounts. \n",
      "In a Full-Service relationship with the Client Advisory Center (“CAC”), you have access to a more limited menu of TIS brokerage\n",
      "products and services from which a CAC ﬁnancial professional can make recommendations, including mutual funds, annuities,\n",
      "brokered CDs, Treasuries, structured products, and certain advisory programs oﬀered through TAS. Individualized service is \n",
      "provided by a centralized team of telephone-based ﬁnancial professionals. \n",
      "Recommendations do not include all possible investments and the availability of products and services will vary over time. TIS\n",
      "reserves the right, in its sole discretion, to determine at any time and from time to time, and with or without advance notice,\n",
      "which products and services we make available to our Full-Service brokerage accounts. We also reserve the right to reject \n",
      "transactions in our sole discretion. \n",
      "Full-Service brokerage services are more expensive than Self-Directed brokerage services and charge higher commission rates\n",
      "on securities transactions.        \n",
      "Source: tis-investing-guide.pdf        \n",
      "Page: 3\n",
      "\n",
      "ID: 117        \n",
      "Score: 0.5        \n",
      "Text: We and our Advisors have direct conflicts of interest in making \n",
      "recommendations to you in the case of Retirement Account Transactions because, if you do not engage in a Retirement \n",
      "Account Transaction and purchase our IRA retirement products and services, the Firm and your Advisor will not be \n",
      "compensated. For additional information relating to the Firm’s and our Advisors’ conflicts of interest associated with \n",
      "investment services and the investment products we offer, and other conflicts of interest, please consult our Form CRS which \n",
      "we have concurrently or previously provided to you, and this TIS Investing Guide. These documents may also be obtained \n",
      "online at (https://www.truist.com/wealth/tas-disclosure) (https://www.truist.com/wealth/tis-disclosure) or by speaking with \n",
      "your Truist Advisor. \n",
      "PLEASE NOTE, however, that our fiduciary duties and fiduciary status arising under the Retirement Account Advice Exemption\n",
      "are limited to retirement investment advice we provide to you in connection with Retirement Account Transactions and that \n",
      "this retirement investment advice fiduciary status and associated fiduciary duties do not extend to any other aspects of our\n",
      "other investment relationships with you. Instead, with regard to non- retirement account brokerage transactions, non-\n",
      "retirement investment advisory relationship and other investment relationships which are not subject to the requirements of\n",
      "the Retirement Account Advice Exemption, our investment and other duties to you are determined by the terms of our\n",
      "account agreements with you, our disclosure materials, applicable laws and regulations and other factors.        \n",
      "Source: tis-investing-guide.pdf        \n",
      "Page: 22\n",
      "\n",
      "ID: 127        \n",
      "Score: 0.3611111        \n",
      "Text: Only in-network providers can be used; out-of-network services aren’t available \n",
      "except in emergencies.\n",
      "\t For either plan, check Aetna’s website to see if your provider is in network.\n",
      "•\t Kaiser Permanente – Kaiser Permanente has a network of providers and health care \n",
      "facilities in parts of California, Colorado, the Mid‑Atlantic (Maryland, Virginia, and \n",
      "Washington, D.C.), and Pacific Northwest (Oregon and Washington). Their health care \n",
      "facilities offer many services under one roof, often including a pharmacy. You must \n",
      "choose your doctor on Healthy.KaiserPermanente.org, but you can switch to another \n",
      "network provider at any time. Your doctor and specialist will coordinate your care. \n",
      "You must use a Kaiser Permanente provider for your care to be covered (except in an \n",
      "emergency). You’ll have the option of the Kaiser EPO or Kaiser $2,500 HDHP Plan. \n",
      "Aetna narrow network, ACO, and Kaiser plans are only available in certain areas, so \n",
      "refer to your enrollment options in Workday to see if you live within their service areas.        \n",
      "Source: benefits-guide-2025.pdf        \n",
      "Page: 6\n",
      "\n",
      "ID: 1        \n",
      "Score: 0.33333334        \n",
      "Text: (“TIS”) oﬀers and conﬂicts of interest that arise through delivery of \n",
      "brokerage services to you, along with how TIS aﬃliates, including Truist Advisory Services, Inc. and Truist Bank, can interact with \n",
      "you and TIS to provide additional non-brokerage services to your account. Our goal is to help you understand the products and \n",
      "services we oﬀer, fees involved, applicable compensation, and relevant conﬂicts of interest, so that you can make informed \n",
      "investment decisions. \n",
      "Deﬁned Terms \n",
      "The information contained in this document is current as of the date above and is subject to change at our discretion. You \n",
      "should review this document carefully, retain it with your records, and refer to it when you receive recommendations from us. \n",
      "For purposes of this guide, the terms “TIS,” “we,” “us” and “our” refer to Truist Investment Services, Inc., a wholly owned \n",
      "subsidiary of Truist Financial Corporation (“TFC”). TIS is a broker-dealer registered with the U.S. Securities and Exchange \n",
      "Commission (“SEC”), a Member of the Financial Industry Regulatory Authority (“FINRA”) and the Securities Investor Protection\n",
      "Corporation (“SIPC”), and a licensed insurance agency. \n",
      "The terms “you” and “your” refer to the owner of a brokerage account (“account” or “Brokerage Account”) held with TIS. For \n",
      "joint accounts, these terms refer to all owners, collectively and individually.        \n",
      "Source: tis-investing-guide.pdf        \n",
      "Page: 1\n",
      "\n",
      "ID: 7        \n",
      "Score: 0.33333334        \n",
      "Text: offers clients several ways to avoid annual fees. For example, the IRA annual maintenance fee will be waived for \n",
      "households valued at $500,000 (or more) in brokerage assets. Please contact your financial professional for additional information. \n",
      "** Truist Investment Services, Inc. offers clients several ways to avoid annual fees. For example, the Annual Custody fee and the Truist Trade Annual \n",
      "Subscription Fee will be waived for households valued at $250,000 (or more) in applicable investment (non-deposit) assets. Please contact your financial \n",
      "professional for additional information. \n",
      "*** Excludes mutual fund exchanges and Systematic Withdrawal Plans. Fee is waived if documents are e-delivered. \n",
      "All recommendations regarding purchases or sales in your brokerage account will be made by your TIS ﬁnancial professional in \n",
      "a broker-dealer capacity only. Since brokerage and investment advisory products, services and fees diﬀer, it’s important you \n",
      "understand the diﬀerences so you can choose the account and services that are right for your needs. For more details regarding \n",
      "TAS and the investment advisory programs it oﬀers, please refer to Form CRS, Brochures, and other disclosures found at \n",
      "https://www.truist.com/wealth/tas-disclosure.        \n",
      "Source: tis-investing-guide.pdf        \n",
      "Page: 2\n"
     ]
    }
   ],
   "source": [
    "print(serialized)"
   ]
  },
  {
   "cell_type": "code",
   "execution_count": 19,
   "id": "fd11b7a3",
   "metadata": {},
   "outputs": [
    {
     "data": {
      "text/plain": [
       "SparseEmbedding(values=array([0.34146956, 0.26927151]), indices=array([1342301861, 1401524087]))"
      ]
     },
     "execution_count": 19,
     "metadata": {},
     "output_type": "execute_result"
    }
   ],
   "source": [
    "sparse_embedding"
   ]
  },
  {
   "cell_type": "code",
   "execution_count": 20,
   "id": "c6115281",
   "metadata": {},
   "outputs": [],
   "source": [
    "# Create sparse vector\n",
    "sparse_vector = SparseVector(\n",
    "    indices=sparse_embedding.indices.tolist(),\n",
    "    values=sparse_embedding.values.tolist()\n",
    "    )"
   ]
  },
  {
   "cell_type": "code",
   "execution_count": 21,
   "id": "50041521",
   "metadata": {},
   "outputs": [
    {
     "data": {
      "text/plain": [
       "SparseVector(indices=[1342301861, 1401524087], values=[0.34146955540420515, 0.2692715119050256])"
      ]
     },
     "execution_count": 21,
     "metadata": {},
     "output_type": "execute_result"
    }
   ],
   "source": [
    "sparse_vector"
   ]
  },
  {
   "cell_type": "code",
   "execution_count": 22,
   "id": "b3830116",
   "metadata": {},
   "outputs": [],
   "source": [
    "# Fusion query\n",
    "response = qdrant_client.query_points(\n",
    "    collection_name=COLLECTION_NAME,\n",
    "    prefetch=[\n",
    "        models.Prefetch(\n",
    "            query=sparse_vector,\n",
    "            using=\"sparse\",\n",
    "            limit=20,\n",
    "        ),\n",
    "        models.Prefetch(\n",
    "            query=dense_emb,\n",
    "            using=\"dense\",\n",
    "            limit=20,\n",
    "        ),\n",
    "    ],\n",
    "    query=models.FusionQuery(fusion=models.Fusion.RRF),\n",
    "    with_payload=True,\n",
    "    # with_vector=False,\n",
    "    limit=5\n",
    ")"
   ]
  },
  {
   "cell_type": "code",
   "execution_count": 24,
   "id": "d41225a5",
   "metadata": {},
   "outputs": [
    {
     "data": {
      "text/plain": [
       "5"
      ]
     },
     "execution_count": 24,
     "metadata": {},
     "output_type": "execute_result"
    }
   ],
   "source": [
    "len(response.points)"
   ]
  },
  {
   "cell_type": "code",
   "execution_count": 25,
   "id": "4fd9b1eb",
   "metadata": {},
   "outputs": [
    {
     "data": {
      "text/plain": [
       "0.33333334"
      ]
     },
     "execution_count": 25,
     "metadata": {},
     "output_type": "execute_result"
    }
   ],
   "source": [
    "response.points[4].score"
   ]
  },
  {
   "cell_type": "code",
   "execution_count": 26,
   "id": "b9d5974c",
   "metadata": {},
   "outputs": [
    {
     "name": "stdout",
     "output_type": "stream",
     "text": [
      "ID: 12     \n",
      "Score: 0.64285713     \n",
      "Text: In a Full-Service relationship with a dedicated ﬁnancial professional, you have access to a full suite of TIS brokerage and TAS \n",
      "investment advisory products and services. Minimum asset balance requirements apply. You have a direct relationship with\n",
      "your ﬁnancial professional for investment strategies, recommendations, and guidance speciﬁc to your needs and goals. Full- \n",
      "Service brokerage accounts are eligible to invest in equities, ﬁxed income, ETFs, mutual funds, annuities, structured products,\n",
      "alternative investments, and other securities on our Platform which TIS makes available to such accounts. \n",
      "In a Full-Service relationship with the Client Advisory Center (“CAC”), you have access to a more limited menu of TIS brokerage\n",
      "products and services from which a CAC ﬁnancial professional can make recommendations, including mutual funds, annuities,\n",
      "brokered CDs, Treasuries, structured products, and certain advisory programs oﬀered through TAS. Individualized service is \n",
      "provided by a centralized team of telephone-based ﬁnancial professionals. \n",
      "Recommendations do not include all possible investments and the availability of products and services will vary over time. TIS\n",
      "reserves the right, in its sole discretion, to determine at any time and from time to time, and with or without advance notice,\n",
      "which products and services we make available to our Full-Service brokerage accounts. We also reserve the right to reject \n",
      "transactions in our sole discretion. \n",
      "Full-Service brokerage services are more expensive than Self-Directed brokerage services and charge higher commission rates\n",
      "on securities transactions.     \n",
      "Source: tis-investing-guide.pdf\n",
      "\n",
      "ID: 117     \n",
      "Score: 0.5     \n",
      "Text: We and our Advisors have direct conflicts of interest in making \n",
      "recommendations to you in the case of Retirement Account Transactions because, if you do not engage in a Retirement \n",
      "Account Transaction and purchase our IRA retirement products and services, the Firm and your Advisor will not be \n",
      "compensated. For additional information relating to the Firm’s and our Advisors’ conflicts of interest associated with \n",
      "investment services and the investment products we offer, and other conflicts of interest, please consult our Form CRS which \n",
      "we have concurrently or previously provided to you, and this TIS Investing Guide. These documents may also be obtained \n",
      "online at (https://www.truist.com/wealth/tas-disclosure) (https://www.truist.com/wealth/tis-disclosure) or by speaking with \n",
      "your Truist Advisor. \n",
      "PLEASE NOTE, however, that our fiduciary duties and fiduciary status arising under the Retirement Account Advice Exemption\n",
      "are limited to retirement investment advice we provide to you in connection with Retirement Account Transactions and that \n",
      "this retirement investment advice fiduciary status and associated fiduciary duties do not extend to any other aspects of our\n",
      "other investment relationships with you. Instead, with regard to non- retirement account brokerage transactions, non-\n",
      "retirement investment advisory relationship and other investment relationships which are not subject to the requirements of\n",
      "the Retirement Account Advice Exemption, our investment and other duties to you are determined by the terms of our\n",
      "account agreements with you, our disclosure materials, applicable laws and regulations and other factors.     \n",
      "Source: tis-investing-guide.pdf\n",
      "\n",
      "ID: 127     \n",
      "Score: 0.3611111     \n",
      "Text: Only in-network providers can be used; out-of-network services aren’t available \n",
      "except in emergencies.\n",
      "\t For either plan, check Aetna’s website to see if your provider is in network.\n",
      "•\t Kaiser Permanente – Kaiser Permanente has a network of providers and health care \n",
      "facilities in parts of California, Colorado, the Mid‑Atlantic (Maryland, Virginia, and \n",
      "Washington, D.C.), and Pacific Northwest (Oregon and Washington). Their health care \n",
      "facilities offer many services under one roof, often including a pharmacy. You must \n",
      "choose your doctor on Healthy.KaiserPermanente.org, but you can switch to another \n",
      "network provider at any time. Your doctor and specialist will coordinate your care. \n",
      "You must use a Kaiser Permanente provider for your care to be covered (except in an \n",
      "emergency). You’ll have the option of the Kaiser EPO or Kaiser $2,500 HDHP Plan. \n",
      "Aetna narrow network, ACO, and Kaiser plans are only available in certain areas, so \n",
      "refer to your enrollment options in Workday to see if you live within their service areas.     \n",
      "Source: benefits-guide-2025.pdf\n",
      "\n",
      "ID: 7     \n",
      "Score: 0.33333334     \n",
      "Text: offers clients several ways to avoid annual fees. For example, the IRA annual maintenance fee will be waived for \n",
      "households valued at $500,000 (or more) in brokerage assets. Please contact your financial professional for additional information. \n",
      "** Truist Investment Services, Inc. offers clients several ways to avoid annual fees. For example, the Annual Custody fee and the Truist Trade Annual \n",
      "Subscription Fee will be waived for households valued at $250,000 (or more) in applicable investment (non-deposit) assets. Please contact your financial \n",
      "professional for additional information. \n",
      "*** Excludes mutual fund exchanges and Systematic Withdrawal Plans. Fee is waived if documents are e-delivered. \n",
      "All recommendations regarding purchases or sales in your brokerage account will be made by your TIS ﬁnancial professional in \n",
      "a broker-dealer capacity only. Since brokerage and investment advisory products, services and fees diﬀer, it’s important you \n",
      "understand the diﬀerences so you can choose the account and services that are right for your needs. For more details regarding \n",
      "TAS and the investment advisory programs it oﬀers, please refer to Form CRS, Brochures, and other disclosures found at \n",
      "https://www.truist.com/wealth/tas-disclosure.     \n",
      "Source: tis-investing-guide.pdf\n",
      "\n",
      "ID: 1     \n",
      "Score: 0.33333334     \n",
      "Text: (“TIS”) oﬀers and conﬂicts of interest that arise through delivery of \n",
      "brokerage services to you, along with how TIS aﬃliates, including Truist Advisory Services, Inc. and Truist Bank, can interact with \n",
      "you and TIS to provide additional non-brokerage services to your account. Our goal is to help you understand the products and \n",
      "services we oﬀer, fees involved, applicable compensation, and relevant conﬂicts of interest, so that you can make informed \n",
      "investment decisions. \n",
      "Deﬁned Terms \n",
      "The information contained in this document is current as of the date above and is subject to change at our discretion. You \n",
      "should review this document carefully, retain it with your records, and refer to it when you receive recommendations from us. \n",
      "For purposes of this guide, the terms “TIS,” “we,” “us” and “our” refer to Truist Investment Services, Inc., a wholly owned \n",
      "subsidiary of Truist Financial Corporation (“TFC”). TIS is a broker-dealer registered with the U.S. Securities and Exchange \n",
      "Commission (“SEC”), a Member of the Financial Industry Regulatory Authority (“FINRA”) and the Securities Investor Protection\n",
      "Corporation (“SIPC”), and a licensed insurance agency. \n",
      "The terms “you” and “your” refer to the owner of a brokerage account (“account” or “Brokerage Account”) held with TIS. For \n",
      "joint accounts, these terms refer to all owners, collectively and individually.     \n",
      "Source: tis-investing-guide.pdf\n"
     ]
    }
   ],
   "source": [
    "# Format result\n",
    "serialized_1 = \"\\n\\n\".join(\n",
    "    (f\"ID: {pt.id}\\\n",
    "     \\nScore: {pt.score}\\\n",
    "     \\nText: {pt.payload['text']}\\\n",
    "     \\nSource: {pt.payload['file_name']\\\n",
    "     }\")\n",
    "    for pt in response.points\n",
    ")\n",
    "\n",
    "print(serialized_1)"
   ]
  },
  {
   "cell_type": "code",
   "execution_count": 27,
   "id": "63659cd8",
   "metadata": {},
   "outputs": [
    {
     "name": "stdout",
     "output_type": "stream",
     "text": [
      "Source: tis-investing-guide.pdf     \n",
      "Content: In a Full-Service relationship with a dedicated ﬁnancial professional, you have access to a full suite of TIS brokerage and TAS \n",
      "investment advisory products and services. Minimum asset balance requirements apply. You have a direct relationship with\n",
      "your ﬁnancial professional for investment strategies, recommendations, and guidance speciﬁc to your needs and goals. Full- \n",
      "Service brokerage accounts are eligible to invest in equities, ﬁxed income, ETFs, mutual funds, annuities, structured products,\n",
      "alternative investments, and other securities on our Platform which TIS makes available to such accounts. \n",
      "In a Full-Service relationship with the Client Advisory Center (“CAC”), you have access to a more limited menu of TIS brokerage\n",
      "products and services from which a CAC ﬁnancial professional can make recommendations, including mutual funds, annuities,\n",
      "brokered CDs, Treasuries, structured products, and certain advisory programs oﬀered through TAS. Individualized service is \n",
      "provided by a centralized team of telephone-based ﬁnancial professionals. \n",
      "Recommendations do not include all possible investments and the availability of products and services will vary over time. TIS\n",
      "reserves the right, in its sole discretion, to determine at any time and from time to time, and with or without advance notice,\n",
      "which products and services we make available to our Full-Service brokerage accounts. We also reserve the right to reject \n",
      "transactions in our sole discretion. \n",
      "Full-Service brokerage services are more expensive than Self-Directed brokerage services and charge higher commission rates\n",
      "on securities transactions.\n",
      "\n",
      "Source: tis-investing-guide.pdf     \n",
      "Content: We and our Advisors have direct conflicts of interest in making \n",
      "recommendations to you in the case of Retirement Account Transactions because, if you do not engage in a Retirement \n",
      "Account Transaction and purchase our IRA retirement products and services, the Firm and your Advisor will not be \n",
      "compensated. For additional information relating to the Firm’s and our Advisors’ conflicts of interest associated with \n",
      "investment services and the investment products we offer, and other conflicts of interest, please consult our Form CRS which \n",
      "we have concurrently or previously provided to you, and this TIS Investing Guide. These documents may also be obtained \n",
      "online at (https://www.truist.com/wealth/tas-disclosure) (https://www.truist.com/wealth/tis-disclosure) or by speaking with \n",
      "your Truist Advisor. \n",
      "PLEASE NOTE, however, that our fiduciary duties and fiduciary status arising under the Retirement Account Advice Exemption\n",
      "are limited to retirement investment advice we provide to you in connection with Retirement Account Transactions and that \n",
      "this retirement investment advice fiduciary status and associated fiduciary duties do not extend to any other aspects of our\n",
      "other investment relationships with you. Instead, with regard to non- retirement account brokerage transactions, non-\n",
      "retirement investment advisory relationship and other investment relationships which are not subject to the requirements of\n",
      "the Retirement Account Advice Exemption, our investment and other duties to you are determined by the terms of our\n",
      "account agreements with you, our disclosure materials, applicable laws and regulations and other factors.\n",
      "\n",
      "Source: benefits-guide-2025.pdf     \n",
      "Content: Only in-network providers can be used; out-of-network services aren’t available \n",
      "except in emergencies.\n",
      "\t For either plan, check Aetna’s website to see if your provider is in network.\n",
      "•\t Kaiser Permanente – Kaiser Permanente has a network of providers and health care \n",
      "facilities in parts of California, Colorado, the Mid‑Atlantic (Maryland, Virginia, and \n",
      "Washington, D.C.), and Pacific Northwest (Oregon and Washington). Their health care \n",
      "facilities offer many services under one roof, often including a pharmacy. You must \n",
      "choose your doctor on Healthy.KaiserPermanente.org, but you can switch to another \n",
      "network provider at any time. Your doctor and specialist will coordinate your care. \n",
      "You must use a Kaiser Permanente provider for your care to be covered (except in an \n",
      "emergency). You’ll have the option of the Kaiser EPO or Kaiser $2,500 HDHP Plan. \n",
      "Aetna narrow network, ACO, and Kaiser plans are only available in certain areas, so \n",
      "refer to your enrollment options in Workday to see if you live within their service areas.\n",
      "\n",
      "Source: tis-investing-guide.pdf     \n",
      "Content: offers clients several ways to avoid annual fees. For example, the IRA annual maintenance fee will be waived for \n",
      "households valued at $500,000 (or more) in brokerage assets. Please contact your financial professional for additional information. \n",
      "** Truist Investment Services, Inc. offers clients several ways to avoid annual fees. For example, the Annual Custody fee and the Truist Trade Annual \n",
      "Subscription Fee will be waived for households valued at $250,000 (or more) in applicable investment (non-deposit) assets. Please contact your financial \n",
      "professional for additional information. \n",
      "*** Excludes mutual fund exchanges and Systematic Withdrawal Plans. Fee is waived if documents are e-delivered. \n",
      "All recommendations regarding purchases or sales in your brokerage account will be made by your TIS ﬁnancial professional in \n",
      "a broker-dealer capacity only. Since brokerage and investment advisory products, services and fees diﬀer, it’s important you \n",
      "understand the diﬀerences so you can choose the account and services that are right for your needs. For more details regarding \n",
      "TAS and the investment advisory programs it oﬀers, please refer to Form CRS, Brochures, and other disclosures found at \n",
      "https://www.truist.com/wealth/tas-disclosure.\n",
      "\n",
      "Source: tis-investing-guide.pdf     \n",
      "Content: (“TIS”) oﬀers and conﬂicts of interest that arise through delivery of \n",
      "brokerage services to you, along with how TIS aﬃliates, including Truist Advisory Services, Inc. and Truist Bank, can interact with \n",
      "you and TIS to provide additional non-brokerage services to your account. Our goal is to help you understand the products and \n",
      "services we oﬀer, fees involved, applicable compensation, and relevant conﬂicts of interest, so that you can make informed \n",
      "investment decisions. \n",
      "Deﬁned Terms \n",
      "The information contained in this document is current as of the date above and is subject to change at our discretion. You \n",
      "should review this document carefully, retain it with your records, and refer to it when you receive recommendations from us. \n",
      "For purposes of this guide, the terms “TIS,” “we,” “us” and “our” refer to Truist Investment Services, Inc., a wholly owned \n",
      "subsidiary of Truist Financial Corporation (“TFC”). TIS is a broker-dealer registered with the U.S. Securities and Exchange \n",
      "Commission (“SEC”), a Member of the Financial Industry Regulatory Authority (“FINRA”) and the Securities Investor Protection\n",
      "Corporation (“SIPC”), and a licensed insurance agency. \n",
      "The terms “you” and “your” refer to the owner of a brokerage account (“account” or “Brokerage Account”) held with TIS. For \n",
      "joint accounts, these terms refer to all owners, collectively and individually.\n"
     ]
    }
   ],
   "source": [
    "serialized_2 = \"\\n\\n\".join(\n",
    "    (f\"Source: {pt.payload['file_name']}\\\n",
    "     \\n\" f\"Content: {pt.payload['text']}\")\n",
    "    for pt in response.points\n",
    "    )\n",
    "\n",
    "print(serialized_2)"
   ]
  },
  {
   "cell_type": "code",
   "execution_count": 28,
   "id": "14864440",
   "metadata": {},
   "outputs": [],
   "source": [
    "tools = [retrieve]\n",
    "agent = create_tool_calling_agent(llm, tools, prompt)\n",
    "\n",
    "# create the agent executor\n",
    "agent_executor = AgentExecutor(agent=agent, tools=tools, verbose=True)"
   ]
  },
  {
   "cell_type": "code",
   "execution_count": 29,
   "id": "6ded20df",
   "metadata": {},
   "outputs": [],
   "source": [
    "class ContextBasedEvaluator:\n",
    "    def __init__(self, llm_model=\"gpt-3.5-turbo\", temperature=0):\n",
    "        if llm_model is None:\n",
    "            self.llm = ChatOpenAI(temperature=temperature)\n",
    "        elif isinstance(llm_model, str):\n",
    "            self.llm = ChatOpenAI(model=llm_model, temperature=temperature)\n",
    "        else:\n",
    "            # Assume it's already an LLM instance\n",
    "            self.llm = llm_model\n",
    "        self._setup_evaluators()\n",
    "\n",
    "    def _setup_evaluators(self):\n",
    "        self.correctness = LabeledCriteriaEvalChain.from_llm(self.llm, criteria=\"correctness\")\n",
    "        self.relevance = CriteriaEvalChain.from_llm(self.llm, criteria=\"relevance\")\n",
    "        self.faithfulness = CriteriaEvalChain.from_llm(self.llm, criteria=\"coherence\")\n",
    "        self.helpfulness = CriteriaEvalChain.from_llm(self.llm, criteria=\"helpfulness\")\n",
    "\n",
    "    def evaluate(\n",
    "        self,\n",
    "        question: str,\n",
    "        generated_answer: str,\n",
    "        context: str,\n",
    "        reference_answer: str = None\n",
    "    ):\n",
    "        results = {\n",
    "            \"question\": question,\n",
    "            \"generated_answer\": generated_answer,\n",
    "            \"reference_answer\": reference_answer,\n",
    "            \"context\": serialized_1\n",
    "        }\n",
    "\n",
    "        try:\n",
    "            f = self.faithfulness.evaluate_strings(\n",
    "                prediction=generated_answer,\n",
    "                input=f\"Context: {context}\\nQuestion: {question}\"\n",
    "            )\n",
    "            results.update({\"faithfulness_score\": f[\"score\"], \"faithfulness_reasoning\": f[\"reasoning\"]})\n",
    "        except Exception as e:\n",
    "            results.update({\"faithfulness_score\": None, \"faithfulness_reasoning\": str(e)})\n",
    "\n",
    "        try:\n",
    "            r = self.relevance.evaluate_strings(prediction=generated_answer, input=question)\n",
    "            results.update({\"relevance_score\": r[\"score\"], \"relevance_reasoning\": r[\"reasoning\"]})\n",
    "        except Exception as e:\n",
    "            results.update({\"relevance_score\": None, \"relevance_reasoning\": str(e)})\n",
    "\n",
    "        try:\n",
    "            h = self.helpfulness.evaluate_strings(\n",
    "                prediction=generated_answer,\n",
    "                input=f\"Context: {context}\\nQuestion: {question}\"\n",
    "            )\n",
    "            results.update({\"helpfulness_score\": h[\"score\"], \"helpfulness_reasoning\": h[\"reasoning\"]})\n",
    "        except Exception as e:\n",
    "            results.update({\"helpfulness_score\": None, \"helpfulness_reasoning\": str(e)})\n",
    "\n",
    "        if reference_answer:\n",
    "            try:\n",
    "                c = self.correctness.evaluate_strings(\n",
    "                    prediction=generated_answer,\n",
    "                    input=question,\n",
    "                    reference=reference_answer\n",
    "                )\n",
    "                results.update({\"correctness_score\": c[\"score\"], \"correctness_reasoning\": c[\"reasoning\"]})\n",
    "            except Exception as e:\n",
    "                results.update({\"correctness_score\": None, \"correctness_reasoning\": str(e)})\n",
    "\n",
    "        return results"
   ]
  },
  {
   "cell_type": "code",
   "execution_count": 30,
   "id": "8da34512",
   "metadata": {},
   "outputs": [
    {
     "name": "stdout",
     "output_type": "stream",
     "text": [
      "\n",
      "\n",
      "\u001b[1m> Entering new AgentExecutor chain...\u001b[0m\n",
      "\u001b[32;1m\u001b[1;3m\n",
      "Invoking: `retrieve` with `{'query': 'services offered'}`\n",
      "\n",
      "\n",
      "\u001b[0m\u001b[36;1m\u001b[1;3mID: 12        \n",
      "Score: 0.64285713        \n",
      "Text: In a Full-Service relationship with a dedicated ﬁnancial professional, you have access to a full suite of TIS brokerage and TAS \n",
      "investment advisory products and services. Minimum asset balance requirements apply. You have a direct relationship with\n",
      "your ﬁnancial professional for investment strategies, recommendations, and guidance speciﬁc to your needs and goals. Full- \n",
      "Service brokerage accounts are eligible to invest in equities, ﬁxed income, ETFs, mutual funds, annuities, structured products,\n",
      "alternative investments, and other securities on our Platform which TIS makes available to such accounts. \n",
      "In a Full-Service relationship with the Client Advisory Center (“CAC”), you have access to a more limited menu of TIS brokerage\n",
      "products and services from which a CAC ﬁnancial professional can make recommendations, including mutual funds, annuities,\n",
      "brokered CDs, Treasuries, structured products, and certain advisory programs oﬀered through TAS. Individualized service is \n",
      "provided by a centralized team of telephone-based ﬁnancial professionals. \n",
      "Recommendations do not include all possible investments and the availability of products and services will vary over time. TIS\n",
      "reserves the right, in its sole discretion, to determine at any time and from time to time, and with or without advance notice,\n",
      "which products and services we make available to our Full-Service brokerage accounts. We also reserve the right to reject \n",
      "transactions in our sole discretion. \n",
      "Full-Service brokerage services are more expensive than Self-Directed brokerage services and charge higher commission rates\n",
      "on securities transactions.        \n",
      "Source: tis-investing-guide.pdf        \n",
      "Page: 3\n",
      "\n",
      "ID: 117        \n",
      "Score: 0.5        \n",
      "Text: We and our Advisors have direct conflicts of interest in making \n",
      "recommendations to you in the case of Retirement Account Transactions because, if you do not engage in a Retirement \n",
      "Account Transaction and purchase our IRA retirement products and services, the Firm and your Advisor will not be \n",
      "compensated. For additional information relating to the Firm’s and our Advisors’ conflicts of interest associated with \n",
      "investment services and the investment products we offer, and other conflicts of interest, please consult our Form CRS which \n",
      "we have concurrently or previously provided to you, and this TIS Investing Guide. These documents may also be obtained \n",
      "online at (https://www.truist.com/wealth/tas-disclosure) (https://www.truist.com/wealth/tis-disclosure) or by speaking with \n",
      "your Truist Advisor. \n",
      "PLEASE NOTE, however, that our fiduciary duties and fiduciary status arising under the Retirement Account Advice Exemption\n",
      "are limited to retirement investment advice we provide to you in connection with Retirement Account Transactions and that \n",
      "this retirement investment advice fiduciary status and associated fiduciary duties do not extend to any other aspects of our\n",
      "other investment relationships with you. Instead, with regard to non- retirement account brokerage transactions, non-\n",
      "retirement investment advisory relationship and other investment relationships which are not subject to the requirements of\n",
      "the Retirement Account Advice Exemption, our investment and other duties to you are determined by the terms of our\n",
      "account agreements with you, our disclosure materials, applicable laws and regulations and other factors.        \n",
      "Source: tis-investing-guide.pdf        \n",
      "Page: 22\n",
      "\n",
      "ID: 7        \n",
      "Score: 0.33333334        \n",
      "Text: offers clients several ways to avoid annual fees. For example, the IRA annual maintenance fee will be waived for \n",
      "households valued at $500,000 (or more) in brokerage assets. Please contact your financial professional for additional information. \n",
      "** Truist Investment Services, Inc. offers clients several ways to avoid annual fees. For example, the Annual Custody fee and the Truist Trade Annual \n",
      "Subscription Fee will be waived for households valued at $250,000 (or more) in applicable investment (non-deposit) assets. Please contact your financial \n",
      "professional for additional information. \n",
      "*** Excludes mutual fund exchanges and Systematic Withdrawal Plans. Fee is waived if documents are e-delivered. \n",
      "All recommendations regarding purchases or sales in your brokerage account will be made by your TIS ﬁnancial professional in \n",
      "a broker-dealer capacity only. Since brokerage and investment advisory products, services and fees diﬀer, it’s important you \n",
      "understand the diﬀerences so you can choose the account and services that are right for your needs. For more details regarding \n",
      "TAS and the investment advisory programs it oﬀers, please refer to Form CRS, Brochures, and other disclosures found at \n",
      "https://www.truist.com/wealth/tas-disclosure.        \n",
      "Source: tis-investing-guide.pdf        \n",
      "Page: 2\n",
      "\n",
      "ID: 1        \n",
      "Score: 0.33333334        \n",
      "Text: (“TIS”) oﬀers and conﬂicts of interest that arise through delivery of \n",
      "brokerage services to you, along with how TIS aﬃliates, including Truist Advisory Services, Inc. and Truist Bank, can interact with \n",
      "you and TIS to provide additional non-brokerage services to your account. Our goal is to help you understand the products and \n",
      "services we oﬀer, fees involved, applicable compensation, and relevant conﬂicts of interest, so that you can make informed \n",
      "investment decisions. \n",
      "Deﬁned Terms \n",
      "The information contained in this document is current as of the date above and is subject to change at our discretion. You \n",
      "should review this document carefully, retain it with your records, and refer to it when you receive recommendations from us. \n",
      "For purposes of this guide, the terms “TIS,” “we,” “us” and “our” refer to Truist Investment Services, Inc., a wholly owned \n",
      "subsidiary of Truist Financial Corporation (“TFC”). TIS is a broker-dealer registered with the U.S. Securities and Exchange \n",
      "Commission (“SEC”), a Member of the Financial Industry Regulatory Authority (“FINRA”) and the Securities Investor Protection\n",
      "Corporation (“SIPC”), and a licensed insurance agency. \n",
      "The terms “you” and “your” refer to the owner of a brokerage account (“account” or “Brokerage Account”) held with TIS. For \n",
      "joint accounts, these terms refer to all owners, collectively and individually.        \n",
      "Source: tis-investing-guide.pdf        \n",
      "Page: 1\n",
      "\n",
      "ID: 103        \n",
      "Score: 0.25        \n",
      "Text: Additional information regarding SBL is available at \n",
      "https://www.truist.com/wealth/solutions/lending. \n",
      "Fully Paid Securities Lending \n",
      "Through our relationship with National Financial Services LLC (“NFS”), TIS offers a fully paid securities lending (“FPSL”) program\n",
      "which is designed to offer incremental income to TIS customers through the securities-lending market. TIS customers can \n",
      "participate in the FPSL program by contracting directly with NFS. \n",
      "The FPSL program is potentially available to you if you hold positions of eligible U.S. equities that may be difficult to borrow; \n",
      "consequently, these securities can be valuable to lend. Generally, FPSL allows you to lend fully paid and excess margin \n",
      "securities that NFS desires to borrow. NFS borrows as principal and is the counterparty for all loans, which are fully\n",
      "collateralized and marked to market daily. In return, you receive compensation as an interest rate-based lending fee that is\n",
      "calculated by multiplying the loan rate by the market value of the securities on loan. The interest rates paid are based on the\n",
      "relative value of the individual securities in the securities-lending market and are subject to change based upon market\n",
      "conditions and borrowing demand. You maintain full economic ownership of the securities on loan and may sell the securities \n",
      "or recall the loan at any time. \n",
      "TIS is permitted to deem certain account types and securities as ineligible for participation in the FPSL program.        \n",
      "Source: tis-investing-guide.pdf        \n",
      "Page: 20\u001b[0m\u001b[32;1m\u001b[1;3mThe company offers a full suite of brokerage and investment advisory products and services through a Full-Service relationship with a dedicated financial professional. These services include investing in equities, fixed income, ETFs, mutual funds, annuities, structured products, alternative investments, and other securities. Additionally, there are ways to avoid annual fees for households with certain asset values. The company also provides fully paid securities lending programs for incremental income through the securities-lending market.\n",
      "\n",
      "If you need more specific information about any particular service, feel free to ask!\u001b[0m\n",
      "\n",
      "\u001b[1m> Finished chain.\u001b[0m\n"
     ]
    }
   ],
   "source": [
    "tools = [retrieve]\n",
    "agent = create_tool_calling_agent(llm, tools, prompt)\n",
    "\n",
    "# create the agent executor\n",
    "agent_executor = AgentExecutor(agent=agent, tools=tools, verbose=True)\n",
    "\n",
    "\n",
    "query = \"Which are the services offered by the company?\"\n",
    "chatbot_result = agent_executor.invoke({\"input\": query})\n",
    "generated_answer = chatbot_result[\"output\"]\n"
   ]
  },
  {
   "cell_type": "code",
   "execution_count": 31,
   "id": "c23ddd0f",
   "metadata": {},
   "outputs": [
    {
     "ename": "NameError",
     "evalue": "name 'reference_answer' is not defined",
     "output_type": "error",
     "traceback": [
      "\u001b[0;31m---------------------------------------------------------------------------\u001b[0m",
      "\u001b[0;31mNameError\u001b[0m                                 Traceback (most recent call last)",
      "Cell \u001b[0;32mIn[31], line 6\u001b[0m\n\u001b[1;32m      1\u001b[0m evaluator \u001b[38;5;241m=\u001b[39m ContextBasedEvaluator()\n\u001b[1;32m      2\u001b[0m results \u001b[38;5;241m=\u001b[39m evaluator\u001b[38;5;241m.\u001b[39mevaluate(\n\u001b[1;32m      3\u001b[0m     question\u001b[38;5;241m=\u001b[39mquery,\n\u001b[1;32m      4\u001b[0m     generated_answer\u001b[38;5;241m=\u001b[39mgenerated_answer,\n\u001b[1;32m      5\u001b[0m     context\u001b[38;5;241m=\u001b[39mserialized_1,\n\u001b[0;32m----> 6\u001b[0m     reference_answer\u001b[38;5;241m=\u001b[39mreference_answer\n\u001b[1;32m      7\u001b[0m )\n\u001b[1;32m      8\u001b[0m \u001b[38;5;66;03m# 4. Output result\u001b[39;00m\n\u001b[1;32m      9\u001b[0m \u001b[38;5;28mprint\u001b[39m(results)\n",
      "\u001b[0;31mNameError\u001b[0m: name 'reference_answer' is not defined"
     ]
    }
   ],
   "source": [
    "evaluator = ContextBasedEvaluator()\n",
    "results = evaluator.evaluate(\n",
    "    question=query,\n",
    "    generated_answer=generated_answer,\n",
    "    context=serialized_1,\n",
    "    reference_answer=reference_answer\n",
    ")\n",
    "# 4. Output result\n",
    "print(results)"
   ]
  },
  {
   "cell_type": "code",
   "execution_count": null,
   "id": "cfcdc41e",
   "metadata": {},
   "outputs": [],
   "source": [
    "import textwrap"
   ]
  },
  {
   "cell_type": "code",
   "execution_count": null,
   "id": "d4833cb7",
   "metadata": {},
   "outputs": [],
   "source": []
  },
  {
   "cell_type": "code",
   "execution_count": null,
   "id": "84c49432",
   "metadata": {},
   "outputs": [],
   "source": [
    "pd.set_option('display.max_colwidth', None)\n",
    "pd.set_option('display.width', None)\n",
    "pd.set_option('display.max_columns', None)\n",
    "\n",
    "# If your results is a dictionary as in your code:\n",
    "# results = {\n",
    "#     \"question\": ...,\n",
    "#     \"generated_answer\": ...,\n",
    "#     \"reference_answer\": ...,\n",
    "#     \"context\": ...,\n",
    "#     \"faithfulness_score\": ...,\n",
    "#     \"faithfulness_reasoning\": ...,\n",
    "#     \"relevance_score\": ...,\n",
    "#     \"relevance_reasoning\": ...,\n",
    "#     \"helpfulness_score\": ...,\n",
    "#     \"helpfulness_reasoning\": ...,\n",
    "#     \"correctness_score\": ...,\n",
    "#     \"correctness_reasoning\": ...\n",
    "# }\n",
    "\n",
    "# Create a DataFrame with explicit columns for each category\n",
    "df = pd.DataFrame([{\n",
    "    \"Question\": results.get(\"question\"),\n",
    "    \"Generated Answer\": results.get(\"generated_answer\"),\n",
    "    \"Reference Answer\": results.get(\"reference_answer\"),\n",
    "    \"Context\": results.get(\"context\"),\n",
    "    \"Faithfulness Score\": results.get(\"faithfulness_score\"),\n",
    "    \"Faithfulness Reasoning\": results.get(\"faithfulness_reasoning\"),\n",
    "    \"Relevance Score\": results.get(\"relevance_score\"),\n",
    "    \"Relevance Reasoning\": results.get(\"relevance_reasoning\"),\n",
    "    \"Helpfulness Score\": results.get(\"helpfulness_score\"),\n",
    "    \"Helpfulness Reasoning\": results.get(\"helpfulness_reasoning\"),\n",
    "    \"Correctness Score\": results.get(\"correctness_score\"),\n",
    "    \"Correctness Reasoning\": results.get(\"correctness_reasoning\"),\n",
    "}])\n",
    "def wrap_text(x):\n",
    "    if isinstance(x, str):\n",
    "        return \"\\n\".join(textwrap.wrap(x, width=80))\n",
    "    return x\n",
    "\n",
    "df_wrapped = df.applymap(wrap_text)\n",
    "\n",
    "from IPython.display import display\n",
    "display(df_wrapped)"
   ]
  },
  {
   "cell_type": "code",
   "execution_count": null,
   "id": "674d011a",
   "metadata": {},
   "outputs": [],
   "source": [
    "\n",
    "print(response)"
   ]
  },
  {
   "cell_type": "code",
   "execution_count": null,
   "id": "36a81606",
   "metadata": {},
   "outputs": [],
   "source": [
    "# combine the tools and provide to the llm\n",
    "tools = [retrieve]\n",
    "agent = create_tool_calling_agent(llm, tools, prompt)\n",
    "\n",
    "# create the agent executor\n",
    "agent_executor = AgentExecutor(agent=agent, tools=tools, verbose=True)"
   ]
  },
  {
   "cell_type": "code",
   "execution_count": null,
   "id": "0b88f78c",
   "metadata": {},
   "outputs": [],
   "source": [
    "# invoke the agent\n",
    "response = agent_executor.invoke({\"input\": \"which are the services offered by the company?\"})"
   ]
  },
  {
   "cell_type": "code",
   "execution_count": null,
   "id": "22270c47",
   "metadata": {},
   "outputs": [],
   "source": [
    "print(response['output'])"
   ]
  },
  {
   "cell_type": "code",
   "execution_count": null,
   "id": "3d213e92",
   "metadata": {},
   "outputs": [],
   "source": [
    "# invoke the agent\n",
    "response = agent_executor.invoke({\"input\": \"which are the main risk factors highlighted in the document?\"})"
   ]
  },
  {
   "cell_type": "code",
   "execution_count": null,
   "id": "fc1a4388",
   "metadata": {},
   "outputs": [],
   "source": [
    "print(response['output'])"
   ]
  },
  {
   "cell_type": "code",
   "execution_count": null,
   "id": "73e7a74a",
   "metadata": {},
   "outputs": [],
   "source": []
  },
  {
   "cell_type": "markdown",
   "id": "7740e8fb",
   "metadata": {},
   "source": [
    "### Appendix\n",
    "\n",
    "Qdrant documentation at https://api.qdrant.tech/api-reference/search/query-points"
   ]
  },
  {
   "cell_type": "code",
   "execution_count": null,
   "id": "789374c1",
   "metadata": {},
   "outputs": [],
   "source": [
    "from qdrant_client import QdrantClient, models\n",
    "\n",
    "client = QdrantClient(url=\"http://localhost:6333\")\n",
    "\n",
    "# Query nearest by ID\n",
    "nearest = client.query_points(\n",
    "    collection_name=\"{collection_name}\",\n",
    "    query=\"43cf51e2-8777-4f52-bc74-c2cbde0c8b04\",\n",
    ")\n",
    "\n",
    "# Recommend on the average of these vectors\n",
    "recommended = client.query_points(\n",
    "    collection_name=\"{collection_name}\",\n",
    "    query=models.RecommendQuery(recommend=models.RecommendInput(\n",
    "        positive=[\"43cf51e2-8777-4f52-bc74-c2cbde0c8b04\", [0.11, 0.35, 0.6, ...]],\n",
    "        negative=[[0.01, 0.45, 0.67, ...]]\n",
    "    ))\n",
    ")\n",
    "\n",
    "# Fusion query\n",
    "hybrid = client.query_points(\n",
    "    collection_name=\"{collection_name}\",\n",
    "    prefetch=[\n",
    "        models.Prefetch(\n",
    "            query=models.SparseVector(indices=[1, 42], values=[0.22, 0.8]),\n",
    "            using=\"sparse\",\n",
    "            limit=20,\n",
    "        ),\n",
    "        models.Prefetch(\n",
    "            query=[0.01, 0.45, 0.67, ...],  # <-- dense vector\n",
    "            using=\"dense\",\n",
    "            limit=20,\n",
    "        ),\n",
    "    ],\n",
    "    query=models.FusionQuery(fusion=models.Fusion.RRF),\n",
    ")\n",
    "\n",
    "# 2-stage query\n",
    "refined = client.query_points(\n",
    "    collection_name=\"{collection_name}\",\n",
    "    prefetch=models.Prefetch(\n",
    "        query=[0.01, 0.45, 0.67, ...],  # <-- dense vector\n",
    "        limit=100,\n",
    "    ),\n",
    "    query=[\n",
    "        [0.1, 0.2, ...],  # <─┐\n",
    "        [0.2, 0.1, ...],  # < ├─ multi-vector\n",
    "        [0.8, 0.9, ...],  # < ┘\n",
    "    ],\n",
    "    using=\"colbert\",\n",
    "    limit=10,\n",
    ")\n",
    "\n",
    "# Random sampling (as of 1.11.0)\n",
    "sampled = client.query_points(\n",
    "    collection_name=\"{collection_name}\",\n",
    "    query=models.SampleQuery(sample=models.Sample.RANDOM)\n",
    ")\n",
    "\n",
    "# Score boost depending on payload conditions (as of 1.14.0)\n",
    "tag_boosted = client.query_points(\n",
    "    collection_name=\"{collection_name}\",\n",
    "    prefetch=models.Prefetch(\n",
    "        query=[0.2, 0.8, ...],  # <-- dense vector\n",
    "        limit=50\n",
    "    ),\n",
    "    query=models.FormulaQuery(\n",
    "        formula=models.SumExpression(sum=[\n",
    "            \"$score\",\n",
    "            models.MultExpression(mult=[0.5, models.FieldCondition(key=\"tag\", match=models.MatchAny(any=[\"h1\", \"h2\", \"h3\", \"h4\"]))]),\n",
    "            models.MultExpression(mult=[0.25, models.FieldCondition(key=\"tag\", match=models.MatchAny(any=[\"p\", \"li\"]))])\n",
    "        ]\n",
    "    ))\n",
    ")\n",
    "\n",
    "# Score boost geographically closer points (as of 1.14.0)\n",
    "geo_boosted = client.query_points(\n",
    "    collection_name=\"{collection_name}\",\n",
    "    prefetch=models.Prefetch(\n",
    "        query=[0.2, 0.8, ...],  # <-- dense vector\n",
    "        limit=50\n",
    "    ),\n",
    "    query=models.FormulaQuery(\n",
    "        formula=models.SumExpression(sum=[\n",
    "            \"$score\",\n",
    "            models.GaussDecayExpression(\n",
    "                gauss_decay=models.DecayParamsExpression(\n",
    "                    x=models.GeoDistance(\n",
    "                        geo_distance=models.GeoDistanceParams(\n",
    "                            origin=models.GeoPoint(\n",
    "                                lat=52.504043,\n",
    "                                lon=13.393236\n",
    "                            ),  # Berlin\n",
    "                            to=\"geo.location\"\n",
    "                        )\n",
    "                    ),\n",
    "                    scale=5000  # 5km\n",
    "                )\n",
    "            )\n",
    "        ]),\n",
    "        defaults={\"geo.location\": models.GeoPoint(lat=48.137154, lon=11.576124)}  # Munich\n",
    "    )\n",
    ")\n"
   ]
  },
  {
   "cell_type": "code",
   "execution_count": null,
   "id": "231d244e",
   "metadata": {},
   "outputs": [],
   "source": []
  }
 ],
 "metadata": {
  "kernelspec": {
   "display_name": "base",
   "language": "python",
   "name": "python3"
  },
  "language_info": {
   "codemirror_mode": {
    "name": "ipython",
    "version": 3
   },
   "file_extension": ".py",
   "mimetype": "text/x-python",
   "name": "python",
   "nbconvert_exporter": "python",
   "pygments_lexer": "ipython3",
   "version": "3.12.7"
  }
 },
 "nbformat": 4,
 "nbformat_minor": 5
}
