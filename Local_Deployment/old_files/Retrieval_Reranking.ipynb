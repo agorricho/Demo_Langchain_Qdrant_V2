{
 "cells": [
  {
   "cell_type": "markdown",
   "id": "9e043873",
   "metadata": {},
   "source": [
    "### Import dependencies"
   ]
  },
  {
   "cell_type": "code",
   "execution_count": 1,
   "id": "323f22bd",
   "metadata": {},
   "outputs": [],
   "source": [
    "from sentence_transformers import CrossEncoder\n",
    "import logging\n",
    "from dotenv import load_dotenv\n",
    "load_dotenv()\n",
    "import os\n",
    "from fastembed import SparseTextEmbedding, TextEmbedding\n",
    "from qdrant_client import QdrantClient, models\n",
    "from qdrant_client.http.models import SparseVector\n",
    "from typing import List, Union\n",
    "from sentence_transformers import CrossEncoder\n",
    "\n",
    "from typing import List\n",
    "import pprint\n",
    "\n",
    "from llama_index.core.memory import ChatMemoryBuffer\n",
    "from llama_index.core.tools import FunctionTool\n",
    "from llama_index.llms.openai import OpenAI \n",
    "from llama_index.agent.openai import OpenAIAgent\n",
    "from pydantic import BaseModel"
   ]
  },
  {
   "cell_type": "code",
   "execution_count": null,
   "id": "5967ff99",
   "metadata": {},
   "outputs": [],
   "source": []
  },
  {
   "cell_type": "markdown",
   "id": "f2e9a002",
   "metadata": {},
   "source": [
    "### Define environment variables"
   ]
  },
  {
   "cell_type": "code",
   "execution_count": 2,
   "id": "cc85212a",
   "metadata": {},
   "outputs": [],
   "source": [
    "Qdrant_API_KEY = os.getenv('QDRANT_API_KEY')\n",
    "Qdrant_URL = os.getenv('QDRANT_URL')\n",
    "Collection_Name = os.getenv('Collection_Name')\n",
    "# Qdrant_port=int(os.getenv('Qdrant_port')) ### REVISAR\n",
    "# Qdrant_grpc=int(os.getenv('Qdrant_grpc')) ### REVISAR"
   ]
  },
  {
   "cell_type": "code",
   "execution_count": null,
   "id": "0bd2fcde",
   "metadata": {},
   "outputs": [],
   "source": []
  },
  {
   "cell_type": "code",
   "execution_count": null,
   "id": "669f95c2",
   "metadata": {},
   "outputs": [],
   "source": []
  },
  {
   "cell_type": "code",
   "execution_count": null,
   "id": "272fd7ec",
   "metadata": {},
   "outputs": [],
   "source": []
  }
 ],
 "metadata": {
  "kernelspec": {
   "display_name": "base",
   "language": "python",
   "name": "python3"
  },
  "language_info": {
   "codemirror_mode": {
    "name": "ipython",
    "version": 3
   },
   "file_extension": ".py",
   "mimetype": "text/x-python",
   "name": "python",
   "nbconvert_exporter": "python",
   "pygments_lexer": "ipython3",
   "version": "3.12.7"
  }
 },
 "nbformat": 4,
 "nbformat_minor": 5
}
